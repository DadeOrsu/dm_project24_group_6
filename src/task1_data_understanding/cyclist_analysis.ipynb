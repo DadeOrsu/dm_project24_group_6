{
 "cells": [
  {
   "cell_type": "markdown",
   "metadata": {},
   "source": [
    "# DATA ANALYSIS (RACERS) TASK 1\n",
    "In this notebook we are going to asses the quality of the racers dataset provided for the course project\n"
   ]
  },
  {
   "cell_type": "code",
   "execution_count": 124,
   "metadata": {},
   "outputs": [],
   "source": [
    "import pandas as pd\n",
    "import matplotlib.pyplot as plt\n",
    "from os import path\n",
    "datasetname=path.join('..','..','..','dataset', 'cyclists.csv')\n",
    "df=pd.read_csv(datasetname)\n"
   ]
  },
  {
   "cell_type": "markdown",
   "metadata": {},
   "source": [
    "## WRONG DATA\n",
    "To asses which are the wrong data in the dataset we have to check the data type in the dataset."
   ]
  },
  {
   "cell_type": "code",
   "execution_count": 125,
   "metadata": {},
   "outputs": [
    {
     "name": "stdout",
     "output_type": "stream",
     "text": [
      "<class 'pandas.core.frame.DataFrame'>\n",
      "RangeIndex: 6134 entries, 0 to 6133\n",
      "Data columns (total 6 columns):\n",
      " #   Column       Non-Null Count  Dtype  \n",
      "---  ------       --------------  -----  \n",
      " 0   _url         6134 non-null   object \n",
      " 1   name         6134 non-null   object \n",
      " 2   birth_year   6121 non-null   float64\n",
      " 3   weight       3078 non-null   float64\n",
      " 4   height       3143 non-null   float64\n",
      " 5   nationality  6133 non-null   object \n",
      "dtypes: float64(3), object(3)\n",
      "memory usage: 287.7+ KB\n"
     ]
    }
   ],
   "source": [
    "df.info()"
   ]
  },
  {
   "cell_type": "markdown",
   "metadata": {},
   "source": [
    "Just from the info command we can start to see the first problems, the url, name and nationality should be string types, the birth_year should be an Integer type, weight and height are ok to be float64.\n",
    "Now we can show every element which don't respect the natural type to check what are the problems."
   ]
  },
  {
   "cell_type": "markdown",
   "metadata": {},
   "source": [
    "First we check if the object is an inference choice for string values or if there are some kind of null pointer or not accepted values"
   ]
  },
  {
   "cell_type": "code",
   "execution_count": 126,
   "metadata": {},
   "outputs": [],
   "source": [
    "def wrong_type(valore, tipo_atteso):\n",
    "    try:\n",
    "        return not isinstance(valore, tipo_atteso)\n",
    "    except:\n",
    "        return True  "
   ]
  },
  {
   "cell_type": "markdown",
   "metadata": {},
   "source": [
    "### _url"
   ]
  },
  {
   "cell_type": "code",
   "execution_count": 127,
   "metadata": {},
   "outputs": [
    {
     "name": "stdout",
     "output_type": "stream",
     "text": [
      "Series([], Name: _url, dtype: object)\n"
     ]
    }
   ],
   "source": [
    "column = '_url'\n",
    "wrong_elements = df[df[column].apply(wrong_type, tipo_atteso=str)]\n",
    "\n",
    "print(wrong_elements[column])"
   ]
  },
  {
   "cell_type": "markdown",
   "metadata": {},
   "source": [
    "As we can see all the elements are str type. Since the url are in the form \"name-surname\" we can check if for all the rows this rule is respected."
   ]
  },
  {
   "cell_type": "markdown",
   "metadata": {},
   "source": [
    "In this case we can see that the main differences between the two column is the replacing of the double whitespace with a '-' (name-surname), the replace of the singular withespace with a '-' (first name-second name) and the standardization of the letters with accent in the base form (è in e) ."
   ]
  },
  {
   "cell_type": "code",
   "execution_count": 128,
   "metadata": {},
   "outputs": [
    {
     "name": "stdout",
     "output_type": "stream",
     "text": [
      "                         name                            _url\n",
      "19             Michał  Paluta                   michal-paluta\n",
      "25        Graeme Allen  Brown                    graeme-brown\n",
      "32           Piotr  Przydział                 piotr-przydzial\n",
      "49           Jesús  Rodríguez       jesus-rodriguez-rodriguez\n",
      "68              Ivan  Herrero           iban-herrero-atienzar\n",
      "...                       ...                             ...\n",
      "6093  Raúl Alexander  Montaña  raul-alexander-montana-herrera\n",
      "6112     Juan Carlos  Jusdado      juan-carlos-jusdado-ibanez\n",
      "6113           Joseba  Albizu            joseba-albizu-lizaso\n",
      "6121         Jacob  Hindsgaul          jacob-hindsgaul-madsen\n",
      "6129      Juan José  Martínez         juan-jose-martinez-diaz\n",
      "\n",
      "[618 rows x 2 columns]\n"
     ]
    }
   ],
   "source": [
    "import unicodedata\n",
    "\n",
    "def remove_accent(text):\n",
    "    text = unicodedata.normalize('NFKD', text).encode('ASCII', 'ignore').decode('utf-8')\n",
    "    return text\n",
    "\n",
    "differences = df[df['name'].apply(remove_accent).str.lower().str.replace('  ', '-').str.replace(' ','-') != df['_url']]\n",
    "\n",
    "print(differences[['name', '_url']])"
   ]
  },
  {
   "cell_type": "markdown",
   "metadata": {},
   "source": [
    "From this analysis we can see that there are 618 rows which don't respect the main conversion rules, some with missin elements (second name or surname) and some with wrong characters. In some cases in the '_url' there are more information in respect of the 'name' column, because of that it's better to split the column 'name' in 'name' and 'surname' ('secondname' could cause too many empty elements) and rebuild the full name of every rider thanks to the column with more information."
   ]
  },
  {
   "cell_type": "code",
   "execution_count": 129,
   "metadata": {},
   "outputs": [
    {
     "name": "stdout",
     "output_type": "stream",
     "text": [
      "Nan indexes '_url': []\n",
      "Numbner of missing values '_url': 0\n"
     ]
    }
   ],
   "source": [
    "nan_indexes = df.index[df[column].isna()].tolist()\n",
    "\n",
    "print(f\"Nan indexes '{column}': {nan_indexes}\")\n",
    "print(f\"Numbner of missing values '{column}': {len(nan_indexes)}\")"
   ]
  },
  {
   "cell_type": "markdown",
   "metadata": {},
   "source": [
    "We have no missing values in this column."
   ]
  },
  {
   "cell_type": "markdown",
   "metadata": {},
   "source": [
    "### name"
   ]
  },
  {
   "cell_type": "code",
   "execution_count": 130,
   "metadata": {},
   "outputs": [
    {
     "name": "stdout",
     "output_type": "stream",
     "text": [
      "Series([], Name: name, dtype: object)\n"
     ]
    }
   ],
   "source": [
    "column = 'name'\n",
    "wrong_elements = df[df[column].apply(wrong_type, tipo_atteso=str)]\n",
    "\n",
    "print(wrong_elements[column])"
   ]
  },
  {
   "cell_type": "code",
   "execution_count": 131,
   "metadata": {},
   "outputs": [
    {
     "name": "stdout",
     "output_type": "stream",
     "text": [
      "Nan indexes 'name': []\n",
      "Numbner of missing values 'name': 0\n"
     ]
    }
   ],
   "source": [
    "nan_indexes = df.index[df[column].isna()].tolist()\n",
    "\n",
    "print(f\"Nan indexes '{column}': {nan_indexes}\")\n",
    "print(f\"Numbner of missing values '{column}': {len(nan_indexes)}\")"
   ]
  },
  {
   "cell_type": "markdown",
   "metadata": {},
   "source": [
    "We have no missing values for this column"
   ]
  },
  {
   "cell_type": "markdown",
   "metadata": {},
   "source": [
    "### birth_year"
   ]
  },
  {
   "cell_type": "code",
   "execution_count": 132,
   "metadata": {},
   "outputs": [
    {
     "name": "stdout",
     "output_type": "stream",
     "text": [
      "0       1964.0\n",
      "1       1965.0\n",
      "2       1996.0\n",
      "3       1995.0\n",
      "4       1997.0\n",
      "         ...  \n",
      "6129    1966.0\n",
      "6130    1998.0\n",
      "6131    1973.0\n",
      "6132    1985.0\n",
      "6133    1999.0\n",
      "Name: birth_year, Length: 6134, dtype: float64\n"
     ]
    }
   ],
   "source": [
    "column = 'birth_year'\n",
    "wrong_elements = df[df[column].apply(wrong_type, tipo_atteso=int)]\n",
    "\n",
    "print(wrong_elements[column])"
   ]
  },
  {
   "cell_type": "markdown",
   "metadata": {},
   "source": [
    "All the elements of birth year type are float, not int but for computation reason. Let's only check if there are elements with number after the last digit.\n"
   ]
  },
  {
   "cell_type": "code",
   "execution_count": 133,
   "metadata": {},
   "outputs": [
    {
     "name": "stdout",
     "output_type": "stream",
     "text": [
      "9      NaN\n",
      "601    NaN\n",
      "894    NaN\n",
      "2408   NaN\n",
      "2515   NaN\n",
      "2536   NaN\n",
      "3046   NaN\n",
      "3551   NaN\n",
      "4142   NaN\n",
      "4384   NaN\n",
      "4756   NaN\n",
      "6072   NaN\n",
      "6080   NaN\n",
      "Name: birth_year, dtype: float64\n"
     ]
    }
   ],
   "source": [
    "column = 'birth_year'\n",
    "decilmal_elements = df[df[column] % 1 != 0]\n",
    "\n",
    "print(decilmal_elements[column])\n"
   ]
  },
  {
   "cell_type": "markdown",
   "metadata": {},
   "source": [
    "We can see that all the birth year with a decimal part ar Nan so for this section of the analysis it's fine."
   ]
  },
  {
   "cell_type": "code",
   "execution_count": 134,
   "metadata": {},
   "outputs": [
    {
     "name": "stdout",
     "output_type": "stream",
     "text": [
      "Nan indexes 'birth_year': [9, 601, 894, 2408, 2515, 2536, 3046, 3551, 4142, 4384, 4756, 6072, 6080]\n",
      "Numbner of missing values 'birth_year': 13\n"
     ]
    }
   ],
   "source": [
    "nan_indexes = df.index[df[column].isna()].tolist()\n",
    "\n",
    "print(f\"Nan indexes '{column}': {nan_indexes}\")\n",
    "print(f\"Numbner of missing values '{column}': {len(nan_indexes)}\")"
   ]
  },
  {
   "cell_type": "markdown",
   "metadata": {},
   "source": [
    "### nationality"
   ]
  },
  {
   "cell_type": "code",
   "execution_count": 135,
   "metadata": {},
   "outputs": [
    {
     "data": {
      "text/plain": [
       "0          Italy\n",
       "1         France\n",
       "2    Netherlands\n",
       "3        Belgium\n",
       "4          Spain\n",
       "Name: nationality, dtype: object"
      ]
     },
     "execution_count": 135,
     "metadata": {},
     "output_type": "execute_result"
    }
   ],
   "source": [
    "df['nationality'].head()"
   ]
  },
  {
   "cell_type": "code",
   "execution_count": 136,
   "metadata": {},
   "outputs": [
    {
     "name": "stdout",
     "output_type": "stream",
     "text": [
      "9    NaN\n",
      "Name: nationality, dtype: object\n"
     ]
    }
   ],
   "source": [
    "column = 'nationality'\n",
    "wrong_elements = df[df[column].apply(wrong_type, tipo_atteso=str)]\n",
    "\n",
    "print(wrong_elements[column])"
   ]
  },
  {
   "cell_type": "markdown",
   "metadata": {},
   "source": [
    "Before changing the type of the column we have to remove the Nan values but it's another study case so we leave in this state. Another verification we can do is if the nationality corresponds to a real state and there are no wrong entries, to do this we can use pycountry."
   ]
  },
  {
   "cell_type": "code",
   "execution_count": 137,
   "metadata": {},
   "outputs": [
    {
     "name": "stdout",
     "output_type": "stream",
     "text": [
      "Number of not valid country: 310\n",
      "Not valid nationality:\n",
      "[nan, 'Russia', 'Great Britain', 'Russia', 'Great Britain', 'Great Britain', 'Yugoslavia', 'Russia', 'Russia', 'Great Britain', 'Czech Republic', 'Czech Republic', 'Russia', 'Russia', 'Great Britain', 'Russia', 'Russia', 'Great Britain', 'Great Britain', 'Russia', 'Russia', 'Russia', 'Czech Republic', 'Russia', 'Great Britain', 'Great Britain', 'Russia', 'Great Britain', 'Great Britain', 'Venezuela', 'Russia', 'Russia', 'Russia', 'Great Britain', 'Russia', 'Russia', 'Great Britain', 'Russia', 'Russia', 'Russia', 'Russia', 'Great Britain', 'Czech Republic', 'Russia', 'Czech Republic', 'Great Britain', 'Russia', 'Russia', 'Russia', 'Great Britain', 'Great Britain', 'Taiwan', 'Czech Republic', 'Moldova', 'Russia', 'Russia', 'Russia', 'Great Britain', 'Russia', 'Czech Republic', 'Great Britain', 'Great Britain', 'Iran', 'Great Britain', 'Great Britain', 'Great Britain', 'Venezuela', 'Russia', 'Russia', 'Venezuela', 'Russia', 'Great Britain', 'Great Britain', 'Great Britain', 'Great Britain', 'Great Britain', 'Great Britain', 'Great Britain', 'Russia', 'Russia', 'Czech Republic', 'Russia', 'Russia', 'Great Britain', 'Great Britain', 'Czech Republic', 'Great Britain', 'Iran', 'Czech Republic', 'Venezuela', 'Russia', 'Great Britain', 'Great Britain', 'Great Britain', 'Great Britain', 'Great Britain', 'Russia', 'Great Britain', 'Great Britain', 'Great Britain', 'Great Britain', 'Czech Republic', 'Czech Republic', 'Czech Republic', 'Great Britain', 'Great Britain', 'Great Britain', 'Russia', 'Great Britain', 'Great Britain', 'Russia', 'Russia', 'Great Britain', 'Great Britain', 'Great Britain', 'Venezuela', 'Moldova', 'Russia', 'Great Britain', 'Russia', 'Russia', 'Russia', 'Russia', 'Russia', 'Russia', 'Russia', 'Great Britain', 'Czech Republic', 'Russia', 'Russia', 'Russia', 'Venezuela', 'Great Britain', 'Great Britain', 'Russia', 'Great Britain', 'Russia', 'Russia', 'Great Britain', 'Russia', 'Venezuela', 'Great Britain', 'Great Britain', 'Russia', 'Czech Republic', 'Iran', 'Russia', 'Great Britain', 'Russia', 'Czech Republic', 'Russia', 'Russia', 'Russia', 'Great Britain', 'Czech Republic', 'Great Britain', 'Great Britain', 'Russia', 'Great Britain', 'Czech Republic', 'Great Britain', 'Great Britain', 'Great Britain', 'Great Britain', 'Great Britain', 'Great Britain', 'Russia', 'Great Britain', 'Russia', 'Russia', 'Czech Republic', 'Czech Republic', 'Russia', 'Great Britain', 'Great Britain', 'Great Britain', 'Russia', 'Great Britain', 'Great Britain', 'Russia', 'Russia', 'Russia', 'Russia', 'Great Britain', 'Czech Republic', 'Russia', 'Venezuela', 'Russia', 'Russia', 'Russia', 'Czech Republic', 'Russia', 'Russia', 'Great Britain', 'Venezuela', 'Russia', 'Czech Republic', 'Great Britain', 'Russia', 'Russia', 'Great Britain', 'Czech Republic', 'Great Britain', 'Great Britain', 'Great Britain', 'Venezuela', 'Russia', 'Czech Republic', 'Czech Republic', 'Russia', 'Russia', 'Venezuela', 'Venezuela', 'Russia', 'Russia', 'Great Britain', 'Russia', 'Great Britain', 'Russia', 'Great Britain', 'Russia', 'Russia', 'Great Britain', 'Great Britain', 'Great Britain', 'Russia', 'Great Britain', 'Great Britain', 'Russia', 'Russia', 'Russia', 'Czech Republic', 'Czech Republic', 'Great Britain', 'Czech Republic', 'Great Britain', 'Russia', 'Czech Republic', 'Russia', 'Great Britain', 'Russia', 'Russia', 'Czech Republic', 'Russia', 'Great Britain', 'Russia', 'Russia', 'Great Britain', 'Russia', 'Russia', 'Venezuela', 'Russia', 'Great Britain', 'Czech Republic', 'Great Britain', 'Czech Republic', 'Russia', 'Great Britain', 'Czech Republic', 'Great Britain', 'Moldova', 'Russia', 'Russia', 'Great Britain', 'Great Britain', 'Great Britain', 'Czech Republic', 'Russia', 'Great Britain', 'Russia', 'Russia', 'Great Britain', 'Russia', 'Great Britain', 'Russia', 'Great Britain', 'Venezuela', 'Russia', 'Great Britain', 'Great Britain', 'Russia', 'Great Britain', 'Russia', 'Great Britain', 'Russia', 'Great Britain', 'Venezuela', 'Russia', 'Czech Republic', 'Russia', 'Russia', 'Russia', 'Great Britain', 'Great Britain', 'Great Britain', 'Great Britain', 'Russia', 'Russia', 'Czech Republic', 'Czech Republic', 'Russia', 'Russia', 'Venezuela', 'Czech Republic', 'Czech Republic', 'Russia', 'Russia', 'Hongkong', 'Russia', 'Venezuela']\n"
     ]
    }
   ],
   "source": [
    "import pycountry\n",
    "\n",
    "valid_nat = {country.name.lower() for country in pycountry.countries}\n",
    "\n",
    "unvalid_nat = []\n",
    "\n",
    "for nat in df['nationality']:\n",
    "    if nat is not None:\n",
    "        if str(nat).lower() not in valid_nat:\n",
    "            unvalid_nat.append(nat)\n",
    "\n",
    "number_unvalid_nat = len(unvalid_nat)\n",
    "\n",
    "print(f\"Number of not valid country: {number_unvalid_nat}\")\n",
    "if number_unvalid_nat > 0:\n",
    "    print(\"Not valid nationality:\")\n",
    "    print(unvalid_nat)\n"
   ]
  },
  {
   "cell_type": "markdown",
   "metadata": {},
   "source": [
    "The not valid nation are in most cases real nation not considered by the library, we can add some exception to handle this case"
   ]
  },
  {
   "cell_type": "code",
   "execution_count": 138,
   "metadata": {},
   "outputs": [
    {
     "name": "stdout",
     "output_type": "stream",
     "text": [
      "Number of not valid nationality: 2\n",
      "Not valid nationality:\n",
      "[nan, 'Hongkong']\n"
     ]
    }
   ],
   "source": [
    "corr_nat = {\n",
    "    'russia': 'russian federation',\n",
    "    'great britain': 'united kingdom',\n",
    "    'yugoslavia': 'serbia',\n",
    "    'czech republic': 'czechia',\n",
    "    'taiwan': 'taiwan, province of china',\n",
    "    'venezuela': 'venezuela, bolivarian republic of',\n",
    "    'iran': 'iran, islamic republic of',\n",
    "    'moldova': 'moldova, republic of',\n",
    "}\n",
    "\n",
    "unvalid_nat = []\n",
    "\n",
    "for nat in df['nationality']:\n",
    "    if nat is None:\n",
    "        continue\n",
    "    nat_lower = str(nat).lower()\n",
    "    if nat_lower in corr_nat:\n",
    "        nat_lower = corr_nat[nat_lower]\n",
    "    \n",
    "    if nat_lower not in valid_nat:\n",
    "        unvalid_nat.append(nat)\n",
    "\n",
    "number_unvalid_nat = len(unvalid_nat)\n",
    "\n",
    "print(f\"Number of not valid nationality: {number_unvalid_nat}\")\n",
    "if number_unvalid_nat > 0:\n",
    "    print(\"Not valid nationality:\")\n",
    "    print(unvalid_nat)"
   ]
  },
  {
   "cell_type": "markdown",
   "metadata": {},
   "source": [
    "The last nation which is still invalid is hong kong, in pycountry is 'hong kong' let's see if its the only one entry or if it's a typo"
   ]
  },
  {
   "cell_type": "code",
   "execution_count": 139,
   "metadata": {},
   "outputs": [
    {
     "name": "stdout",
     "output_type": "stream",
     "text": [
      "Empty DataFrame\n",
      "Columns: [_url, name, birth_year, weight, height, nationality]\n",
      "Index: []\n"
     ]
    }
   ],
   "source": [
    "hong_kong = df[df['nationality'].str.lower() == 'hong kong']\n",
    "\n",
    "print(hong_kong)"
   ]
  },
  {
   "cell_type": "markdown",
   "metadata": {},
   "source": [
    "It's not a typo so we can conclude that every country is valid."
   ]
  },
  {
   "cell_type": "code",
   "execution_count": 140,
   "metadata": {},
   "outputs": [
    {
     "name": "stdout",
     "output_type": "stream",
     "text": [
      "Nan indexes 'nationality': [9]\n",
      "Numbner of missing values 'nationality': 1\n"
     ]
    }
   ],
   "source": [
    "nan_indexes = df.index[df[column].isna()].tolist()\n",
    "\n",
    "print(f\"Nan indexes '{column}': {nan_indexes}\")\n",
    "print(f\"Numbner of missing values '{column}': {len(nan_indexes)}\")"
   ]
  },
  {
   "cell_type": "markdown",
   "metadata": {},
   "source": [
    "### height"
   ]
  },
  {
   "cell_type": "code",
   "execution_count": 141,
   "metadata": {},
   "outputs": [
    {
     "name": "stdout",
     "output_type": "stream",
     "text": [
      "0         NaN\n",
      "1       182.0\n",
      "2       189.0\n",
      "3       192.0\n",
      "4       171.0\n",
      "        ...  \n",
      "6129      NaN\n",
      "6130    188.0\n",
      "6131      NaN\n",
      "6132    170.0\n",
      "6133    186.0\n",
      "Name: height, Length: 6134, dtype: float64\n"
     ]
    }
   ],
   "source": [
    "column = 'height'\n",
    "wrong_elements = df[df[column].apply(wrong_type, tipo_atteso=int)]\n",
    "\n",
    "print(wrong_elements[column])"
   ]
  },
  {
   "cell_type": "code",
   "execution_count": 142,
   "metadata": {},
   "outputs": [
    {
     "name": "stdout",
     "output_type": "stream",
     "text": [
      "0\n"
     ]
    }
   ],
   "source": [
    "column = 'height'\n",
    "decilmal_elements = df[df[column] % 1 != 0]\n",
    "# remove nan\n",
    "decilmal_elements = decilmal_elements[~decilmal_elements[column].isna()]\n",
    "print(len(decilmal_elements[column]))"
   ]
  },
  {
   "cell_type": "code",
   "execution_count": 143,
   "metadata": {},
   "outputs": [
    {
     "name": "stdout",
     "output_type": "stream",
     "text": [
      "Nan indexes 'height': [0, 6, 9, 10, 13, 14, 18, 20, 26, 29, 30, 31, 37, 39, 40, 41, 44, 45, 46, 47, 48, 49, 52, 53, 56, 59, 63, 64, 67, 68, 70, 71, 72, 85, 90, 91, 93, 94, 95, 96, 98, 100, 101, 102, 104, 106, 111, 113, 114, 115, 117, 121, 122, 123, 125, 126, 128, 129, 130, 132, 133, 138, 140, 142, 143, 145, 148, 150, 151, 152, 153, 158, 161, 163, 168, 169, 171, 172, 176, 178, 179, 181, 183, 188, 189, 191, 197, 198, 199, 201, 202, 205, 206, 208, 209, 210, 213, 214, 215, 217, 220, 221, 222, 223, 231, 233, 236, 238, 241, 242, 245, 247, 248, 249, 250, 251, 253, 254, 255, 256, 259, 262, 265, 266, 269, 270, 273, 274, 276, 279, 281, 284, 286, 289, 293, 297, 299, 300, 301, 303, 306, 307, 308, 310, 312, 313, 314, 315, 316, 317, 323, 326, 328, 329, 330, 332, 334, 337, 339, 340, 341, 343, 345, 351, 352, 353, 359, 360, 366, 368, 369, 370, 371, 373, 374, 375, 378, 379, 380, 383, 384, 390, 391, 392, 393, 395, 397, 405, 407, 410, 411, 412, 413, 415, 416, 420, 423, 429, 431, 435, 437, 438, 442, 443, 445, 446, 447, 449, 452, 453, 455, 456, 458, 461, 462, 466, 467, 469, 470, 471, 474, 475, 479, 481, 482, 485, 487, 489, 490, 491, 493, 494, 496, 498, 499, 503, 504, 508, 511, 512, 513, 519, 520, 525, 526, 528, 529, 530, 531, 532, 533, 534, 536, 537, 538, 540, 541, 542, 547, 548, 549, 550, 551, 553, 554, 557, 558, 559, 560, 562, 565, 568, 569, 570, 572, 575, 576, 578, 581, 582, 585, 587, 589, 591, 592, 593, 594, 595, 596, 597, 599, 600, 601, 602, 603, 604, 606, 607, 608, 609, 611, 612, 613, 614, 615, 618, 619, 621, 624, 626, 627, 630, 631, 633, 641, 645, 646, 649, 650, 651, 652, 653, 654, 656, 658, 661, 662, 668, 669, 671, 672, 674, 677, 678, 682, 683, 684, 685, 686, 687, 688, 689, 690, 691, 692, 693, 695, 696, 697, 698, 699, 702, 703, 705, 706, 708, 709, 712, 718, 726, 727, 728, 731, 733, 736, 737, 743, 747, 751, 753, 755, 764, 765, 766, 769, 770, 772, 773, 774, 780, 783, 786, 787, 790, 792, 794, 795, 796, 798, 799, 800, 803, 804, 809, 810, 811, 812, 813, 817, 818, 821, 823, 825, 828, 829, 830, 831, 833, 834, 835, 836, 841, 842, 843, 850, 852, 853, 854, 856, 858, 859, 860, 861, 863, 864, 866, 867, 868, 869, 873, 875, 876, 882, 883, 884, 887, 888, 889, 891, 894, 895, 897, 898, 901, 902, 905, 908, 910, 911, 914, 915, 916, 923, 925, 927, 929, 931, 936, 938, 939, 943, 944, 946, 947, 948, 950, 952, 957, 958, 964, 967, 968, 973, 975, 976, 978, 979, 982, 983, 984, 988, 990, 991, 993, 994, 995, 997, 998, 999, 1000, 1002, 1005, 1010, 1011, 1012, 1015, 1016, 1017, 1019, 1020, 1021, 1023, 1024, 1025, 1026, 1027, 1029, 1030, 1032, 1034, 1037, 1042, 1043, 1044, 1047, 1048, 1049, 1050, 1052, 1053, 1054, 1058, 1060, 1061, 1062, 1063, 1066, 1068, 1071, 1074, 1077, 1080, 1082, 1083, 1085, 1086, 1087, 1089, 1090, 1091, 1093, 1094, 1098, 1099, 1101, 1102, 1104, 1107, 1110, 1111, 1112, 1113, 1115, 1116, 1118, 1120, 1121, 1125, 1126, 1127, 1134, 1135, 1136, 1137, 1138, 1141, 1144, 1147, 1148, 1149, 1150, 1152, 1153, 1155, 1158, 1159, 1162, 1164, 1168, 1170, 1172, 1174, 1176, 1177, 1179, 1180, 1182, 1184, 1185, 1186, 1187, 1191, 1197, 1200, 1202, 1203, 1206, 1207, 1209, 1210, 1211, 1218, 1220, 1221, 1222, 1223, 1230, 1235, 1236, 1238, 1240, 1242, 1248, 1249, 1251, 1252, 1256, 1257, 1262, 1263, 1264, 1267, 1268, 1272, 1273, 1277, 1278, 1280, 1281, 1282, 1283, 1285, 1287, 1292, 1293, 1295, 1298, 1299, 1300, 1302, 1309, 1312, 1314, 1319, 1321, 1323, 1324, 1325, 1327, 1329, 1330, 1332, 1334, 1336, 1337, 1338, 1339, 1341, 1345, 1353, 1355, 1356, 1357, 1360, 1362, 1363, 1364, 1366, 1369, 1370, 1374, 1377, 1378, 1381, 1383, 1384, 1390, 1391, 1396, 1399, 1400, 1402, 1408, 1409, 1411, 1412, 1413, 1414, 1415, 1418, 1419, 1420, 1421, 1422, 1423, 1425, 1429, 1430, 1432, 1436, 1438, 1440, 1442, 1443, 1447, 1448, 1451, 1452, 1453, 1456, 1457, 1459, 1460, 1462, 1467, 1468, 1470, 1473, 1474, 1475, 1476, 1479, 1482, 1484, 1486, 1488, 1489, 1495, 1496, 1497, 1499, 1501, 1503, 1511, 1513, 1514, 1515, 1519, 1520, 1521, 1522, 1523, 1524, 1526, 1528, 1530, 1532, 1535, 1536, 1537, 1538, 1539, 1540, 1541, 1544, 1546, 1548, 1549, 1551, 1553, 1557, 1558, 1561, 1562, 1563, 1564, 1569, 1570, 1572, 1574, 1577, 1578, 1582, 1584, 1585, 1586, 1587, 1588, 1589, 1595, 1596, 1598, 1599, 1602, 1610, 1617, 1620, 1622, 1625, 1626, 1631, 1632, 1635, 1641, 1642, 1643, 1645, 1649, 1651, 1656, 1661, 1662, 1665, 1666, 1667, 1671, 1673, 1675, 1676, 1678, 1679, 1680, 1683, 1684, 1686, 1687, 1689, 1690, 1695, 1698, 1699, 1700, 1701, 1703, 1706, 1709, 1711, 1714, 1716, 1719, 1720, 1722, 1725, 1730, 1735, 1736, 1738, 1740, 1742, 1745, 1747, 1752, 1753, 1754, 1756, 1758, 1765, 1769, 1772, 1773, 1775, 1776, 1777, 1779, 1782, 1783, 1786, 1788, 1789, 1791, 1793, 1796, 1800, 1801, 1805, 1806, 1807, 1808, 1810, 1811, 1814, 1815, 1817, 1822, 1824, 1826, 1828, 1829, 1831, 1832, 1839, 1841, 1843, 1844, 1853, 1856, 1857, 1859, 1863, 1864, 1865, 1866, 1868, 1869, 1870, 1872, 1875, 1879, 1882, 1889, 1891, 1894, 1897, 1899, 1900, 1901, 1902, 1903, 1905, 1906, 1907, 1909, 1910, 1912, 1913, 1914, 1917, 1919, 1920, 1921, 1922, 1923, 1924, 1925, 1926, 1927, 1929, 1930, 1931, 1933, 1934, 1935, 1937, 1940, 1941, 1944, 1948, 1949, 1952, 1954, 1956, 1959, 1963, 1964, 1965, 1967, 1968, 1969, 1971, 1972, 1977, 1978, 1980, 1981, 1984, 1985, 1991, 1992, 1994, 1995, 1997, 2002, 2003, 2004, 2008, 2010, 2011, 2016, 2017, 2019, 2027, 2028, 2029, 2030, 2031, 2032, 2034, 2037, 2040, 2042, 2043, 2044, 2045, 2048, 2050, 2052, 2054, 2055, 2058, 2059, 2060, 2061, 2062, 2066, 2070, 2071, 2072, 2074, 2077, 2078, 2079, 2080, 2081, 2082, 2083, 2085, 2091, 2092, 2094, 2095, 2097, 2098, 2099, 2100, 2102, 2105, 2107, 2113, 2114, 2118, 2119, 2121, 2122, 2125, 2129, 2130, 2131, 2132, 2133, 2134, 2135, 2136, 2138, 2139, 2140, 2142, 2143, 2146, 2149, 2153, 2156, 2161, 2162, 2166, 2171, 2172, 2173, 2175, 2179, 2184, 2187, 2188, 2189, 2190, 2191, 2200, 2202, 2204, 2206, 2208, 2213, 2214, 2218, 2219, 2220, 2222, 2223, 2224, 2226, 2228, 2230, 2231, 2234, 2235, 2237, 2239, 2241, 2242, 2243, 2244, 2245, 2247, 2248, 2249, 2254, 2257, 2259, 2261, 2263, 2265, 2269, 2270, 2272, 2273, 2283, 2285, 2289, 2294, 2295, 2300, 2303, 2306, 2307, 2310, 2311, 2312, 2314, 2316, 2322, 2324, 2325, 2327, 2328, 2329, 2331, 2332, 2333, 2338, 2339, 2341, 2343, 2346, 2347, 2349, 2351, 2354, 2356, 2357, 2358, 2361, 2362, 2365, 2366, 2368, 2371, 2373, 2374, 2377, 2378, 2380, 2383, 2384, 2385, 2386, 2387, 2388, 2390, 2394, 2395, 2397, 2400, 2402, 2406, 2407, 2408, 2412, 2416, 2422, 2426, 2427, 2429, 2432, 2433, 2438, 2439, 2440, 2441, 2443, 2446, 2447, 2449, 2453, 2457, 2461, 2462, 2463, 2464, 2470, 2472, 2473, 2478, 2479, 2483, 2486, 2487, 2489, 2492, 2493, 2498, 2502, 2503, 2505, 2506, 2511, 2514, 2515, 2517, 2518, 2520, 2523, 2525, 2526, 2529, 2531, 2532, 2533, 2535, 2536, 2537, 2538, 2539, 2540, 2541, 2546, 2547, 2562, 2563, 2565, 2566, 2567, 2569, 2570, 2571, 2574, 2578, 2579, 2580, 2585, 2586, 2590, 2591, 2593, 2594, 2595, 2596, 2603, 2604, 2605, 2608, 2610, 2611, 2612, 2613, 2614, 2615, 2617, 2619, 2621, 2622, 2623, 2624, 2626, 2628, 2632, 2633, 2635, 2637, 2638, 2639, 2640, 2645, 2647, 2648, 2654, 2657, 2658, 2661, 2663, 2667, 2668, 2669, 2671, 2675, 2676, 2678, 2679, 2684, 2685, 2686, 2689, 2690, 2691, 2692, 2695, 2697, 2706, 2707, 2708, 2710, 2713, 2714, 2716, 2717, 2719, 2726, 2728, 2730, 2731, 2732, 2733, 2735, 2736, 2737, 2738, 2739, 2740, 2742, 2743, 2746, 2750, 2751, 2752, 2753, 2754, 2755, 2756, 2758, 2765, 2766, 2767, 2768, 2769, 2770, 2772, 2775, 2777, 2779, 2780, 2781, 2782, 2785, 2789, 2790, 2794, 2795, 2797, 2798, 2800, 2801, 2802, 2803, 2804, 2807, 2809, 2812, 2816, 2819, 2820, 2822, 2825, 2827, 2828, 2831, 2834, 2837, 2839, 2841, 2842, 2843, 2846, 2848, 2850, 2856, 2858, 2863, 2865, 2866, 2867, 2869, 2870, 2872, 2874, 2876, 2878, 2879, 2881, 2882, 2883, 2884, 2886, 2891, 2892, 2893, 2896, 2897, 2898, 2900, 2903, 2904, 2907, 2908, 2909, 2911, 2913, 2914, 2919, 2921, 2922, 2923, 2925, 2927, 2932, 2937, 2938, 2939, 2943, 2944, 2946, 2947, 2950, 2952, 2953, 2955, 2956, 2957, 2959, 2960, 2962, 2970, 2971, 2976, 2979, 2980, 2983, 2984, 2989, 2990, 2996, 2997, 2999, 3001, 3002, 3003, 3009, 3011, 3013, 3014, 3015, 3016, 3017, 3018, 3019, 3023, 3024, 3025, 3026, 3027, 3028, 3035, 3038, 3039, 3045, 3046, 3047, 3054, 3055, 3057, 3062, 3063, 3065, 3067, 3080, 3085, 3086, 3091, 3092, 3094, 3095, 3098, 3100, 3103, 3104, 3105, 3107, 3109, 3112, 3115, 3117, 3118, 3119, 3120, 3121, 3122, 3124, 3128, 3130, 3131, 3133, 3137, 3138, 3141, 3142, 3143, 3147, 3148, 3151, 3153, 3154, 3156, 3161, 3162, 3164, 3166, 3167, 3173, 3175, 3176, 3177, 3179, 3181, 3182, 3183, 3184, 3193, 3195, 3198, 3199, 3200, 3201, 3202, 3203, 3207, 3208, 3209, 3212, 3213, 3215, 3216, 3220, 3223, 3226, 3227, 3232, 3233, 3236, 3238, 3239, 3240, 3241, 3242, 3243, 3248, 3251, 3252, 3253, 3254, 3255, 3257, 3258, 3260, 3262, 3264, 3266, 3269, 3270, 3272, 3273, 3274, 3275, 3278, 3279, 3284, 3288, 3289, 3290, 3292, 3293, 3294, 3295, 3296, 3297, 3298, 3300, 3303, 3304, 3305, 3308, 3309, 3310, 3311, 3312, 3317, 3318, 3322, 3328, 3329, 3331, 3335, 3337, 3338, 3344, 3345, 3347, 3349, 3350, 3351, 3352, 3354, 3355, 3360, 3361, 3362, 3365, 3366, 3367, 3369, 3374, 3375, 3377, 3378, 3382, 3383, 3384, 3388, 3389, 3390, 3391, 3393, 3397, 3402, 3405, 3406, 3411, 3413, 3415, 3420, 3421, 3424, 3428, 3430, 3431, 3435, 3436, 3439, 3440, 3443, 3444, 3447, 3448, 3449, 3450, 3452, 3453, 3455, 3458, 3460, 3462, 3468, 3469, 3470, 3471, 3484, 3487, 3496, 3497, 3498, 3499, 3502, 3504, 3507, 3508, 3511, 3512, 3513, 3515, 3516, 3517, 3520, 3521, 3523, 3524, 3525, 3526, 3528, 3532, 3533, 3536, 3537, 3538, 3539, 3540, 3542, 3544, 3547, 3550, 3551, 3553, 3559, 3561, 3563, 3566, 3567, 3568, 3569, 3570, 3572, 3573, 3574, 3577, 3578, 3580, 3582, 3585, 3586, 3588, 3589, 3590, 3592, 3593, 3595, 3596, 3598, 3600, 3601, 3603, 3604, 3607, 3608, 3611, 3612, 3613, 3614, 3621, 3625, 3626, 3635, 3637, 3638, 3640, 3642, 3646, 3647, 3648, 3649, 3650, 3652, 3653, 3655, 3656, 3658, 3663, 3664, 3666, 3667, 3670, 3672, 3678, 3679, 3680, 3681, 3682, 3686, 3688, 3693, 3698, 3699, 3701, 3702, 3703, 3704, 3705, 3706, 3709, 3710, 3711, 3712, 3713, 3716, 3717, 3719, 3721, 3724, 3727, 3728, 3729, 3735, 3738, 3741, 3742, 3743, 3745, 3747, 3751, 3756, 3757, 3760, 3761, 3762, 3764, 3766, 3767, 3768, 3773, 3775, 3776, 3777, 3779, 3780, 3781, 3783, 3785, 3787, 3788, 3789, 3790, 3792, 3793, 3794, 3795, 3796, 3797, 3804, 3806, 3810, 3811, 3812, 3813, 3814, 3815, 3817, 3818, 3819, 3820, 3824, 3825, 3827, 3830, 3838, 3839, 3840, 3844, 3845, 3847, 3850, 3851, 3852, 3853, 3854, 3856, 3857, 3858, 3859, 3860, 3861, 3862, 3864, 3865, 3866, 3867, 3869, 3870, 3871, 3872, 3874, 3876, 3877, 3878, 3881, 3882, 3883, 3884, 3885, 3891, 3894, 3895, 3897, 3899, 3900, 3901, 3903, 3904, 3905, 3907, 3908, 3909, 3911, 3912, 3916, 3917, 3921, 3923, 3924, 3927, 3932, 3933, 3934, 3938, 3942, 3943, 3944, 3947, 3952, 3953, 3963, 3966, 3968, 3970, 3973, 3977, 3978, 3979, 3980, 3981, 3985, 3986, 3987, 3991, 3992, 3993, 3995, 3997, 3998, 3999, 4002, 4003, 4004, 4006, 4009, 4011, 4012, 4015, 4016, 4018, 4020, 4021, 4024, 4025, 4026, 4028, 4029, 4034, 4037, 4038, 4046, 4047, 4048, 4050, 4051, 4052, 4053, 4054, 4059, 4061, 4063, 4064, 4066, 4070, 4074, 4075, 4082, 4083, 4084, 4085, 4087, 4088, 4090, 4092, 4093, 4094, 4096, 4103, 4106, 4111, 4113, 4114, 4116, 4117, 4119, 4121, 4125, 4127, 4129, 4131, 4132, 4138, 4139, 4142, 4143, 4147, 4152, 4155, 4156, 4157, 4161, 4163, 4164, 4165, 4166, 4167, 4168, 4169, 4172, 4175, 4176, 4178, 4179, 4183, 4184, 4186, 4187, 4188, 4190, 4191, 4192, 4193, 4194, 4197, 4198, 4199, 4202, 4204, 4205, 4206, 4213, 4215, 4218, 4219, 4223, 4229, 4230, 4231, 4232, 4233, 4237, 4239, 4240, 4249, 4250, 4255, 4260, 4262, 4264, 4266, 4268, 4269, 4272, 4273, 4276, 4277, 4280, 4281, 4282, 4285, 4287, 4288, 4289, 4290, 4292, 4293, 4294, 4295, 4297, 4299, 4300, 4302, 4303, 4305, 4311, 4317, 4318, 4319, 4326, 4329, 4331, 4332, 4333, 4337, 4339, 4342, 4347, 4350, 4352, 4353, 4354, 4355, 4357, 4358, 4362, 4363, 4364, 4365, 4367, 4368, 4369, 4370, 4371, 4377, 4382, 4384, 4386, 4387, 4389, 4390, 4392, 4393, 4395, 4397, 4404, 4405, 4407, 4408, 4410, 4412, 4413, 4414, 4420, 4421, 4427, 4428, 4429, 4433, 4436, 4437, 4438, 4439, 4440, 4442, 4444, 4447, 4448, 4450, 4451, 4452, 4454, 4459, 4463, 4465, 4467, 4468, 4469, 4470, 4472, 4473, 4475, 4476, 4480, 4481, 4483, 4486, 4488, 4491, 4492, 4494, 4495, 4496, 4497, 4498, 4499, 4500, 4506, 4508, 4509, 4510, 4513, 4514, 4516, 4518, 4519, 4520, 4521, 4523, 4525, 4527, 4529, 4532, 4534, 4536, 4538, 4539, 4540, 4541, 4543, 4545, 4548, 4549, 4553, 4555, 4559, 4560, 4562, 4564, 4566, 4568, 4569, 4572, 4573, 4578, 4581, 4584, 4587, 4589, 4591, 4592, 4594, 4596, 4599, 4600, 4601, 4603, 4605, 4607, 4608, 4609, 4610, 4611, 4615, 4621, 4623, 4626, 4627, 4628, 4630, 4631, 4632, 4634, 4635, 4639, 4640, 4642, 4643, 4651, 4652, 4653, 4655, 4661, 4664, 4667, 4668, 4670, 4672, 4677, 4679, 4681, 4685, 4688, 4691, 4693, 4694, 4696, 4699, 4700, 4703, 4704, 4709, 4714, 4715, 4717, 4718, 4719, 4723, 4724, 4728, 4729, 4731, 4732, 4733, 4734, 4735, 4736, 4739, 4740, 4741, 4745, 4747, 4748, 4749, 4750, 4752, 4753, 4754, 4756, 4758, 4760, 4761, 4762, 4765, 4767, 4769, 4771, 4776, 4777, 4781, 4782, 4783, 4784, 4786, 4787, 4789, 4791, 4792, 4793, 4797, 4798, 4799, 4801, 4805, 4807, 4809, 4810, 4811, 4812, 4815, 4817, 4819, 4821, 4822, 4823, 4824, 4825, 4826, 4830, 4832, 4833, 4834, 4835, 4837, 4838, 4839, 4840, 4841, 4843, 4845, 4848, 4849, 4850, 4851, 4856, 4857, 4858, 4861, 4863, 4865, 4868, 4869, 4872, 4876, 4877, 4878, 4880, 4884, 4885, 4886, 4887, 4888, 4891, 4894, 4896, 4897, 4898, 4900, 4901, 4903, 4907, 4908, 4910, 4911, 4912, 4914, 4916, 4917, 4919, 4920, 4923, 4931, 4933, 4934, 4936, 4937, 4939, 4940, 4942, 4952, 4957, 4958, 4959, 4961, 4965, 4966, 4967, 4969, 4970, 4971, 4974, 4975, 4978, 4982, 4983, 4984, 4985, 4986, 4990, 5000, 5001, 5002, 5003, 5006, 5009, 5011, 5012, 5013, 5014, 5018, 5019, 5021, 5022, 5023, 5024, 5025, 5029, 5032, 5033, 5034, 5036, 5037, 5038, 5040, 5044, 5046, 5047, 5048, 5050, 5054, 5055, 5056, 5058, 5059, 5060, 5062, 5067, 5068, 5071, 5072, 5073, 5074, 5075, 5078, 5079, 5080, 5081, 5083, 5084, 5085, 5088, 5092, 5097, 5102, 5105, 5109, 5110, 5113, 5115, 5116, 5117, 5122, 5124, 5126, 5127, 5129, 5130, 5131, 5136, 5139, 5140, 5141, 5142, 5143, 5144, 5146, 5149, 5150, 5152, 5153, 5154, 5159, 5161, 5163, 5164, 5165, 5169, 5171, 5173, 5174, 5176, 5177, 5178, 5179, 5180, 5185, 5186, 5189, 5193, 5194, 5196, 5199, 5200, 5202, 5203, 5206, 5207, 5210, 5211, 5212, 5213, 5215, 5217, 5219, 5221, 5228, 5230, 5231, 5232, 5236, 5237, 5239, 5240, 5242, 5243, 5245, 5247, 5250, 5251, 5253, 5255, 5256, 5261, 5262, 5263, 5264, 5265, 5266, 5268, 5269, 5272, 5273, 5274, 5277, 5279, 5281, 5284, 5286, 5289, 5290, 5291, 5293, 5294, 5296, 5298, 5299, 5300, 5302, 5303, 5304, 5308, 5310, 5311, 5312, 5314, 5315, 5316, 5318, 5320, 5321, 5326, 5330, 5332, 5335, 5340, 5342, 5343, 5344, 5345, 5346, 5349, 5352, 5353, 5356, 5364, 5366, 5367, 5369, 5370, 5375, 5376, 5381, 5382, 5384, 5385, 5387, 5388, 5389, 5390, 5391, 5393, 5396, 5397, 5398, 5400, 5403, 5404, 5406, 5408, 5409, 5411, 5413, 5416, 5419, 5421, 5422, 5423, 5426, 5429, 5430, 5435, 5438, 5441, 5444, 5445, 5447, 5448, 5449, 5450, 5452, 5454, 5456, 5457, 5458, 5459, 5460, 5462, 5470, 5473, 5475, 5476, 5478, 5482, 5483, 5484, 5485, 5489, 5492, 5495, 5496, 5497, 5498, 5499, 5500, 5502, 5504, 5509, 5510, 5512, 5516, 5518, 5521, 5525, 5529, 5531, 5532, 5533, 5534, 5537, 5538, 5541, 5542, 5544, 5545, 5547, 5548, 5549, 5552, 5553, 5555, 5556, 5557, 5558, 5560, 5562, 5563, 5566, 5567, 5568, 5569, 5571, 5573, 5574, 5576, 5579, 5580, 5582, 5583, 5584, 5585, 5588, 5591, 5592, 5594, 5595, 5596, 5598, 5600, 5601, 5602, 5605, 5606, 5608, 5616, 5618, 5620, 5623, 5624, 5625, 5626, 5627, 5629, 5630, 5634, 5637, 5640, 5641, 5642, 5643, 5645, 5646, 5647, 5648, 5650, 5652, 5653, 5654, 5659, 5662, 5664, 5666, 5667, 5668, 5669, 5670, 5671, 5673, 5675, 5676, 5679, 5680, 5682, 5685, 5688, 5689, 5690, 5691, 5692, 5693, 5694, 5695, 5697, 5699, 5700, 5701, 5703, 5704, 5705, 5707, 5708, 5709, 5710, 5712, 5713, 5718, 5719, 5720, 5722, 5723, 5724, 5725, 5727, 5730, 5732, 5737, 5739, 5740, 5743, 5744, 5747, 5750, 5751, 5752, 5753, 5755, 5756, 5757, 5759, 5760, 5762, 5763, 5767, 5768, 5771, 5773, 5774, 5775, 5776, 5778, 5779, 5780, 5781, 5782, 5784, 5785, 5786, 5790, 5793, 5794, 5795, 5796, 5798, 5799, 5800, 5801, 5802, 5806, 5807, 5808, 5809, 5810, 5812, 5813, 5814, 5815, 5819, 5820, 5822, 5823, 5825, 5826, 5827, 5828, 5829, 5834, 5835, 5838, 5839, 5841, 5846, 5854, 5856, 5857, 5859, 5863, 5864, 5866, 5867, 5868, 5869, 5871, 5873, 5875, 5876, 5878, 5881, 5884, 5885, 5887, 5888, 5889, 5890, 5891, 5892, 5893, 5894, 5899, 5909, 5912, 5914, 5915, 5916, 5917, 5918, 5922, 5923, 5925, 5926, 5927, 5931, 5932, 5934, 5935, 5936, 5937, 5939, 5940, 5943, 5945, 5946, 5947, 5949, 5950, 5951, 5952, 5954, 5955, 5957, 5958, 5959, 5961, 5962, 5963, 5964, 5965, 5966, 5968, 5969, 5970, 5971, 5972, 5975, 5977, 5978, 5979, 5980, 5982, 5983, 5984, 5987, 5988, 5989, 5991, 5995, 5997, 5999, 6000, 6001, 6004, 6008, 6010, 6012, 6018, 6020, 6025, 6026, 6027, 6028, 6030, 6035, 6036, 6038, 6041, 6044, 6047, 6048, 6052, 6053, 6055, 6056, 6058, 6060, 6061, 6067, 6068, 6069, 6070, 6071, 6072, 6073, 6075, 6077, 6079, 6080, 6081, 6082, 6085, 6087, 6089, 6090, 6091, 6093, 6094, 6096, 6101, 6103, 6106, 6109, 6111, 6112, 6115, 6117, 6118, 6119, 6123, 6127, 6128, 6129, 6131]\n",
      "Numbner of missing values 'height': 2991\n"
     ]
    }
   ],
   "source": [
    "nan_indexes = df.index[df[column].isna()].tolist()\n",
    "\n",
    "print(f\"Nan indexes '{column}': {nan_indexes}\")\n",
    "print(f\"Numbner of missing values '{column}': {len(nan_indexes)}\")"
   ]
  },
  {
   "cell_type": "markdown",
   "metadata": {},
   "source": [
    "### Weight"
   ]
  },
  {
   "cell_type": "code",
   "execution_count": 144,
   "metadata": {},
   "outputs": [
    {
     "name": "stdout",
     "output_type": "stream",
     "text": [
      "0        NaN\n",
      "1       74.0\n",
      "2       69.0\n",
      "3       78.0\n",
      "4       55.0\n",
      "        ... \n",
      "6129     NaN\n",
      "6130    75.0\n",
      "6131     NaN\n",
      "6132    58.0\n",
      "6133    75.0\n",
      "Name: weight, Length: 6134, dtype: float64\n"
     ]
    }
   ],
   "source": [
    "column = 'weight'\n",
    "wrong_elements = df[df[column].apply(wrong_type, tipo_atteso=int)]\n",
    "\n",
    "print(wrong_elements[column])"
   ]
  },
  {
   "cell_type": "code",
   "execution_count": 145,
   "metadata": {},
   "outputs": [
    {
     "name": "stdout",
     "output_type": "stream",
     "text": [
      "Elements with decimal values: 15\n",
      "7       71.5\n",
      "620     67.5\n",
      "1313    58.5\n",
      "1629    63.5\n",
      "1741    63.5\n",
      "1873    74.5\n",
      "2046    66.5\n",
      "2323    78.1\n",
      "2363    77.5\n",
      "2471    81.4\n",
      "2581    58.5\n",
      "4181    62.5\n",
      "4744    73.5\n",
      "4772    79.5\n",
      "4947    65.1\n",
      "Name: weight, dtype: float64\n"
     ]
    }
   ],
   "source": [
    "column = 'weight'\n",
    "decilmal_elements = df[df[column] % 1 != 0]\n",
    "# remove nan\n",
    "decilmal_elements = decilmal_elements[~decilmal_elements[column].isna()]\n",
    "print(f\"Elements with decimal values: {len(decilmal_elements[column])}\")\n",
    "print(decilmal_elements[column])"
   ]
  },
  {
   "cell_type": "code",
   "execution_count": 146,
   "metadata": {},
   "outputs": [
    {
     "name": "stdout",
     "output_type": "stream",
     "text": [
      "Nan indexes 'weight': [0, 6, 9, 10, 13, 14, 18, 20, 26, 29, 30, 31, 37, 39, 40, 41, 44, 45, 46, 47, 48, 49, 52, 53, 56, 59, 63, 64, 67, 68, 70, 71, 72, 76, 85, 90, 91, 93, 94, 95, 96, 98, 100, 101, 102, 104, 106, 111, 113, 115, 117, 121, 122, 123, 125, 126, 128, 129, 130, 132, 133, 138, 140, 142, 143, 145, 148, 150, 151, 152, 153, 158, 161, 163, 168, 169, 171, 172, 176, 178, 179, 181, 183, 188, 189, 191, 197, 198, 199, 201, 202, 205, 206, 208, 209, 210, 213, 214, 215, 217, 219, 220, 221, 222, 223, 231, 233, 236, 238, 241, 242, 245, 247, 248, 249, 250, 251, 253, 254, 255, 256, 259, 261, 262, 265, 266, 269, 270, 273, 274, 276, 279, 281, 284, 286, 289, 293, 297, 299, 300, 301, 303, 306, 307, 308, 310, 312, 313, 314, 315, 316, 317, 323, 326, 328, 329, 330, 332, 334, 337, 339, 340, 341, 343, 345, 351, 352, 353, 355, 359, 360, 366, 368, 369, 370, 371, 373, 374, 375, 378, 379, 380, 383, 384, 390, 391, 392, 393, 395, 397, 403, 405, 406, 407, 410, 411, 412, 413, 415, 416, 420, 423, 429, 431, 435, 437, 438, 441, 442, 443, 445, 446, 447, 449, 452, 453, 455, 456, 458, 461, 462, 466, 467, 469, 470, 471, 472, 474, 475, 479, 481, 482, 484, 485, 487, 489, 490, 491, 493, 494, 496, 498, 499, 503, 504, 508, 511, 512, 513, 519, 520, 525, 526, 528, 529, 530, 531, 532, 533, 534, 536, 537, 538, 540, 541, 542, 547, 548, 549, 550, 551, 553, 554, 557, 558, 559, 560, 562, 565, 566, 568, 569, 570, 572, 575, 576, 578, 581, 582, 585, 587, 589, 591, 592, 593, 594, 595, 596, 597, 599, 600, 601, 602, 603, 604, 606, 607, 608, 609, 611, 612, 613, 614, 615, 618, 619, 621, 624, 626, 627, 630, 631, 633, 641, 645, 646, 649, 650, 651, 652, 653, 654, 656, 658, 661, 662, 668, 669, 671, 672, 674, 677, 678, 682, 683, 684, 685, 686, 688, 689, 690, 691, 692, 693, 695, 696, 697, 698, 699, 702, 703, 705, 706, 708, 709, 712, 718, 720, 726, 727, 728, 731, 733, 736, 737, 743, 747, 751, 753, 755, 764, 765, 766, 769, 770, 772, 773, 774, 780, 783, 786, 787, 790, 792, 794, 795, 796, 798, 799, 800, 803, 804, 809, 810, 811, 812, 813, 817, 818, 821, 823, 825, 828, 829, 830, 831, 833, 834, 835, 836, 841, 842, 843, 850, 852, 853, 854, 856, 858, 859, 860, 861, 863, 864, 866, 867, 868, 869, 873, 875, 876, 882, 883, 884, 887, 888, 889, 891, 894, 895, 897, 898, 901, 902, 905, 906, 908, 910, 911, 914, 915, 916, 923, 925, 927, 928, 929, 931, 936, 938, 939, 943, 944, 946, 947, 948, 950, 952, 956, 957, 958, 964, 967, 968, 973, 975, 976, 978, 979, 982, 983, 984, 988, 990, 991, 993, 994, 995, 997, 998, 999, 1000, 1002, 1005, 1010, 1011, 1012, 1015, 1016, 1019, 1020, 1021, 1023, 1024, 1025, 1026, 1027, 1029, 1030, 1032, 1034, 1037, 1042, 1043, 1044, 1047, 1048, 1049, 1050, 1052, 1053, 1054, 1058, 1060, 1061, 1062, 1063, 1066, 1068, 1071, 1074, 1077, 1080, 1082, 1083, 1085, 1086, 1087, 1089, 1090, 1091, 1093, 1094, 1098, 1099, 1101, 1102, 1104, 1107, 1110, 1111, 1112, 1113, 1115, 1116, 1118, 1120, 1121, 1125, 1126, 1127, 1128, 1134, 1135, 1136, 1137, 1138, 1141, 1144, 1147, 1148, 1149, 1150, 1152, 1153, 1155, 1158, 1159, 1162, 1164, 1168, 1170, 1172, 1174, 1176, 1177, 1179, 1180, 1181, 1182, 1184, 1185, 1186, 1187, 1191, 1197, 1200, 1202, 1203, 1206, 1207, 1209, 1210, 1211, 1218, 1220, 1221, 1222, 1223, 1230, 1235, 1236, 1238, 1240, 1242, 1248, 1249, 1251, 1252, 1256, 1257, 1262, 1263, 1264, 1267, 1268, 1272, 1273, 1277, 1278, 1280, 1281, 1282, 1283, 1285, 1287, 1292, 1293, 1295, 1298, 1299, 1300, 1302, 1309, 1312, 1314, 1319, 1321, 1323, 1324, 1325, 1327, 1329, 1330, 1332, 1334, 1336, 1337, 1338, 1339, 1341, 1345, 1353, 1355, 1356, 1357, 1360, 1362, 1363, 1364, 1366, 1369, 1370, 1374, 1377, 1378, 1381, 1383, 1384, 1390, 1391, 1396, 1399, 1400, 1402, 1408, 1409, 1411, 1412, 1413, 1414, 1415, 1418, 1419, 1420, 1421, 1422, 1423, 1425, 1429, 1430, 1432, 1436, 1438, 1440, 1442, 1443, 1447, 1448, 1451, 1452, 1453, 1456, 1457, 1459, 1460, 1462, 1464, 1467, 1468, 1470, 1473, 1474, 1475, 1476, 1478, 1479, 1482, 1484, 1486, 1488, 1489, 1495, 1496, 1497, 1499, 1501, 1503, 1511, 1513, 1514, 1515, 1519, 1520, 1521, 1522, 1523, 1524, 1526, 1528, 1530, 1532, 1535, 1536, 1537, 1538, 1539, 1540, 1541, 1544, 1546, 1548, 1549, 1551, 1553, 1557, 1558, 1561, 1562, 1563, 1564, 1569, 1570, 1572, 1574, 1577, 1578, 1582, 1584, 1585, 1586, 1587, 1588, 1589, 1595, 1596, 1598, 1599, 1602, 1610, 1617, 1620, 1622, 1625, 1626, 1631, 1632, 1635, 1641, 1642, 1643, 1645, 1649, 1656, 1661, 1662, 1665, 1666, 1667, 1671, 1673, 1675, 1676, 1678, 1679, 1680, 1683, 1684, 1686, 1687, 1689, 1690, 1695, 1698, 1699, 1700, 1701, 1703, 1706, 1709, 1711, 1714, 1716, 1719, 1720, 1722, 1725, 1730, 1735, 1736, 1738, 1740, 1742, 1745, 1747, 1752, 1753, 1754, 1756, 1758, 1765, 1769, 1772, 1773, 1775, 1776, 1777, 1779, 1782, 1783, 1786, 1788, 1789, 1791, 1793, 1796, 1800, 1801, 1805, 1806, 1807, 1808, 1810, 1811, 1814, 1815, 1817, 1818, 1822, 1824, 1826, 1827, 1828, 1829, 1831, 1832, 1839, 1841, 1843, 1844, 1853, 1856, 1857, 1859, 1863, 1864, 1865, 1866, 1868, 1869, 1870, 1871, 1872, 1875, 1879, 1882, 1889, 1891, 1894, 1897, 1899, 1900, 1901, 1902, 1903, 1905, 1906, 1907, 1909, 1910, 1912, 1913, 1914, 1917, 1919, 1920, 1921, 1922, 1923, 1924, 1925, 1926, 1927, 1929, 1930, 1931, 1933, 1934, 1935, 1937, 1940, 1941, 1944, 1948, 1949, 1952, 1954, 1956, 1959, 1963, 1964, 1965, 1967, 1968, 1969, 1971, 1972, 1977, 1978, 1980, 1981, 1984, 1985, 1991, 1992, 1994, 1995, 1997, 2002, 2003, 2004, 2008, 2010, 2011, 2016, 2017, 2019, 2027, 2028, 2029, 2030, 2031, 2032, 2034, 2037, 2040, 2042, 2043, 2044, 2045, 2048, 2050, 2052, 2054, 2055, 2058, 2059, 2060, 2061, 2062, 2066, 2070, 2071, 2072, 2074, 2077, 2078, 2079, 2080, 2081, 2082, 2083, 2085, 2091, 2092, 2094, 2095, 2097, 2098, 2099, 2100, 2102, 2105, 2107, 2113, 2114, 2118, 2119, 2121, 2122, 2125, 2129, 2130, 2131, 2132, 2133, 2134, 2135, 2136, 2138, 2139, 2140, 2142, 2143, 2146, 2149, 2153, 2156, 2161, 2162, 2166, 2171, 2172, 2173, 2175, 2179, 2184, 2187, 2188, 2189, 2190, 2191, 2193, 2200, 2202, 2204, 2206, 2208, 2213, 2214, 2218, 2219, 2220, 2222, 2223, 2224, 2226, 2228, 2230, 2231, 2234, 2235, 2237, 2239, 2241, 2242, 2243, 2244, 2245, 2247, 2248, 2249, 2254, 2257, 2259, 2261, 2263, 2265, 2269, 2270, 2272, 2273, 2283, 2285, 2289, 2294, 2295, 2300, 2303, 2306, 2307, 2310, 2311, 2312, 2314, 2316, 2318, 2319, 2321, 2322, 2324, 2325, 2327, 2328, 2329, 2331, 2332, 2333, 2338, 2339, 2341, 2343, 2346, 2347, 2349, 2351, 2354, 2356, 2357, 2358, 2361, 2362, 2365, 2366, 2368, 2371, 2373, 2374, 2377, 2378, 2380, 2383, 2384, 2385, 2386, 2387, 2388, 2390, 2394, 2395, 2397, 2400, 2402, 2406, 2407, 2408, 2412, 2416, 2422, 2426, 2427, 2429, 2432, 2433, 2438, 2439, 2440, 2441, 2443, 2446, 2447, 2449, 2453, 2457, 2461, 2462, 2463, 2464, 2470, 2472, 2473, 2478, 2479, 2483, 2486, 2487, 2489, 2492, 2493, 2498, 2502, 2503, 2505, 2506, 2511, 2514, 2515, 2517, 2518, 2520, 2523, 2525, 2526, 2529, 2531, 2532, 2533, 2535, 2536, 2537, 2538, 2539, 2540, 2541, 2546, 2547, 2562, 2563, 2565, 2566, 2567, 2569, 2570, 2571, 2574, 2578, 2579, 2580, 2584, 2585, 2586, 2590, 2591, 2593, 2594, 2595, 2596, 2603, 2604, 2605, 2608, 2610, 2611, 2612, 2613, 2614, 2615, 2617, 2619, 2621, 2622, 2623, 2624, 2626, 2628, 2632, 2633, 2634, 2635, 2637, 2638, 2639, 2640, 2645, 2647, 2648, 2654, 2657, 2658, 2661, 2663, 2667, 2668, 2669, 2671, 2675, 2676, 2678, 2679, 2684, 2685, 2686, 2689, 2690, 2691, 2692, 2695, 2697, 2706, 2707, 2708, 2710, 2713, 2714, 2716, 2717, 2719, 2726, 2728, 2730, 2731, 2732, 2733, 2735, 2736, 2737, 2738, 2739, 2740, 2742, 2743, 2746, 2747, 2750, 2751, 2752, 2753, 2754, 2755, 2756, 2758, 2765, 2766, 2767, 2768, 2769, 2770, 2772, 2775, 2777, 2779, 2780, 2781, 2782, 2785, 2789, 2790, 2794, 2795, 2797, 2798, 2800, 2801, 2802, 2803, 2804, 2807, 2809, 2812, 2816, 2819, 2820, 2822, 2825, 2827, 2828, 2831, 2834, 2837, 2839, 2841, 2842, 2843, 2846, 2848, 2850, 2856, 2858, 2863, 2865, 2866, 2867, 2868, 2869, 2870, 2872, 2874, 2876, 2878, 2879, 2881, 2882, 2883, 2884, 2886, 2891, 2892, 2893, 2894, 2896, 2897, 2898, 2900, 2903, 2904, 2907, 2908, 2909, 2911, 2913, 2914, 2919, 2921, 2922, 2923, 2925, 2927, 2932, 2937, 2938, 2939, 2943, 2944, 2946, 2947, 2950, 2952, 2953, 2955, 2956, 2957, 2959, 2960, 2962, 2970, 2971, 2976, 2979, 2980, 2983, 2984, 2989, 2990, 2996, 2997, 2999, 3001, 3002, 3003, 3009, 3011, 3013, 3014, 3015, 3016, 3017, 3018, 3019, 3023, 3024, 3025, 3026, 3027, 3028, 3035, 3038, 3039, 3045, 3046, 3047, 3054, 3055, 3057, 3062, 3063, 3065, 3067, 3076, 3078, 3080, 3081, 3085, 3086, 3091, 3092, 3094, 3095, 3098, 3100, 3103, 3104, 3105, 3107, 3109, 3112, 3115, 3117, 3118, 3119, 3120, 3121, 3122, 3124, 3128, 3130, 3131, 3133, 3137, 3138, 3141, 3142, 3143, 3147, 3148, 3151, 3153, 3154, 3156, 3162, 3164, 3166, 3167, 3173, 3175, 3176, 3177, 3179, 3181, 3182, 3183, 3184, 3193, 3195, 3198, 3199, 3200, 3201, 3202, 3203, 3207, 3208, 3209, 3212, 3213, 3215, 3216, 3220, 3223, 3226, 3227, 3232, 3233, 3236, 3238, 3239, 3240, 3241, 3242, 3243, 3248, 3251, 3252, 3253, 3254, 3255, 3257, 3258, 3260, 3262, 3264, 3266, 3269, 3270, 3272, 3273, 3274, 3275, 3278, 3279, 3284, 3288, 3289, 3290, 3292, 3293, 3294, 3295, 3296, 3297, 3298, 3300, 3301, 3303, 3304, 3305, 3308, 3309, 3310, 3311, 3312, 3317, 3318, 3322, 3328, 3329, 3331, 3335, 3337, 3338, 3344, 3345, 3347, 3349, 3350, 3351, 3352, 3354, 3355, 3360, 3361, 3362, 3365, 3366, 3367, 3369, 3374, 3375, 3377, 3378, 3382, 3383, 3384, 3388, 3389, 3390, 3391, 3393, 3397, 3402, 3405, 3406, 3407, 3411, 3413, 3415, 3420, 3421, 3424, 3428, 3430, 3431, 3435, 3436, 3439, 3440, 3443, 3444, 3447, 3448, 3449, 3450, 3452, 3453, 3455, 3458, 3460, 3462, 3466, 3468, 3469, 3470, 3471, 3484, 3487, 3496, 3497, 3498, 3499, 3502, 3504, 3507, 3508, 3511, 3512, 3513, 3515, 3516, 3517, 3520, 3521, 3523, 3524, 3525, 3526, 3528, 3532, 3533, 3536, 3537, 3538, 3539, 3540, 3542, 3544, 3547, 3550, 3551, 3553, 3559, 3561, 3563, 3566, 3567, 3568, 3569, 3570, 3572, 3573, 3574, 3577, 3578, 3580, 3582, 3585, 3586, 3588, 3589, 3590, 3592, 3593, 3595, 3596, 3598, 3600, 3601, 3603, 3604, 3607, 3608, 3611, 3612, 3613, 3614, 3621, 3624, 3625, 3626, 3635, 3637, 3638, 3640, 3642, 3646, 3647, 3648, 3649, 3650, 3652, 3653, 3655, 3656, 3658, 3663, 3664, 3666, 3667, 3670, 3672, 3678, 3679, 3680, 3681, 3682, 3686, 3688, 3693, 3694, 3698, 3699, 3701, 3702, 3703, 3704, 3705, 3706, 3709, 3710, 3711, 3712, 3713, 3714, 3716, 3717, 3719, 3720, 3721, 3724, 3727, 3728, 3729, 3735, 3738, 3741, 3742, 3743, 3745, 3747, 3751, 3756, 3757, 3760, 3761, 3762, 3764, 3766, 3767, 3768, 3769, 3773, 3775, 3776, 3777, 3779, 3780, 3781, 3783, 3785, 3787, 3788, 3789, 3790, 3792, 3793, 3794, 3795, 3796, 3797, 3804, 3806, 3810, 3811, 3812, 3813, 3814, 3815, 3817, 3818, 3819, 3820, 3824, 3825, 3827, 3830, 3838, 3839, 3840, 3844, 3845, 3847, 3850, 3851, 3852, 3853, 3854, 3856, 3857, 3858, 3859, 3860, 3861, 3862, 3864, 3865, 3866, 3867, 3869, 3870, 3871, 3872, 3874, 3876, 3877, 3878, 3881, 3882, 3883, 3884, 3885, 3891, 3894, 3895, 3897, 3899, 3900, 3901, 3903, 3904, 3905, 3907, 3908, 3909, 3911, 3912, 3916, 3917, 3920, 3921, 3923, 3924, 3927, 3932, 3933, 3934, 3938, 3942, 3943, 3944, 3947, 3952, 3953, 3963, 3966, 3968, 3970, 3973, 3977, 3978, 3979, 3980, 3981, 3985, 3986, 3987, 3991, 3992, 3993, 3994, 3995, 3996, 3997, 3998, 3999, 4002, 4003, 4004, 4006, 4009, 4011, 4012, 4015, 4016, 4018, 4020, 4021, 4024, 4025, 4026, 4028, 4029, 4032, 4034, 4037, 4038, 4046, 4047, 4048, 4050, 4051, 4052, 4053, 4054, 4059, 4061, 4063, 4064, 4066, 4070, 4071, 4074, 4075, 4082, 4083, 4084, 4085, 4087, 4088, 4090, 4092, 4093, 4094, 4096, 4103, 4106, 4111, 4113, 4114, 4116, 4117, 4119, 4121, 4125, 4127, 4129, 4131, 4132, 4138, 4139, 4142, 4143, 4147, 4152, 4155, 4156, 4157, 4161, 4163, 4164, 4165, 4166, 4167, 4168, 4169, 4172, 4175, 4176, 4178, 4179, 4183, 4184, 4186, 4187, 4188, 4190, 4191, 4192, 4193, 4194, 4197, 4198, 4199, 4202, 4204, 4205, 4206, 4213, 4215, 4218, 4219, 4223, 4229, 4230, 4231, 4232, 4233, 4237, 4239, 4240, 4249, 4250, 4255, 4259, 4260, 4262, 4264, 4266, 4268, 4269, 4272, 4273, 4276, 4277, 4280, 4281, 4282, 4285, 4287, 4288, 4289, 4290, 4292, 4293, 4294, 4295, 4297, 4299, 4300, 4302, 4303, 4305, 4311, 4317, 4318, 4319, 4326, 4329, 4331, 4332, 4333, 4337, 4339, 4342, 4347, 4350, 4352, 4353, 4354, 4355, 4357, 4358, 4362, 4363, 4364, 4365, 4367, 4368, 4369, 4370, 4371, 4377, 4382, 4384, 4386, 4387, 4389, 4390, 4392, 4393, 4395, 4397, 4402, 4404, 4405, 4407, 4408, 4410, 4412, 4413, 4414, 4420, 4421, 4427, 4428, 4429, 4433, 4436, 4437, 4438, 4439, 4440, 4442, 4444, 4447, 4448, 4450, 4451, 4452, 4454, 4459, 4462, 4463, 4465, 4467, 4468, 4469, 4470, 4472, 4473, 4475, 4476, 4480, 4481, 4483, 4486, 4488, 4491, 4492, 4494, 4495, 4496, 4497, 4498, 4499, 4500, 4506, 4508, 4509, 4510, 4513, 4514, 4516, 4518, 4519, 4520, 4521, 4523, 4525, 4527, 4529, 4532, 4534, 4536, 4538, 4539, 4540, 4541, 4543, 4545, 4548, 4549, 4553, 4555, 4559, 4560, 4562, 4564, 4566, 4568, 4569, 4572, 4573, 4577, 4578, 4581, 4584, 4587, 4589, 4591, 4592, 4593, 4594, 4596, 4599, 4600, 4601, 4603, 4605, 4607, 4608, 4609, 4610, 4611, 4615, 4621, 4623, 4626, 4627, 4628, 4630, 4631, 4632, 4634, 4635, 4639, 4640, 4642, 4643, 4651, 4652, 4653, 4654, 4655, 4661, 4664, 4667, 4668, 4670, 4672, 4677, 4679, 4681, 4685, 4688, 4691, 4693, 4694, 4696, 4699, 4700, 4703, 4704, 4706, 4709, 4713, 4714, 4715, 4717, 4718, 4719, 4723, 4724, 4728, 4729, 4731, 4732, 4733, 4734, 4735, 4736, 4739, 4740, 4741, 4745, 4747, 4748, 4749, 4750, 4752, 4753, 4754, 4756, 4758, 4760, 4761, 4762, 4765, 4766, 4767, 4769, 4771, 4773, 4776, 4777, 4781, 4782, 4783, 4784, 4786, 4787, 4789, 4791, 4792, 4793, 4797, 4798, 4799, 4801, 4805, 4807, 4809, 4810, 4811, 4812, 4815, 4817, 4819, 4821, 4822, 4823, 4824, 4825, 4826, 4830, 4832, 4833, 4834, 4835, 4837, 4838, 4839, 4840, 4841, 4843, 4845, 4848, 4849, 4850, 4851, 4856, 4857, 4858, 4861, 4863, 4865, 4868, 4869, 4872, 4876, 4877, 4878, 4879, 4880, 4884, 4885, 4886, 4887, 4888, 4891, 4894, 4896, 4897, 4898, 4900, 4901, 4903, 4907, 4908, 4910, 4911, 4912, 4914, 4916, 4917, 4919, 4920, 4923, 4931, 4933, 4934, 4936, 4937, 4939, 4940, 4942, 4952, 4957, 4958, 4959, 4961, 4965, 4966, 4967, 4969, 4970, 4971, 4973, 4974, 4975, 4978, 4979, 4982, 4983, 4984, 4985, 4986, 4990, 5000, 5001, 5002, 5003, 5006, 5009, 5011, 5012, 5013, 5014, 5018, 5019, 5021, 5022, 5023, 5024, 5025, 5029, 5032, 5033, 5034, 5036, 5037, 5038, 5040, 5044, 5046, 5047, 5048, 5050, 5054, 5055, 5056, 5058, 5059, 5060, 5062, 5067, 5068, 5071, 5072, 5073, 5074, 5075, 5078, 5079, 5080, 5081, 5083, 5084, 5085, 5088, 5092, 5097, 5099, 5102, 5105, 5109, 5110, 5113, 5115, 5116, 5117, 5122, 5124, 5125, 5126, 5127, 5129, 5130, 5131, 5136, 5139, 5140, 5141, 5142, 5143, 5144, 5146, 5149, 5150, 5152, 5153, 5154, 5159, 5161, 5163, 5164, 5165, 5169, 5171, 5173, 5174, 5176, 5177, 5178, 5179, 5180, 5185, 5186, 5189, 5190, 5193, 5194, 5196, 5199, 5200, 5202, 5203, 5206, 5207, 5210, 5211, 5212, 5213, 5215, 5217, 5219, 5221, 5228, 5230, 5231, 5232, 5236, 5237, 5239, 5240, 5242, 5243, 5245, 5247, 5250, 5251, 5253, 5255, 5256, 5261, 5262, 5263, 5264, 5265, 5266, 5268, 5269, 5272, 5273, 5274, 5277, 5279, 5281, 5284, 5286, 5289, 5290, 5291, 5293, 5294, 5296, 5297, 5298, 5299, 5300, 5302, 5303, 5304, 5308, 5310, 5311, 5312, 5314, 5315, 5316, 5318, 5320, 5321, 5326, 5330, 5332, 5335, 5340, 5342, 5343, 5344, 5345, 5346, 5349, 5352, 5353, 5356, 5364, 5366, 5367, 5369, 5370, 5375, 5376, 5381, 5382, 5384, 5385, 5387, 5388, 5389, 5390, 5391, 5393, 5396, 5397, 5398, 5400, 5403, 5404, 5406, 5408, 5409, 5411, 5413, 5416, 5419, 5421, 5422, 5423, 5426, 5429, 5430, 5435, 5438, 5441, 5444, 5445, 5446, 5447, 5448, 5449, 5450, 5452, 5454, 5456, 5457, 5458, 5459, 5460, 5462, 5470, 5473, 5475, 5476, 5478, 5482, 5483, 5484, 5485, 5489, 5491, 5492, 5495, 5496, 5497, 5498, 5499, 5500, 5502, 5504, 5509, 5510, 5512, 5516, 5518, 5521, 5525, 5529, 5531, 5532, 5533, 5534, 5537, 5538, 5541, 5542, 5544, 5545, 5547, 5548, 5549, 5552, 5553, 5555, 5556, 5557, 5558, 5560, 5562, 5563, 5566, 5567, 5568, 5569, 5571, 5573, 5574, 5575, 5576, 5579, 5580, 5582, 5583, 5584, 5585, 5587, 5588, 5591, 5592, 5594, 5595, 5596, 5598, 5600, 5601, 5602, 5605, 5606, 5608, 5616, 5618, 5620, 5623, 5624, 5625, 5626, 5627, 5629, 5630, 5634, 5637, 5640, 5641, 5642, 5643, 5645, 5646, 5647, 5648, 5650, 5653, 5654, 5659, 5662, 5664, 5666, 5667, 5668, 5669, 5670, 5671, 5673, 5675, 5676, 5679, 5680, 5682, 5685, 5688, 5689, 5690, 5691, 5692, 5693, 5694, 5695, 5697, 5699, 5700, 5701, 5703, 5704, 5705, 5707, 5708, 5709, 5710, 5712, 5713, 5718, 5719, 5720, 5722, 5723, 5724, 5725, 5727, 5730, 5732, 5737, 5739, 5740, 5743, 5744, 5747, 5750, 5751, 5752, 5753, 5756, 5757, 5759, 5760, 5762, 5763, 5767, 5768, 5771, 5773, 5774, 5775, 5776, 5778, 5779, 5780, 5781, 5782, 5784, 5785, 5786, 5790, 5793, 5794, 5795, 5796, 5798, 5799, 5800, 5801, 5802, 5806, 5807, 5808, 5809, 5810, 5812, 5813, 5814, 5815, 5819, 5820, 5822, 5823, 5825, 5826, 5827, 5828, 5829, 5834, 5835, 5836, 5838, 5839, 5841, 5846, 5854, 5856, 5857, 5859, 5863, 5864, 5866, 5867, 5868, 5869, 5871, 5873, 5875, 5876, 5878, 5881, 5884, 5885, 5887, 5888, 5889, 5890, 5891, 5892, 5893, 5894, 5899, 5909, 5912, 5914, 5915, 5916, 5917, 5918, 5922, 5923, 5925, 5926, 5927, 5931, 5932, 5934, 5935, 5936, 5937, 5939, 5940, 5943, 5945, 5946, 5947, 5949, 5950, 5951, 5952, 5954, 5955, 5957, 5958, 5959, 5961, 5962, 5963, 5964, 5965, 5966, 5968, 5969, 5970, 5971, 5972, 5975, 5977, 5978, 5979, 5980, 5982, 5983, 5984, 5987, 5988, 5989, 5991, 5995, 5997, 5999, 6000, 6001, 6004, 6008, 6010, 6012, 6018, 6020, 6025, 6026, 6027, 6028, 6030, 6033, 6035, 6036, 6038, 6041, 6044, 6047, 6048, 6052, 6053, 6055, 6056, 6058, 6060, 6061, 6063, 6067, 6068, 6069, 6070, 6071, 6072, 6073, 6075, 6077, 6079, 6080, 6081, 6082, 6085, 6087, 6088, 6089, 6090, 6091, 6093, 6094, 6096, 6101, 6103, 6106, 6109, 6111, 6112, 6115, 6117, 6118, 6119, 6123, 6124, 6127, 6128, 6129, 6131]\n",
      "Numbner of missing values 'weight': 3056\n"
     ]
    }
   ],
   "source": [
    "nan_indexes = df.index[df[column].isna()].tolist()\n",
    "\n",
    "print(f\"Nan indexes '{column}': {nan_indexes}\")\n",
    "print(f\"Numbner of missing values '{column}': {len(nan_indexes)}\")"
   ]
  },
  {
   "cell_type": "markdown",
   "metadata": {},
   "source": [
    "## DUPLICATE DATA\n",
    "For this task we can check three things:\n",
    "\n",
    "- Row which are the exact identical\n",
    "- Row with the same _url (our identifier)\n",
    "- Row with the same name"
   ]
  },
  {
   "cell_type": "code",
   "execution_count": 147,
   "metadata": {},
   "outputs": [
    {
     "name": "stdout",
     "output_type": "stream",
     "text": [
      "Number of identical row: 0\n",
      "Number of row with same _url: 0\n",
      "Number of row with same name: 14\n"
     ]
    }
   ],
   "source": [
    "same_rows = df.duplicated(keep=False)  \n",
    "\n",
    "url_duplicates = df.duplicated(subset=['_url'], keep=False) \n",
    "\n",
    "name_duplicates = df.duplicated(subset=['name'], keep=False) \n",
    "\n",
    "\n",
    "print(f\"Number of identical row: {same_rows.sum()}\")\n",
    "print(f\"Number of row with same _url: {url_duplicates.sum()}\")\n",
    "print(f\"Number of row with same name: {name_duplicates.sum()}\")"
   ]
  },
  {
   "cell_type": "markdown",
   "metadata": {},
   "source": [
    "We can see that the number of identical row is zero but we found 14 rows with same name, let's check them."
   ]
  },
  {
   "cell_type": "code",
   "execution_count": 148,
   "metadata": {},
   "outputs": [
    {
     "name": "stdout",
     "output_type": "stream",
     "text": [
      "                    name                        _url\n",
      "347        Andrea  Peron              andrea-peron-1\n",
      "1745    Roman  Kreuziger          roman-kreuziger-sr\n",
      "2235   Alessandro  Pozzi           alessandro-pozzi2\n",
      "2601    Roman  Kreuziger             roman-kreuziger\n",
      "2682       Andrea  Peron                andrea-peron\n",
      "2862    Antonio  Cabello       antonio-cabello-baena\n",
      "2939        Jesús  López               jesus-lopez23\n",
      "2953  Alberto  Fernández     alberto-fernandez-sainz\n",
      "3238    Antonio  Cabello             antonio-cabello\n",
      "4917   Sergio  Domínguez  sergio-dominguez-rodriguez\n",
      "4919   Sergio  Domínguez      sergio-dominguez-munoz\n",
      "5040        Jesús  López          jesus-lopez-carril\n",
      "5720  Alberto  Fernández    alberto-fernandez-blanco\n",
      "5722   Alessandro  Pozzi            alessandro-pozzi\n"
     ]
    }
   ],
   "source": [
    "print(df[name_duplicates][['name', '_url']])"
   ]
  },
  {
   "cell_type": "markdown",
   "metadata": {},
   "source": [
    "In this case the disambuigation is not so trivial, some times the duplicates are converted with a number after the classical url convertion, other ones it's converted with different information (second name). This makes the direct conversion harder but if we consider only the url as the identifier we have a well defined dataset in this case. Suggestion: redifinition of the url identifier in a clearly way :\n",
    "\n",
    "Name Second Surname in name-second-surname(number if there are identical name)"
   ]
  },
  {
   "cell_type": "markdown",
   "metadata": {},
   "source": [
    "## MISSING VALUES CORRELATION"
   ]
  },
  {
   "cell_type": "markdown",
   "metadata": {},
   "source": [
    "### Weight-Height"
   ]
  },
  {
   "cell_type": "code",
   "execution_count": 149,
   "metadata": {},
   "outputs": [
    {
     "name": "stdout",
     "output_type": "stream",
     "text": [
      "Missing values for both column (height e weight): 2984\n",
      "Missing values in just one column (height o weight): 79\n"
     ]
    }
   ],
   "source": [
    "both_missing = df['height'].isnull() & df['weight'].isnull()\n",
    "\n",
    "count_both_missing = both_missing.sum()\n",
    "\n",
    "only_one_missing = ((df['height'].isnull()) & (~df['weight'].isnull())) | ((~df['height'].isnull()) & df['weight'].isnull())\n",
    "\n",
    "count_one_missing = only_one_missing.sum()\n",
    "\n",
    "print(f\"Missing values for both column (height e weight): {count_both_missing}\")\n",
    "print(f\"Missing values in just one column (height o weight): {count_one_missing}\")"
   ]
  },
  {
   "cell_type": "markdown",
   "metadata": {},
   "source": [
    "In this case we can see that rarely the value miss in just one column so we can conclude that a separate analysis it's pointless."
   ]
  },
  {
   "cell_type": "markdown",
   "metadata": {},
   "source": [
    "### Nationality"
   ]
  },
  {
   "cell_type": "markdown",
   "metadata": {},
   "source": [
    "Some country have poor anagraphical system so can be intresting to view the correlation between theese two parameters"
   ]
  },
  {
   "cell_type": "markdown",
   "metadata": {},
   "source": [
    "We can view the same with the height feature"
   ]
  },
  {
   "cell_type": "code",
   "execution_count": 150,
   "metadata": {},
   "outputs": [
    {
     "data": {
      "image/png": "[encoded data removed]",
      "text/plain": [
       "<Figure size 1000x600 with 1 Axes>"
      ]
     },
     "metadata": {},
     "output_type": "display_data"
    }
   ],
   "source": [
    "missing_values = df[['nationality', 'height']].isnull()\n",
    "\n",
    "missing_by_country = missing_values.groupby(df['nationality']).sum()\n",
    "\n",
    "missing_by_country = missing_by_country[missing_by_country['height'] > 0]\n",
    "\n",
    "missing_by_country = missing_by_country.sort_values(by='height', ascending=False)\n",
    "\n",
    "plt.figure(figsize=(10, 6))\n",
    "missing_by_country['height'].plot(kind='bar', color='skyblue')\n",
    "plt.title('Missing height values for Nationality')\n",
    "plt.xlabel('Nationality')\n",
    "plt.ylabel('Missing values height count')\n",
    "plt.xticks(rotation=90)\n",
    "plt.show()"
   ]
  },
  {
   "cell_type": "markdown",
   "metadata": {},
   "source": [
    "### Birth Year"
   ]
  },
  {
   "cell_type": "code",
   "execution_count": 151,
   "metadata": {},
   "outputs": [
    {
     "data": {
      "image/png": "[encoded data removed]",
      "text/plain": [
       "<Figure size 1000x600 with 1 Axes>"
      ]
     },
     "metadata": {},
     "output_type": "display_data"
    }
   ],
   "source": [
    "missing_values = df[['birth_year', 'height']].isnull()\n",
    "\n",
    "missing_by_year = missing_values.groupby(df['birth_year']).sum()\n",
    "\n",
    "missing_by_year = missing_by_year[missing_by_year['height'] > 0]\n",
    "\n",
    "missing_by_year = missing_by_year.sort_index()\n",
    "\n",
    "plt.figure(figsize=(10, 6))\n",
    "missing_by_year['height'].plot(kind='bar', color='salmon')\n",
    "plt.title('Missing values for birth year')\n",
    "plt.xlabel('Birth year')\n",
    "plt.ylabel('Missing values height count')\n",
    "plt.xticks(rotation=90)\n",
    "plt.show()"
   ]
  },
  {
   "cell_type": "markdown",
   "metadata": {},
   "source": [
    "# FIXING THE DATA\n",
    "We write all the fixes on a new dataframe."
   ]
  },
  {
   "cell_type": "code",
   "execution_count": 152,
   "metadata": {},
   "outputs": [],
   "source": [
    "df2 = df.copy()"
   ]
  },
  {
   "cell_type": "markdown",
   "metadata": {},
   "source": [
    "## REMOVING OUTLIERS\n",
    "Thanks to the analysis in the data_distribution notebook we can remove the outliers in the column affected."
   ]
  },
  {
   "cell_type": "markdown",
   "metadata": {},
   "source": [
    "### birth_year"
   ]
  },
  {
   "cell_type": "code",
   "execution_count": 153,
   "metadata": {},
   "outputs": [
    {
     "name": "stdout",
     "output_type": "stream",
     "text": [
      "Number of outliers for birth_year: 0\n",
      "Number of outliers for birth_year: 0\n"
     ]
    }
   ],
   "source": [
    "from utils import find_outliers\n",
    "\n",
    "birth_year_outliers = find_outliers(df2, \"birth_year\")\n",
    "print(\"Number of outliers for birth_year:\", len(birth_year_outliers))\n",
    "\n",
    "outlier_indices = birth_year_outliers.index\n",
    "\n",
    "# remove outliers from birth_year column\n",
    "df2.loc[outlier_indices, 'birth_year'] = None\n",
    "birth_year_outliers = find_outliers(df2, \"birth_year\")\n",
    "print(\"Number of outliers for birth_year:\", len(birth_year_outliers))"
   ]
  },
  {
   "cell_type": "markdown",
   "metadata": {},
   "source": [
    "### weight"
   ]
  },
  {
   "cell_type": "code",
   "execution_count": 154,
   "metadata": {},
   "outputs": [
    {
     "name": "stdout",
     "output_type": "stream",
     "text": [
      "Number of outliers for weight: 19\n",
      "Number of outliers for weight: 0\n"
     ]
    }
   ],
   "source": [
    "weight_outliers = find_outliers(df2, \"weight\")\n",
    "print(\"Number of outliers for weight:\", len(weight_outliers))\n",
    "\n",
    "outlier_indices = weight_outliers.index\n",
    "\n",
    "# remove outliers from weight column\n",
    "df2.loc[outlier_indices, 'weight'] = None\n",
    "weight_outliers = find_outliers(df2, \"weight\")\n",
    "print(\"Number of outliers for weight:\", len(weight_outliers))"
   ]
  },
  {
   "cell_type": "markdown",
   "metadata": {},
   "source": [
    "### height"
   ]
  },
  {
   "cell_type": "code",
   "execution_count": 155,
   "metadata": {},
   "outputs": [
    {
     "name": "stdout",
     "output_type": "stream",
     "text": [
      "Number of outliers for height: 22\n",
      "Number of outliers for height: 0\n"
     ]
    }
   ],
   "source": [
    "height_outliers = find_outliers(df2, \"height\")\n",
    "print(\"Number of outliers for height:\", len(height_outliers))\n",
    "\n",
    "outlier_indices = height_outliers.index\n",
    "\n",
    "# remove outliers from weight column\n",
    "df2.loc[outlier_indices, 'height'] = None\n",
    "weight_outliers = find_outliers(df2, \"height\")\n",
    "print(\"Number of outliers for height:\", len(weight_outliers))"
   ]
  },
  {
   "cell_type": "markdown",
   "metadata": {},
   "source": [
    "## MISSING VALUES"
   ]
  },
  {
   "cell_type": "markdown",
   "metadata": {},
   "source": [
    "### Nationality\n",
    "Since we have just one missing value for this column we can search online the nationality of the cyclist or at least assign the most frequent one.\n",
    "[ProCyclingStats](https://www.procyclingstats.com/rider)"
   ]
  },
  {
   "cell_type": "code",
   "execution_count": 156,
   "metadata": {},
   "outputs": [
    {
     "name": "stdout",
     "output_type": "stream",
     "text": [
      "_url            scott-davies\n",
      "name           Scott  Davies\n",
      "birth_year               NaN\n",
      "weight                   NaN\n",
      "height                   NaN\n",
      "nationality              NaN\n",
      "Name: 9, dtype: object\n"
     ]
    }
   ],
   "source": [
    "print(df2.iloc[9])"
   ]
  },
  {
   "cell_type": "code",
   "execution_count": 157,
   "metadata": {},
   "outputs": [],
   "source": [
    "df2.at[9, 'nationality'] = 'Great Britain'"
   ]
  },
  {
   "cell_type": "markdown",
   "metadata": {},
   "source": [
    "### birth_year\n",
    "Since we have just 13 missing values we can search online the birth year, otherwise we can use the most frequent birth year.\n"
   ]
  },
  {
   "cell_type": "code",
   "execution_count": 158,
   "metadata": {},
   "outputs": [
    {
     "name": "stdout",
     "output_type": "stream",
     "text": [
      "Nan indexes 'birth_year': [9, 601, 894, 2408, 2515, 2536, 3046, 3551, 4142, 4384, 4756, 6072, 6080]\n",
      "Numbner of missing values 'birth_year': 13\n",
      "Name of the missing values 'birth_year':\n",
      " 9             Scott  Davies\n",
      "601       Vladimir  Malakov\n",
      "894         Antonio  Zanini\n",
      "2408     Filippo  Simonetti\n",
      "2515         Carlos  García\n",
      "2536       Alexandr  Osipov\n",
      "3046      Nicolai  Kosyakov\n",
      "3551            Guy  Nevens\n",
      "4142           Oscar  Pumar\n",
      "4384         Javier  Luquin\n",
      "4756        Thierry  Lauder\n",
      "6072    Sergei  Jermachenko\n",
      "6080       Batik  Odriozola\n",
      "Name: name, dtype: object\n"
     ]
    }
   ],
   "source": [
    "column='birth_year'\n",
    "nan_indexes = df2.index[df2[column].isna()].tolist()\n",
    "\n",
    "print(f\"Nan indexes '{column}': {nan_indexes}\")\n",
    "print(f\"Numbner of missing values '{column}': {len(nan_indexes)}\")\n",
    "print(f\"Name of the missing values '{column}':\\n {df2.loc[nan_indexes, 'name']}\")"
   ]
  },
  {
   "cell_type": "code",
   "execution_count": 159,
   "metadata": {},
   "outputs": [],
   "source": [
    "df2.at[9, 'birth_year'] = 1995\n",
    "df2.at[601, 'birth_year'] = 1958\n",
    "df2.at[894, 'birth_year'] = 1965\n",
    "df2.at[2408, 'birth_year'] = 0\n",
    "\n",
    "df2.at[2515, 'birth_year'] = 1958\n",
    "\n",
    "df2.at[2536, 'birth_year'] = 0\n",
    "df2.at[3046, 'birth_year'] = 0\n",
    "df2.at[3551, 'birth_year'] = 0\n",
    "df2.at[4142, 'birth_year'] = 1970\n",
    "df2.at[4384, 'birth_year'] = 0\n",
    "df2.at[4756, 'birth_year'] = 0\n",
    "df2.at[6072, 'birth_year'] = 0\n",
    "df2.at[6080, 'birth_year'] = 1970"
   ]
  },
  {
   "cell_type": "markdown",
   "metadata": {},
   "source": [
    "Now we can replace the rest with the most frequent value"
   ]
  },
  {
   "cell_type": "code",
   "execution_count": 160,
   "metadata": {},
   "outputs": [
    {
     "name": "stdout",
     "output_type": "stream",
     "text": [
      "Nan indexes 'birth_year': []\n",
      "Numbner of missing values 'birth_year': 0\n",
      "Name of the missing values 'birth_year': Series([], Name: name, dtype: object)\n"
     ]
    }
   ],
   "source": [
    "most_frequent_value = df2['birth_year'].mode()[0]\n",
    "df2['birth_year'] = df2['birth_year'].replace(0, most_frequent_value)\n",
    "nan_indexes = df2.index[df2['birth_year'].isna()].tolist()\n",
    "\n",
    "print(f\"Nan indexes '{column}': {nan_indexes}\")\n",
    "print(f\"Numbner of missing values '{column}': {len(nan_indexes)}\")\n",
    "print(f\"Name of the missing values '{column}': {df2.loc[nan_indexes, 'name']}\")\n"
   ]
  },
  {
   "cell_type": "markdown",
   "metadata": {},
   "source": [
    "### Weight - Height\n",
    "\n",
    "Since these two feature are so correlated we decide to fill the missing values togheter. The reason behind this choice is to mantain a correlation between the two value and return a meaningful value for each entry. First we decide to randomly fill the rows where both feature is missing."
   ]
  },
  {
   "cell_type": "code",
   "execution_count": 161,
   "metadata": {},
   "outputs": [
    {
     "name": "stdout",
     "output_type": "stream",
     "text": [
      "Missing values for both columns (height and weight): 2993\n",
      "Valid rows available for substitution: 3039\n",
      "Missing values for both columns after replacement: 0\n"
     ]
    }
   ],
   "source": [
    "import numpy as np\n",
    "\n",
    "df2[['height', 'weight']] = df2[['height', 'weight']].apply(pd.to_numeric, errors='coerce')\n",
    "\n",
    "np.random.seed(1)\n",
    "\n",
    "both_missing = df2['height'].isnull() & df2['weight'].isnull()\n",
    "count_both_missing = both_missing.sum()\n",
    "print(f\"Missing values for both columns (height and weight): {count_both_missing}\")\n",
    "\n",
    "# Keep valid rows for substitution\n",
    "valid_rows = df2.dropna(subset=['weight', 'height'])\n",
    "print(f\"Valid rows available for substitution: {len(valid_rows)}\")\n",
    "missing_rows = df2[both_missing].index\n",
    "\n",
    "for index in missing_rows:\n",
    "    substitute_row = valid_rows.sample(n=1, replace=True)\n",
    "    df2.at[index, 'weight'] = substitute_row['weight'].values[0]\n",
    "    df2.at[index, 'height'] = substitute_row['height'].values[0]\n",
    "\n",
    "\n",
    "both_missing = df2['height'].isnull() & df2['weight'].isnull()\n",
    "count_both_missing = both_missing.sum()\n",
    "print(f\"Missing values for both columns after replacement: {count_both_missing}\")\n"
   ]
  },
  {
   "cell_type": "markdown",
   "metadata": {},
   "source": [
    "Now we can build a distribution model for the singular missing values based on the present one. For example, if only height is missing the model will choose height randomly in rows with that weight and viceversa, if the value misses it will chose the nearest one. This solution couldn't be the best one due to poor correlation between the two features (0.33) but it's better than a random shot."
   ]
  },
  {
   "cell_type": "code",
   "execution_count": 162,
   "metadata": {},
   "outputs": [
    {
     "name": "stdout",
     "output_type": "stream",
     "text": [
      "Missing values for height: 20\n",
      "Valid rows available for substitution: 6114\n",
      "False\n",
      "Missing values for height column after replacement: 0\n",
      "Empty DataFrame\n",
      "Columns: [name, weight, height]\n",
      "Index: []\n"
     ]
    }
   ],
   "source": [
    "np.random.seed(1)\n",
    "\n",
    "height_missing = df2['height'].isnull()\n",
    "count_height_missing = height_missing.sum()\n",
    "print(f\"Missing values for height: {count_height_missing}\")\n",
    "\n",
    "# Keep valid rows for substitution\n",
    "valid_rows = df2.dropna(subset=['height'])\n",
    "print(f\"Valid rows available for substitution: {len(valid_rows)}\")\n",
    "missing_rows = df2[height_missing].index\n",
    "\n",
    "\n",
    "for index in missing_rows:\n",
    "\n",
    "    candidate_rows = valid_rows[valid_rows['weight'] == df.at[index, 'weight']]\n",
    "\n",
    "    if len(candidate_rows) > 0:\n",
    "        substitute_row = candidate_rows.sample(n=1, replace=True)\n",
    "\n",
    "    else:\n",
    "        # We have to add this check due to a bug in pandas\n",
    "        temp_rows = valid_rows[valid_rows.index != index]\n",
    "        temp_rows['difference'] = (temp_rows['weight'] - df2.at[index, 'weight']).abs()\n",
    "        minimal_difference = temp_rows['difference'].min()\n",
    "        nearest_rows = temp_rows[temp_rows['difference'] == minimal_difference]\n",
    "\n",
    "        substitute_row = nearest_rows.sample(n=1, replace=True)\n",
    "\n",
    "        temp_rows = temp_rows.drop(columns='difference')\n",
    "    \n",
    "    df2.at[index, 'height'] = substitute_row['height'].values[0]\n",
    "\n",
    "\n",
    "height_missing = df2['height'].isnull()\n",
    "print(height_missing[0])\n",
    "count_height_missing = height_missing.sum()\n",
    "print(f\"Missing values for height column after replacement: {count_height_missing}\")\n",
    "print(df2.loc[height_missing, ['name', 'weight', 'height']])\n"
   ]
  },
  {
   "cell_type": "code",
   "execution_count": 163,
   "metadata": {},
   "outputs": [
    {
     "name": "stdout",
     "output_type": "stream",
     "text": [
      "Missing values for weight: 82\n",
      "Valid rows available for substitution: 6052\n",
      "False\n",
      "Missing values for weight column after replacement: 0\n",
      "Empty DataFrame\n",
      "Columns: [name, weight, height]\n",
      "Index: []\n"
     ]
    }
   ],
   "source": [
    "np.random.seed(1)\n",
    "\n",
    "height_missing = df2['weight'].isnull()\n",
    "count_height_missing = height_missing.sum()\n",
    "print(f\"Missing values for weight: {count_height_missing}\")\n",
    "\n",
    "# Keep valid rows for substitution\n",
    "valid_rows = df2.dropna(subset=['weight'])\n",
    "print(f\"Valid rows available for substitution: {len(valid_rows)}\")\n",
    "missing_rows = df2[height_missing].index\n",
    "\n",
    "\n",
    "for index in missing_rows:\n",
    "\n",
    "    candidate_rows = valid_rows[valid_rows['height'] == df.at[index, 'height']]\n",
    "\n",
    "    if len(candidate_rows) > 0:\n",
    "        substitute_row = candidate_rows.sample(n=1, replace=True)\n",
    "\n",
    "    else:\n",
    "        # We have to add this check due to a bug in pandas\n",
    "        temp_rows = valid_rows[valid_rows.index != index]\n",
    "        temp_rows['difference'] = (temp_rows['height'] - df2.at[index, 'height']).abs()\n",
    "        minimal_difference = temp_rows['difference'].min()\n",
    "        nearest_rows = temp_rows[temp_rows['difference'] == minimal_difference]\n",
    "\n",
    "        substitute_row = nearest_rows.sample(n=1, replace=True)\n",
    "\n",
    "        temp_rows = temp_rows.drop(columns='difference')\n",
    "    \n",
    "    df2.at[index, 'weight'] = substitute_row['weight'].values[0]\n",
    "\n",
    "\n",
    "height_missing = df2['weight'].isnull()\n",
    "print(height_missing[0])\n",
    "count_height_missing = height_missing.sum()\n",
    "print(f\"Missing values for weight column after replacement: {count_height_missing}\")\n",
    "print(df2.loc[height_missing, ['name', 'weight', 'height']])\n"
   ]
  },
  {
   "cell_type": "code",
   "execution_count": 164,
   "metadata": {},
   "outputs": [
    {
     "name": "stdout",
     "output_type": "stream",
     "text": [
      "Missing values for both column (height e weight): 0\n",
      "Missing values in just one column (height o weight): 0\n"
     ]
    }
   ],
   "source": [
    "both_missing = df2['height'].isnull() & df2['weight'].isnull()\n",
    "\n",
    "count_both_missing = both_missing.sum()\n",
    "\n",
    "only_one_missing = ((df2['height'].isnull()) & (~df2['weight'].isnull())) | ((~df2['height'].isnull()) & df2['weight'].isnull())\n",
    "\n",
    "count_one_missing = only_one_missing.sum()\n",
    "\n",
    "print(f\"Missing values for both column (height e weight): {count_both_missing}\")\n",
    "print(f\"Missing values in just one column (height o weight): {count_one_missing}\")"
   ]
  },
  {
   "cell_type": "markdown",
   "metadata": {},
   "source": [
    "## DATA TYPE CASTING\n",
    "For each column we cast the column with the most common type for that kind of data.\n"
   ]
  },
  {
   "cell_type": "code",
   "execution_count": 165,
   "metadata": {},
   "outputs": [
    {
     "name": "stdout",
     "output_type": "stream",
     "text": [
      "<class 'pandas.core.frame.DataFrame'>\n",
      "RangeIndex: 6134 entries, 0 to 6133\n",
      "Data columns (total 6 columns):\n",
      " #   Column       Non-Null Count  Dtype  \n",
      "---  ------       --------------  -----  \n",
      " 0   _url         6134 non-null   object \n",
      " 1   name         6134 non-null   object \n",
      " 2   birth_year   6134 non-null   int64  \n",
      " 3   weight       6134 non-null   float64\n",
      " 4   height       6134 non-null   int64  \n",
      " 5   nationality  6134 non-null   object \n",
      "dtypes: float64(1), int64(2), object(3)\n",
      "memory usage: 287.7+ KB\n"
     ]
    }
   ],
   "source": [
    "df2['name'] = df2['name'].astype(str)\n",
    "df2['birth_year'] = df2['birth_year'].astype(int)\n",
    "df2['nationality'] = df2['nationality'].astype(str)\n",
    "df2['height'] = df2['height'].astype(int)\n",
    "df2.info()"
   ]
  },
  {
   "cell_type": "code",
   "execution_count": 166,
   "metadata": {},
   "outputs": [],
   "source": [
    "# Save the cleaned dataset\n",
    "df2.to_csv(path.join('..','..','..','dataset', 'cyclists_cleaned.csv'), index=False)"
   ]
  },
  {
   "cell_type": "markdown",
   "metadata": {},
   "source": [
    "# FEATURE ENGINEERING (TASK 2)"
   ]
  },
  {
   "cell_type": "markdown",
   "metadata": {},
   "source": [
    "## COLUMN REDEFINITION\n"
   ]
  },
  {
   "cell_type": "markdown",
   "metadata": {},
   "source": [
    "### Name\n",
    "The first column to be redefined is the name, in the base dataset the conversion from the url is counterintuitive and include ambiguous informations.\n",
    "We have to check if exists name with more than 3 entry."
   ]
  },
  {
   "cell_type": "code",
   "execution_count": 167,
   "metadata": {},
   "outputs": [
    {
     "name": "stdout",
     "output_type": "stream",
     "text": [
      "name\n",
      "6       1\n",
      "5      10\n",
      "4     116\n",
      "3     757\n",
      "2    5250\n",
      "Name: count, dtype: int64\n"
     ]
    }
   ],
   "source": [
    "df3 = pd.read_csv(path.join('..','..','..','dataset', 'cyclists_cleaned.csv'))\n",
    "\n",
    "colonna = df3['name']\n",
    "\n",
    "conteggio_parole = colonna.apply(lambda x: len(str(x).split()))\n",
    "\n",
    "distribuzione = conteggio_parole.value_counts().sort_index(ascending=False)\n",
    "\n",
    "print(distribuzione)"
   ]
  },
  {
   "cell_type": "markdown",
   "metadata": {},
   "source": [
    "In this case we have to check if there are name with more surname."
   ]
  },
  {
   "cell_type": "code",
   "execution_count": 168,
   "metadata": {},
   "outputs": [
    {
     "name": "stdout",
     "output_type": "stream",
     "text": [
      "name\n",
      "3       1\n",
      "2    5750\n",
      "1     383\n",
      "Name: count, dtype: int64\n"
     ]
    }
   ],
   "source": [
    "colonna = df3['name']\n",
    "\n",
    "conteggio_parole = colonna.apply(lambda x: len(str(x).split(\"  \")))\n",
    "\n",
    "distribuzione = conteggio_parole.value_counts().sort_index(ascending=False)\n",
    "\n",
    "print(distribuzione)"
   ]
  },
  {
   "cell_type": "markdown",
   "metadata": {},
   "source": [
    "We can see that we have name without surname and names with two surnames."
   ]
  },
  {
   "cell_type": "code",
   "execution_count": 169,
   "metadata": {},
   "outputs": [
    {
     "data": {
      "text/html": [
       "<div>\n",
       "<style scoped>\n",
       "    .dataframe tbody tr th:only-of-type {\n",
       "        vertical-align: middle;\n",
       "    }\n",
       "\n",
       "    .dataframe tbody tr th {\n",
       "        vertical-align: top;\n",
       "    }\n",
       "\n",
       "    .dataframe thead th {\n",
       "        text-align: right;\n",
       "    }\n",
       "</style>\n",
       "<table border=\"1\" class=\"dataframe\">\n",
       "  <thead>\n",
       "    <tr style=\"text-align: right;\">\n",
       "      <th></th>\n",
       "      <th>_url</th>\n",
       "      <th>name</th>\n",
       "      <th>birth_year</th>\n",
       "      <th>weight</th>\n",
       "      <th>height</th>\n",
       "      <th>nationality</th>\n",
       "    </tr>\n",
       "  </thead>\n",
       "  <tbody>\n",
       "    <tr>\n",
       "      <th>1009</th>\n",
       "      <td>jose-luis-roldan</td>\n",
       "      <td>Jose  Luis  Roldán</td>\n",
       "      <td>1985.0</td>\n",
       "      <td>61.0</td>\n",
       "      <td>175.0</td>\n",
       "      <td>Spain</td>\n",
       "    </tr>\n",
       "  </tbody>\n",
       "</table>\n",
       "</div>"
      ],
      "text/plain": [
       "                  _url                name  birth_year  weight  height  \\\n",
       "1009  jose-luis-roldan  Jose  Luis  Roldán      1985.0    61.0   175.0   \n",
       "\n",
       "     nationality  \n",
       "1009       Spain  "
      ]
     },
     "execution_count": 169,
     "metadata": {},
     "output_type": "execute_result"
    }
   ],
   "source": [
    "conteggio_parole = colonna.apply(lambda x: len(str(x).split(\"  \")))\n",
    "\n",
    "dataset_3_parole = df[conteggio_parole == 3]\n",
    "dataset_1_parola = df[conteggio_parole == 1]\n",
    "\n",
    "dataset_3_parole.head()\n"
   ]
  },
  {
   "cell_type": "code",
   "execution_count": 170,
   "metadata": {},
   "outputs": [],
   "source": [
    "df3.at[1009, 'name'] = 'Jose Luis  Roldán'"
   ]
  },
  {
   "cell_type": "markdown",
   "metadata": {},
   "source": [
    "We infer the convention that the last word in the name is the surname so we standardize the format (name-whitespace for each second name-surname)"
   ]
  },
  {
   "cell_type": "code",
   "execution_count": 171,
   "metadata": {},
   "outputs": [],
   "source": [
    "def add_whitespace(string):\n",
    "    parole = string.split(\"  \")\n",
    "    if len(parole) == 1:\n",
    "        wordsplitted = string.split(' ')\n",
    "        wordsplitted[-1] = ' ' + parole[-1] \n",
    "        return ' '.join(wordsplitted)\n",
    "    return string\n",
    "\n",
    "df3['name'] = colonna.apply(add_whitespace)"
   ]
  },
  {
   "cell_type": "code",
   "execution_count": 172,
   "metadata": {},
   "outputs": [
    {
     "name": "stdout",
     "output_type": "stream",
     "text": [
      "name\n",
      "2    6134\n",
      "Name: count, dtype: int64\n"
     ]
    }
   ],
   "source": [
    "colonna = df3['name']\n",
    "\n",
    "conteggio_parole = colonna.apply(lambda x: len(str(x).split(\"  \")))\n",
    "\n",
    "distribuzione = conteggio_parole.value_counts().sort_index(ascending=False)\n",
    "\n",
    "print(distribuzione)\n"
   ]
  },
  {
   "cell_type": "markdown",
   "metadata": {},
   "source": [
    "Now that we have standardized name format we can check the url, remembering the previously convention, surname are formed with one word so all the strings before the last \"-\" are part of the name. In the wrong values section we have seen cases where misses the last word of the surname so we can apply 2 strategies:\n",
    "- Where the url has more entry than the name we put the new part in the name in a position based on the url position. So if we find name-surname-(another string) and the another string is missing in the name part that will be part of the surname, the same for the second name\n",
    "- Where the name has more entry than the url we fill the url adding \"-\" at the right point"
   ]
  },
  {
   "cell_type": "markdown",
   "metadata": {},
   "source": [
    "Adding information to name from the url.\n"
   ]
  },
  {
   "cell_type": "code",
   "execution_count": 173,
   "metadata": {},
   "outputs": [],
   "source": [
    "import re\n",
    "\n",
    "def normalize_text(testo):\n",
    "    testo_normale = unicodedata.normalize('NFD', testo)\n",
    "    testo_senza_accenti = ''.join([c for c in testo_normale if unicodedata.category(c) != 'Mn'])\n",
    "    testo_finale = re.sub(r'[^a-zA-Z0-9\\s]', '', testo_senza_accenti)\n",
    "    return testo_finale\n",
    "\n",
    "\n",
    "def fix_name(stringurl, stringname):\n",
    "\n",
    "    stringfixed = stringurl.replace('-',' ').lower()\n",
    "    stringfixed = re.sub(r'\\d+', '', stringfixed)\n",
    "    stringfixed = stringfixed.title()\n",
    "    vettoreurl = stringfixed.split()\n",
    "    \n",
    "    stringnamefixed = normalize_text(stringname)\n",
    "    vettorename = re.split(r'\\s+', stringnamefixed)\n",
    "    # Index of the double space in the name\n",
    "    match = re.search(r'  ', stringname)\n",
    "    \n",
    "    if len(vettoreurl) == len(vettorename):\n",
    "        return stringname\n",
    "    length = 0\n",
    "\n",
    "    for indiceurl in range(len(vettoreurl)):\n",
    "        length += len(vettoreurl[indiceurl])\n",
    "        if vettoreurl[indiceurl] not in vettorename:\n",
    "            vettorename.insert(indiceurl, vettoreurl[indiceurl])\n",
    "            # Second name found, doble space position is changed\n",
    "            if length < match:\n",
    "                match = match + len(vettoreurl[indiceurl])\n",
    "        length = length+1\n",
    "    #Adding the doublespace of the surname\n",
    "    nuovoname = ' '.join(vettorename)\n",
    "    fixedname = nuovoname[:match] + ' ' + nuovoname[match:]\n",
    "    return fixedname\n"
   ]
  },
  {
   "cell_type": "markdown",
   "metadata": {},
   "source": [
    "Create new url through fixed conversion rule. (CAPIRE SE HA SENSO CAMBIARE URL)"
   ]
  },
  {
   "cell_type": "markdown",
   "metadata": {},
   "source": [
    "## ADDING COLUMNS"
   ]
  },
  {
   "cell_type": "markdown",
   "metadata": {},
   "source": [
    "### Weight - Height => BMI\n",
    "For a further study we add the BMI index, the calculation is weight/(height[m])*2"
   ]
  },
  {
   "cell_type": "code",
   "execution_count": 174,
   "metadata": {},
   "outputs": [],
   "source": [
    "df3['bmi'] = df3['weight'] / (df3['height'] / 100) ** 2"
   ]
  },
  {
   "cell_type": "markdown",
   "metadata": {},
   "source": [
    "### FEATURE FROM RACES DATASET"
   ]
  },
  {
   "cell_type": "code",
   "execution_count": 175,
   "metadata": {},
   "outputs": [
    {
     "data": {
      "text/html": [
       "<div>\n",
       "<style scoped>\n",
       "    .dataframe tbody tr th:only-of-type {\n",
       "        vertical-align: middle;\n",
       "    }\n",
       "\n",
       "    .dataframe tbody tr th {\n",
       "        vertical-align: top;\n",
       "    }\n",
       "\n",
       "    .dataframe thead th {\n",
       "        text-align: right;\n",
       "    }\n",
       "</style>\n",
       "<table border=\"1\" class=\"dataframe\">\n",
       "  <thead>\n",
       "    <tr style=\"text-align: right;\">\n",
       "      <th></th>\n",
       "      <th>_url</th>\n",
       "      <th>name</th>\n",
       "      <th>points</th>\n",
       "      <th>length</th>\n",
       "      <th>climb_total</th>\n",
       "      <th>profile</th>\n",
       "      <th>startlist_quality</th>\n",
       "      <th>date</th>\n",
       "      <th>position</th>\n",
       "      <th>cyclist</th>\n",
       "      <th>cyclist_age</th>\n",
       "      <th>is_tarmac</th>\n",
       "      <th>cyclist_team</th>\n",
       "      <th>delta</th>\n",
       "    </tr>\n",
       "  </thead>\n",
       "  <tbody>\n",
       "    <tr>\n",
       "      <th>0</th>\n",
       "      <td>tour-de-france/1978/stage-6</td>\n",
       "      <td>Tour de France</td>\n",
       "      <td>100.0</td>\n",
       "      <td>162000.0</td>\n",
       "      <td>1101.0</td>\n",
       "      <td>1.0</td>\n",
       "      <td>1241</td>\n",
       "      <td>1978-07-05 04:02:24</td>\n",
       "      <td>0</td>\n",
       "      <td>sean-kelly</td>\n",
       "      <td>22.0</td>\n",
       "      <td>True</td>\n",
       "      <td>vini-ricordi-pinarello-sidermec-1986</td>\n",
       "      <td>0.0</td>\n",
       "    </tr>\n",
       "    <tr>\n",
       "      <th>1</th>\n",
       "      <td>tour-de-france/1978/stage-6</td>\n",
       "      <td>Tour de France</td>\n",
       "      <td>100.0</td>\n",
       "      <td>162000.0</td>\n",
       "      <td>1101.0</td>\n",
       "      <td>1.0</td>\n",
       "      <td>1241</td>\n",
       "      <td>1978-07-05 04:02:24</td>\n",
       "      <td>1</td>\n",
       "      <td>gerrie-knetemann</td>\n",
       "      <td>27.0</td>\n",
       "      <td>True</td>\n",
       "      <td>norway-1987</td>\n",
       "      <td>0.0</td>\n",
       "    </tr>\n",
       "    <tr>\n",
       "      <th>2</th>\n",
       "      <td>tour-de-france/1978/stage-6</td>\n",
       "      <td>Tour de France</td>\n",
       "      <td>100.0</td>\n",
       "      <td>162000.0</td>\n",
       "      <td>1101.0</td>\n",
       "      <td>1.0</td>\n",
       "      <td>1241</td>\n",
       "      <td>1978-07-05 04:02:24</td>\n",
       "      <td>2</td>\n",
       "      <td>rene-bittinger</td>\n",
       "      <td>24.0</td>\n",
       "      <td>True</td>\n",
       "      <td>france-1978</td>\n",
       "      <td>0.0</td>\n",
       "    </tr>\n",
       "    <tr>\n",
       "      <th>3</th>\n",
       "      <td>tour-de-france/1978/stage-6</td>\n",
       "      <td>Tour de France</td>\n",
       "      <td>100.0</td>\n",
       "      <td>162000.0</td>\n",
       "      <td>1101.0</td>\n",
       "      <td>1.0</td>\n",
       "      <td>1241</td>\n",
       "      <td>1978-07-05 04:02:24</td>\n",
       "      <td>3</td>\n",
       "      <td>joseph-bruyere</td>\n",
       "      <td>30.0</td>\n",
       "      <td>True</td>\n",
       "      <td>navigare-blue-storm-1993</td>\n",
       "      <td>0.0</td>\n",
       "    </tr>\n",
       "    <tr>\n",
       "      <th>4</th>\n",
       "      <td>tour-de-france/1978/stage-6</td>\n",
       "      <td>Tour de France</td>\n",
       "      <td>100.0</td>\n",
       "      <td>162000.0</td>\n",
       "      <td>1101.0</td>\n",
       "      <td>1.0</td>\n",
       "      <td>1241</td>\n",
       "      <td>1978-07-05 04:02:24</td>\n",
       "      <td>4</td>\n",
       "      <td>sven-ake-nilsson</td>\n",
       "      <td>27.0</td>\n",
       "      <td>True</td>\n",
       "      <td>spain-1991</td>\n",
       "      <td>0.0</td>\n",
       "    </tr>\n",
       "  </tbody>\n",
       "</table>\n",
       "</div>"
      ],
      "text/plain": [
       "                          _url            name  points    length  climb_total  \\\n",
       "0  tour-de-france/1978/stage-6  Tour de France   100.0  162000.0       1101.0   \n",
       "1  tour-de-france/1978/stage-6  Tour de France   100.0  162000.0       1101.0   \n",
       "2  tour-de-france/1978/stage-6  Tour de France   100.0  162000.0       1101.0   \n",
       "3  tour-de-france/1978/stage-6  Tour de France   100.0  162000.0       1101.0   \n",
       "4  tour-de-france/1978/stage-6  Tour de France   100.0  162000.0       1101.0   \n",
       "\n",
       "   profile  startlist_quality                 date  position  \\\n",
       "0      1.0               1241  1978-07-05 04:02:24         0   \n",
       "1      1.0               1241  1978-07-05 04:02:24         1   \n",
       "2      1.0               1241  1978-07-05 04:02:24         2   \n",
       "3      1.0               1241  1978-07-05 04:02:24         3   \n",
       "4      1.0               1241  1978-07-05 04:02:24         4   \n",
       "\n",
       "            cyclist  cyclist_age  is_tarmac  \\\n",
       "0        sean-kelly         22.0       True   \n",
       "1  gerrie-knetemann         27.0       True   \n",
       "2    rene-bittinger         24.0       True   \n",
       "3    joseph-bruyere         30.0       True   \n",
       "4  sven-ake-nilsson         27.0       True   \n",
       "\n",
       "                           cyclist_team  delta  \n",
       "0  vini-ricordi-pinarello-sidermec-1986    0.0  \n",
       "1                           norway-1987    0.0  \n",
       "2                           france-1978    0.0  \n",
       "3              navigare-blue-storm-1993    0.0  \n",
       "4                            spain-1991    0.0  "
      ]
     },
     "execution_count": 175,
     "metadata": {},
     "output_type": "execute_result"
    }
   ],
   "source": [
    "from utils import handle_missing_df\n",
    "\n",
    "RACES_DATASET_PATH = path.join('..','..','..','dataset', 'races_cleaned.csv')\n",
    "dfraces= pd.read_csv(RACES_DATASET_PATH)\n",
    "\n",
    "dfraces.head()\n"
   ]
  },
  {
   "cell_type": "markdown",
   "metadata": {},
   "source": [
    "#### CARREER POINTS\n",
    "Questa è la misura più complessa e riassume la carriera del ciclista registrata nel dataset.\n",
    "Per farlo sommiamo il punteggio ottenuto totale "
   ]
  },
  {
   "cell_type": "code",
   "execution_count": 176,
   "metadata": {},
   "outputs": [
    {
     "data": {
      "text/html": [
       "<div>\n",
       "<style scoped>\n",
       "    .dataframe tbody tr th:only-of-type {\n",
       "        vertical-align: middle;\n",
       "    }\n",
       "\n",
       "    .dataframe tbody tr th {\n",
       "        vertical-align: top;\n",
       "    }\n",
       "\n",
       "    .dataframe thead th {\n",
       "        text-align: right;\n",
       "    }\n",
       "</style>\n",
       "<table border=\"1\" class=\"dataframe\">\n",
       "  <thead>\n",
       "    <tr style=\"text-align: right;\">\n",
       "      <th></th>\n",
       "      <th>_url</th>\n",
       "      <th>name</th>\n",
       "      <th>birth_year</th>\n",
       "      <th>weight</th>\n",
       "      <th>height</th>\n",
       "      <th>nationality</th>\n",
       "      <th>bmi</th>\n",
       "      <th>career_points</th>\n",
       "    </tr>\n",
       "  </thead>\n",
       "  <tbody>\n",
       "    <tr>\n",
       "      <th>0</th>\n",
       "      <td>bruno-surra</td>\n",
       "      <td>Bruno  Surra</td>\n",
       "      <td>1964</td>\n",
       "      <td>73.0</td>\n",
       "      <td>185</td>\n",
       "      <td>Italy</td>\n",
       "      <td>21.329438</td>\n",
       "      <td>80.0</td>\n",
       "    </tr>\n",
       "    <tr>\n",
       "      <th>1</th>\n",
       "      <td>gerard-rue</td>\n",
       "      <td>Gérard  Rué</td>\n",
       "      <td>1965</td>\n",
       "      <td>74.0</td>\n",
       "      <td>182</td>\n",
       "      <td>France</td>\n",
       "      <td>22.340297</td>\n",
       "      <td>26105.0</td>\n",
       "    </tr>\n",
       "    <tr>\n",
       "      <th>2</th>\n",
       "      <td>jan-maas</td>\n",
       "      <td>Jan  Maas</td>\n",
       "      <td>1996</td>\n",
       "      <td>69.0</td>\n",
       "      <td>189</td>\n",
       "      <td>Netherlands</td>\n",
       "      <td>19.316369</td>\n",
       "      <td>4425.0</td>\n",
       "    </tr>\n",
       "    <tr>\n",
       "      <th>3</th>\n",
       "      <td>nathan-van-hooydonck</td>\n",
       "      <td>Nathan Van  Nathan Van Hooydonck</td>\n",
       "      <td>1995</td>\n",
       "      <td>78.0</td>\n",
       "      <td>192</td>\n",
       "      <td>Belgium</td>\n",
       "      <td>21.158854</td>\n",
       "      <td>17205.0</td>\n",
       "    </tr>\n",
       "    <tr>\n",
       "      <th>4</th>\n",
       "      <td>jose-felix-parra</td>\n",
       "      <td>José Félix  Parra</td>\n",
       "      <td>1997</td>\n",
       "      <td>55.0</td>\n",
       "      <td>171</td>\n",
       "      <td>Spain</td>\n",
       "      <td>18.809206</td>\n",
       "      <td>3085.0</td>\n",
       "    </tr>\n",
       "  </tbody>\n",
       "</table>\n",
       "</div>"
      ],
      "text/plain": [
       "                   _url                              name  birth_year  weight  \\\n",
       "0           bruno-surra                      Bruno  Surra        1964    73.0   \n",
       "1            gerard-rue                       Gérard  Rué        1965    74.0   \n",
       "2              jan-maas                         Jan  Maas        1996    69.0   \n",
       "3  nathan-van-hooydonck  Nathan Van  Nathan Van Hooydonck        1995    78.0   \n",
       "4      jose-felix-parra                 José Félix  Parra        1997    55.0   \n",
       "\n",
       "   height  nationality        bmi  career_points  \n",
       "0     185        Italy  21.329438           80.0  \n",
       "1     182       France  22.340297        26105.0  \n",
       "2     189  Netherlands  19.316369         4425.0  \n",
       "3     192      Belgium  21.158854        17205.0  \n",
       "4     171        Spain  18.809206         3085.0  "
      ]
     },
     "execution_count": 176,
     "metadata": {},
     "output_type": "execute_result"
    }
   ],
   "source": [
    "\n",
    "df3['career_points'] = 0\n",
    "\n",
    "career_points = dfraces.groupby('cyclist')['points'].sum()\n",
    "\n",
    "df3['career_points'] = df3['_url'].map(career_points)\n",
    "\n",
    "df3['career_points']=df3['career_points'].fillna(0)\n",
    "\n",
    "df3.head()\n"
   ]
  },
  {
   "cell_type": "markdown",
   "metadata": {},
   "source": [
    "#### CARREER DURATION\n",
    "Con questa feature misuriamo la durata totale della carriera di un ciclista, in numero di gare, in giorni (misurati sull'ultima gara disponibile meno la prima) e sull'anno della prima gara."
   ]
  },
  {
   "cell_type": "code",
   "execution_count": null,
   "metadata": {},
   "outputs": [
    {
     "data": {
      "text/html": [
       "<div>\n",
       "<style scoped>\n",
       "    .dataframe tbody tr th:only-of-type {\n",
       "        vertical-align: middle;\n",
       "    }\n",
       "\n",
       "    .dataframe tbody tr th {\n",
       "        vertical-align: top;\n",
       "    }\n",
       "\n",
       "    .dataframe thead th {\n",
       "        text-align: right;\n",
       "    }\n",
       "</style>\n",
       "<table border=\"1\" class=\"dataframe\">\n",
       "  <thead>\n",
       "    <tr style=\"text-align: right;\">\n",
       "      <th></th>\n",
       "      <th>_url</th>\n",
       "      <th>name</th>\n",
       "      <th>birth_year</th>\n",
       "      <th>weight</th>\n",
       "      <th>height</th>\n",
       "      <th>nationality</th>\n",
       "      <th>bmi</th>\n",
       "      <th>career_points</th>\n",
       "      <th>career_duration(days)</th>\n",
       "      <th>career_duration(races)</th>\n",
       "      <th>debut_year</th>\n",
       "    </tr>\n",
       "  </thead>\n",
       "  <tbody>\n",
       "    <tr>\n",
       "      <th>0</th>\n",
       "      <td>bruno-surra</td>\n",
       "      <td>Bruno  Surra</td>\n",
       "      <td>1964</td>\n",
       "      <td>73.0</td>\n",
       "      <td>185</td>\n",
       "      <td>Italy</td>\n",
       "      <td>21.329438</td>\n",
       "      <td>80.0</td>\n",
       "      <td>1.0</td>\n",
       "      <td>1.0</td>\n",
       "      <td>1989.0</td>\n",
       "    </tr>\n",
       "    <tr>\n",
       "      <th>1</th>\n",
       "      <td>gerard-rue</td>\n",
       "      <td>Gérard  Rué</td>\n",
       "      <td>1965</td>\n",
       "      <td>74.0</td>\n",
       "      <td>182</td>\n",
       "      <td>France</td>\n",
       "      <td>22.340297</td>\n",
       "      <td>26105.0</td>\n",
       "      <td>3492.0</td>\n",
       "      <td>222.0</td>\n",
       "      <td>1988.0</td>\n",
       "    </tr>\n",
       "    <tr>\n",
       "      <th>2</th>\n",
       "      <td>jan-maas</td>\n",
       "      <td>Jan  Maas</td>\n",
       "      <td>1996</td>\n",
       "      <td>69.0</td>\n",
       "      <td>189</td>\n",
       "      <td>Netherlands</td>\n",
       "      <td>19.316369</td>\n",
       "      <td>4425.0</td>\n",
       "      <td>519.0</td>\n",
       "      <td>49.0</td>\n",
       "      <td>2022.0</td>\n",
       "    </tr>\n",
       "    <tr>\n",
       "      <th>3</th>\n",
       "      <td>nathan-van-hooydonck</td>\n",
       "      <td>Nathan Van  Nathan Van Hooydonck</td>\n",
       "      <td>1995</td>\n",
       "      <td>78.0</td>\n",
       "      <td>192</td>\n",
       "      <td>Belgium</td>\n",
       "      <td>21.158854</td>\n",
       "      <td>17205.0</td>\n",
       "      <td>1982.0</td>\n",
       "      <td>161.0</td>\n",
       "      <td>2018.0</td>\n",
       "    </tr>\n",
       "    <tr>\n",
       "      <th>4</th>\n",
       "      <td>jose-felix-parra</td>\n",
       "      <td>José Félix  Parra</td>\n",
       "      <td>1997</td>\n",
       "      <td>55.0</td>\n",
       "      <td>171</td>\n",
       "      <td>Spain</td>\n",
       "      <td>18.809206</td>\n",
       "      <td>3085.0</td>\n",
       "      <td>721.0</td>\n",
       "      <td>48.0</td>\n",
       "      <td>2021.0</td>\n",
       "    </tr>\n",
       "  </tbody>\n",
       "</table>\n",
       "</div>"
      ],
      "text/plain": [
       "                   _url                              name  birth_year  weight  \\\n",
       "0           bruno-surra                      Bruno  Surra        1964    73.0   \n",
       "1            gerard-rue                       Gérard  Rué        1965    74.0   \n",
       "2              jan-maas                         Jan  Maas        1996    69.0   \n",
       "3  nathan-van-hooydonck  Nathan Van  Nathan Van Hooydonck        1995    78.0   \n",
       "4      jose-felix-parra                 José Félix  Parra        1997    55.0   \n",
       "\n",
       "   height  nationality        bmi  career_points  career_duration(days)  \\\n",
       "0     185        Italy  21.329438           80.0                    1.0   \n",
       "1     182       France  22.340297        26105.0                 3492.0   \n",
       "2     189  Netherlands  19.316369         4425.0                  519.0   \n",
       "3     192      Belgium  21.158854        17205.0                 1982.0   \n",
       "4     171        Spain  18.809206         3085.0                  721.0   \n",
       "\n",
       "   career_duration(races)  debut_year  \n",
       "0                     1.0      1989.0  \n",
       "1                   222.0      1988.0  \n",
       "2                    49.0      2022.0  \n",
       "3                   161.0      2018.0  \n",
       "4                    48.0      2021.0  "
      ]
     },
     "execution_count": 177,
     "metadata": {},
     "output_type": "execute_result"
    }
   ],
   "source": [
    "\n",
    "\n",
    "dfraces['date'] = pd.to_datetime(dfraces['date'], format='%Y-%m-%d %H:%M:%S')\n",
    "carreerduration = dfraces.groupby('cyclist')['date'].agg(lambda x:((x.max() - x.min()).days+1))\n",
    "df3['career_duration(days)'] = df3['_url'].map(carreerduration)\n",
    "\n",
    "df3['career_duration(races)'] = 0\n",
    "carreerdurationraces = dfraces.groupby('cyclist').size()\n",
    "df3['career_duration(races)'] = df3['_url'].map(carreerdurationraces)\n",
    "\n",
    "df3['debut_year'] = 0\n",
    "firstraceyear = dfraces.groupby('cyclist')['date'].min().dt.year\n",
    "df3['debut_year'] = df3['_url'].map(firstraceyear)\n",
    "df3['debut_year'] = df3['debut_year'].fillna(0)\n",
    "\n",
    "df3.head()\n"
   ]
  },
  {
   "cell_type": "markdown",
   "metadata": {},
   "source": [
    "#### AVERAGE POSITIONING"
   ]
  },
  {
   "cell_type": "code",
   "execution_count": 178,
   "metadata": {},
   "outputs": [
    {
     "data": {
      "text/html": [
       "<div>\n",
       "<style scoped>\n",
       "    .dataframe tbody tr th:only-of-type {\n",
       "        vertical-align: middle;\n",
       "    }\n",
       "\n",
       "    .dataframe tbody tr th {\n",
       "        vertical-align: top;\n",
       "    }\n",
       "\n",
       "    .dataframe thead th {\n",
       "        text-align: right;\n",
       "    }\n",
       "</style>\n",
       "<table border=\"1\" class=\"dataframe\">\n",
       "  <thead>\n",
       "    <tr style=\"text-align: right;\">\n",
       "      <th></th>\n",
       "      <th>_url</th>\n",
       "      <th>name</th>\n",
       "      <th>birth_year</th>\n",
       "      <th>weight</th>\n",
       "      <th>height</th>\n",
       "      <th>nationality</th>\n",
       "      <th>bmi</th>\n",
       "      <th>career_points</th>\n",
       "      <th>career_duration(days)</th>\n",
       "      <th>career_duration(races)</th>\n",
       "      <th>debut_year</th>\n",
       "      <th>avg_pos</th>\n",
       "    </tr>\n",
       "  </thead>\n",
       "  <tbody>\n",
       "    <tr>\n",
       "      <th>0</th>\n",
       "      <td>bruno-surra</td>\n",
       "      <td>Bruno  Surra</td>\n",
       "      <td>1964</td>\n",
       "      <td>73.0</td>\n",
       "      <td>185</td>\n",
       "      <td>Italy</td>\n",
       "      <td>21.329438</td>\n",
       "      <td>80.0</td>\n",
       "      <td>1.0</td>\n",
       "      <td>1.0</td>\n",
       "      <td>1989.0</td>\n",
       "      <td>110.000000</td>\n",
       "    </tr>\n",
       "    <tr>\n",
       "      <th>1</th>\n",
       "      <td>gerard-rue</td>\n",
       "      <td>Gérard  Rué</td>\n",
       "      <td>1965</td>\n",
       "      <td>74.0</td>\n",
       "      <td>182</td>\n",
       "      <td>France</td>\n",
       "      <td>22.340297</td>\n",
       "      <td>26105.0</td>\n",
       "      <td>3492.0</td>\n",
       "      <td>222.0</td>\n",
       "      <td>1988.0</td>\n",
       "      <td>63.545045</td>\n",
       "    </tr>\n",
       "    <tr>\n",
       "      <th>2</th>\n",
       "      <td>jan-maas</td>\n",
       "      <td>Jan  Maas</td>\n",
       "      <td>1996</td>\n",
       "      <td>69.0</td>\n",
       "      <td>189</td>\n",
       "      <td>Netherlands</td>\n",
       "      <td>19.316369</td>\n",
       "      <td>4425.0</td>\n",
       "      <td>519.0</td>\n",
       "      <td>49.0</td>\n",
       "      <td>2022.0</td>\n",
       "      <td>87.693878</td>\n",
       "    </tr>\n",
       "    <tr>\n",
       "      <th>3</th>\n",
       "      <td>nathan-van-hooydonck</td>\n",
       "      <td>Nathan Van  Nathan Van Hooydonck</td>\n",
       "      <td>1995</td>\n",
       "      <td>78.0</td>\n",
       "      <td>192</td>\n",
       "      <td>Belgium</td>\n",
       "      <td>21.158854</td>\n",
       "      <td>17205.0</td>\n",
       "      <td>1982.0</td>\n",
       "      <td>161.0</td>\n",
       "      <td>2018.0</td>\n",
       "      <td>83.242236</td>\n",
       "    </tr>\n",
       "    <tr>\n",
       "      <th>4</th>\n",
       "      <td>jose-felix-parra</td>\n",
       "      <td>José Félix  Parra</td>\n",
       "      <td>1997</td>\n",
       "      <td>55.0</td>\n",
       "      <td>171</td>\n",
       "      <td>Spain</td>\n",
       "      <td>18.809206</td>\n",
       "      <td>3085.0</td>\n",
       "      <td>721.0</td>\n",
       "      <td>48.0</td>\n",
       "      <td>2021.0</td>\n",
       "      <td>68.000000</td>\n",
       "    </tr>\n",
       "  </tbody>\n",
       "</table>\n",
       "</div>"
      ],
      "text/plain": [
       "                   _url                              name  birth_year  weight  \\\n",
       "0           bruno-surra                      Bruno  Surra        1964    73.0   \n",
       "1            gerard-rue                       Gérard  Rué        1965    74.0   \n",
       "2              jan-maas                         Jan  Maas        1996    69.0   \n",
       "3  nathan-van-hooydonck  Nathan Van  Nathan Van Hooydonck        1995    78.0   \n",
       "4      jose-felix-parra                 José Félix  Parra        1997    55.0   \n",
       "\n",
       "   height  nationality        bmi  career_points  career_duration(days)  \\\n",
       "0     185        Italy  21.329438           80.0                    1.0   \n",
       "1     182       France  22.340297        26105.0                 3492.0   \n",
       "2     189  Netherlands  19.316369         4425.0                  519.0   \n",
       "3     192      Belgium  21.158854        17205.0                 1982.0   \n",
       "4     171        Spain  18.809206         3085.0                  721.0   \n",
       "\n",
       "   career_duration(races)  debut_year     avg_pos  \n",
       "0                     1.0      1989.0  110.000000  \n",
       "1                   222.0      1988.0   63.545045  \n",
       "2                    49.0      2022.0   87.693878  \n",
       "3                   161.0      2018.0   83.242236  \n",
       "4                    48.0      2021.0   68.000000  "
      ]
     },
     "execution_count": 178,
     "metadata": {},
     "output_type": "execute_result"
    }
   ],
   "source": [
    "\n",
    "df3['avg_pos'] = 0\n",
    "\n",
    "career_points = dfraces.groupby('cyclist')['position'].mean()\n",
    "\n",
    "df3['avg_pos'] = df3['_url'].map(career_points)\n",
    "\n",
    "df3['avg_pos']=df3['avg_pos'].fillna(-1)\n",
    "\n",
    "df3.head()\n"
   ]
  },
  {
   "cell_type": "markdown",
   "metadata": {},
   "source": [
    "#### Cyclist without record removal\n",
    "Per quanto anche loro siano registrati come ciclisti il fatto che non ci siano record di gare che li includano danneggia l'analisi complessiva."
   ]
  },
  {
   "cell_type": "code",
   "execution_count": 179,
   "metadata": {},
   "outputs": [],
   "source": [
    "df3 = df3[df3['debut_year'] != 0]"
   ]
  },
  {
   "cell_type": "code",
   "execution_count": 180,
   "metadata": {},
   "outputs": [],
   "source": [
    "df3.to_csv(path.join('..','..','..','dataset', 'cyclists_final_enhanced.csv'), index=False)"
   ]
  },
  {
   "cell_type": "markdown",
   "metadata": {},
   "source": [
    "## ENANCED ANALYSIS\n",
    "Now we'll do further analysis on the newer feature ad the correlation between them and the previous ones"
   ]
  },
  {
   "cell_type": "markdown",
   "metadata": {},
   "source": [
    "### CYCLIST PERFORMANCES ANALYSIS"
   ]
  },
  {
   "cell_type": "markdown",
   "metadata": {},
   "source": [
    "#### Races without records\n",
    "Prima di togliere le righe che contengono ciclisti che non hanno gare registrate (non sono utili ai fini degli studi futuri), vediamo quali sono gli anni di nascita "
   ]
  },
  {
   "cell_type": "markdown",
   "metadata": {},
   "source": [
    "#### Most popular debut year"
   ]
  },
  {
   "cell_type": "code",
   "execution_count": 183,
   "metadata": {},
   "outputs": [
    {
     "data": {
      "image/png": "[encoded data removed]",
      "text/plain": [
       "<Figure size 1500x600 with 1 Axes>"
      ]
     },
     "metadata": {},
     "output_type": "display_data"
    }
   ],
   "source": [
    "plt.figure(figsize=(15, 6))\n",
    "df3['debut_year'].value_counts().sort_index().plot(kind='bar')\n",
    "plt.title('Debut year distribution')\n",
    "plt.xlabel('Debut year')\n",
    "plt.ylabel('Count')\n",
    "plt.xticks(rotation=90)\n",
    "plt.show()"
   ]
  },
  {
   "cell_type": "markdown",
   "metadata": {},
   "source": [
    "#### Most popular debut age"
   ]
  },
  {
   "cell_type": "code",
   "execution_count": 186,
   "metadata": {},
   "outputs": [
    {
     "data": {
      "image/png": "[encoded data removed]",
      "text/plain": [
       "<Figure size 1000x600 with 1 Axes>"
      ]
     },
     "metadata": {},
     "output_type": "display_data"
    }
   ],
   "source": [
    "plt.figure(figsize=(10, 6))\n",
    "df3['debut_age']=df3['debut_year']-df3['birth_year']\n",
    "\n",
    "df3['debut_age'].value_counts().sort_index().plot(kind='bar')\n",
    "df3.drop('debut_age', axis=1, inplace=True)\n",
    "plt.title('Debut age distribution')\n",
    "\n",
    "plt.xlabel('Debut age')\n",
    "plt.ylabel('Count')\n",
    "plt.xticks(rotation=90)\n",
    "plt.show()"
   ]
  },
  {
   "cell_type": "markdown",
   "metadata": {},
   "source": [
    "#### Career duration distribution"
   ]
  },
  {
   "cell_type": "code",
   "execution_count": 188,
   "metadata": {},
   "outputs": [
    {
     "data": {
      "image/png": "[encoded data removed]",
      "text/plain": [
       "<Figure size 1000x600 with 1 Axes>"
      ]
     },
     "metadata": {},
     "output_type": "display_data"
    }
   ],
   "source": [
    "plt.figure(figsize=(10, 6))\n",
    "\n",
    "df3['career_duration(years)']=df3['career_duration(days)']/365\n",
    "df3['career_duration(years)']=df3['career_duration(years)'].astype(int)\n",
    "df3['career_duration(years)'].value_counts().sort_index().plot(kind='bar')\n",
    "df3.drop('career_duration(years)', axis=1, inplace=True)\n",
    "\n",
    "plt.title('Debut age distribution')\n",
    "\n",
    "plt.xlabel('Debut age')\n",
    "plt.ylabel('Count')\n",
    "plt.xticks(rotation=90)\n",
    "plt.show()"
   ]
  },
  {
   "cell_type": "markdown",
   "metadata": {},
   "source": []
  }
 ],
 "metadata": {
  "kernelspec": {
   "display_name": "dmproj",
   "language": "python",
   "name": "python3"
  },
  "language_info": {
   "codemirror_mode": {
    "name": "ipython",
    "version": 3
   },
   "file_extension": ".py",
   "mimetype": "text/x-python",
   "name": "python",
   "nbconvert_exporter": "python",
   "pygments_lexer": "ipython3",
   "version": "3.12.7"
  }
 },
 "nbformat": 4,
 "nbformat_minor": 2
}
