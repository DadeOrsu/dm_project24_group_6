{
 "cells": [
  {
   "cell_type": "code",
   "execution_count": 161,
   "metadata": {},
   "outputs": [],
   "source": [
    "import pandas as pd\n",
    "import matplotlib.pyplot as plt\n",
    "import itertools as it\n",
    "import utils\n",
    "DATASET_PATH='../dataset/races.csv'\n",
    "\n",
    "\"\"\"                      dtype={\n",
    "                         '_url':'str',\n",
    "                         'name':'str',\n",
    "                         'points':'Int64',\n",
    "                         'uci_points':'Int64',\n",
    "                         'length':'Int64',\n",
    "                         'climb_total':'Int64',\n",
    "                         'profile':'str',\n",
    "                         'starlist_quality':'Int64',\n",
    "                         'average_temperature':'float64',\n",
    "                         'position':'Int64',\n",
    "                         'cyclist':'str',\n",
    "                         'cyclist_age':'Int64',\n",
    "                         'is_tarmac':'bool',\n",
    "                         'is_cobbled':'bool',\n",
    "                         'is_gravel':'bool',\n",
    "                         'cyclist_team':'str'\n",
    "                     }, \"\"\"\n",
    "races_df=pd.read_csv(DATASET_PATH,\n",
    "                     parse_dates=['date']\n",
    "                     )"
   ]
  },
  {
   "cell_type": "markdown",
   "metadata": {},
   "source": [
    "# Cyclists data quality analysis\n",
    "\n",
    "This notebook takes care of the data quality assessment for the cyclists data.\n",
    "\n",
    "A first dumb check evidences no duplicate rows (at least across all features)."
   ]
  },
  {
   "cell_type": "code",
   "execution_count": 25,
   "metadata": {},
   "outputs": [
    {
     "data": {
      "text/plain": [
       "0"
      ]
     },
     "execution_count": 25,
     "metadata": {},
     "output_type": "execute_result"
    }
   ],
   "source": [
    "len(races_df[races_df.duplicated()])"
   ]
  },
  {
   "cell_type": "markdown",
   "metadata": {},
   "source": [
    "A first preliminary analysis we can show how many values are currently missing from the dataset."
   ]
  },
  {
   "cell_type": "code",
   "execution_count": 125,
   "metadata": {},
   "outputs": [
    {
     "data": {
      "text/html": [
       "<div>\n",
       "<style scoped>\n",
       "    .dataframe tbody tr th:only-of-type {\n",
       "        vertical-align: middle;\n",
       "    }\n",
       "\n",
       "    .dataframe tbody tr th {\n",
       "        vertical-align: top;\n",
       "    }\n",
       "\n",
       "    .dataframe thead th {\n",
       "        text-align: right;\n",
       "    }\n",
       "</style>\n",
       "<table border=\"1\" class=\"dataframe\">\n",
       "  <thead>\n",
       "    <tr style=\"text-align: right;\">\n",
       "      <th></th>\n",
       "      <th>missing values</th>\n",
       "      <th>missing values %</th>\n",
       "    </tr>\n",
       "  </thead>\n",
       "  <tbody>\n",
       "    <tr>\n",
       "      <th>average_temperature</th>\n",
       "      <td>559932</td>\n",
       "      <td>94.925</td>\n",
       "    </tr>\n",
       "    <tr>\n",
       "      <th>uci_points</th>\n",
       "      <td>338779</td>\n",
       "      <td>57.433</td>\n",
       "    </tr>\n",
       "    <tr>\n",
       "      <th>cyclist_team</th>\n",
       "      <td>159161</td>\n",
       "      <td>26.983</td>\n",
       "    </tr>\n",
       "    <tr>\n",
       "      <th>profile</th>\n",
       "      <td>148194</td>\n",
       "      <td>25.123</td>\n",
       "    </tr>\n",
       "    <tr>\n",
       "      <th>climb_total</th>\n",
       "      <td>147045</td>\n",
       "      <td>24.929</td>\n",
       "    </tr>\n",
       "    <tr>\n",
       "      <th>points</th>\n",
       "      <td>477</td>\n",
       "      <td>0.081</td>\n",
       "    </tr>\n",
       "    <tr>\n",
       "      <th>cyclist_age</th>\n",
       "      <td>113</td>\n",
       "      <td>0.019</td>\n",
       "    </tr>\n",
       "    <tr>\n",
       "      <th>_url</th>\n",
       "      <td>0</td>\n",
       "      <td>0.000</td>\n",
       "    </tr>\n",
       "    <tr>\n",
       "      <th>is_gravel</th>\n",
       "      <td>0</td>\n",
       "      <td>0.000</td>\n",
       "    </tr>\n",
       "    <tr>\n",
       "      <th>is_cobbled</th>\n",
       "      <td>0</td>\n",
       "      <td>0.000</td>\n",
       "    </tr>\n",
       "    <tr>\n",
       "      <th>is_tarmac</th>\n",
       "      <td>0</td>\n",
       "      <td>0.000</td>\n",
       "    </tr>\n",
       "    <tr>\n",
       "      <th>date</th>\n",
       "      <td>0</td>\n",
       "      <td>0.000</td>\n",
       "    </tr>\n",
       "    <tr>\n",
       "      <th>cyclist</th>\n",
       "      <td>0</td>\n",
       "      <td>0.000</td>\n",
       "    </tr>\n",
       "    <tr>\n",
       "      <th>position</th>\n",
       "      <td>0</td>\n",
       "      <td>0.000</td>\n",
       "    </tr>\n",
       "    <tr>\n",
       "      <th>name</th>\n",
       "      <td>0</td>\n",
       "      <td>0.000</td>\n",
       "    </tr>\n",
       "    <tr>\n",
       "      <th>startlist_quality</th>\n",
       "      <td>0</td>\n",
       "      <td>0.000</td>\n",
       "    </tr>\n",
       "    <tr>\n",
       "      <th>length</th>\n",
       "      <td>0</td>\n",
       "      <td>0.000</td>\n",
       "    </tr>\n",
       "    <tr>\n",
       "      <th>delta</th>\n",
       "      <td>0</td>\n",
       "      <td>0.000</td>\n",
       "    </tr>\n",
       "  </tbody>\n",
       "</table>\n",
       "</div>"
      ],
      "text/plain": [
       "                     missing values  missing values %\n",
       "average_temperature          559932            94.925\n",
       "uci_points                   338779            57.433\n",
       "cyclist_team                 159161            26.983\n",
       "profile                      148194            25.123\n",
       "climb_total                  147045            24.929\n",
       "points                          477             0.081\n",
       "cyclist_age                     113             0.019\n",
       "_url                              0             0.000\n",
       "is_gravel                         0             0.000\n",
       "is_cobbled                        0             0.000\n",
       "is_tarmac                         0             0.000\n",
       "date                              0             0.000\n",
       "cyclist                           0             0.000\n",
       "position                          0             0.000\n",
       "name                              0             0.000\n",
       "startlist_quality                 0             0.000\n",
       "length                            0             0.000\n",
       "delta                             0             0.000"
      ]
     },
     "execution_count": 125,
     "metadata": {},
     "output_type": "execute_result"
    }
   ],
   "source": [
    "mv_df=pd.DataFrame(races_df.isnull().sum())\n",
    "mv_df=mv_df.rename(columns={0:'missing values'})\n",
    "mv_df['missing values']=mv_df['missing values'].astype('int')\n",
    "mv_df['missing values %']=((mv_df['missing values']/len(races_df))*100).round(3)\n",
    "\n",
    "mv_df.sort_values('missing values',ascending=False)"
   ]
  },
  {
   "cell_type": "markdown",
   "metadata": {},
   "source": [
    "The most missing features are the average temperature with almost all values missing, uci_points has more than half of it values missing and we also have the cyclist_team,profile and climb_total have around 25% of their values missing.\n",
    "For all the other attributes the missing values are very few or none at all.\n",
    "\n",
    "We can obtain a better visualization through a bar plot:"
   ]
  },
  {
   "cell_type": "code",
   "execution_count": 187,
   "metadata": {},
   "outputs": [
    {
     "name": "stderr",
     "output_type": "stream",
     "text": [
      "C:\\Users\\mirda\\AppData\\Local\\Temp\\ipykernel_5064\\211508510.py:2: SettingWithCopyWarning: \n",
      "A value is trying to be set on a copy of a slice from a DataFrame\n",
      "\n",
      "See the caveats in the documentation: https://pandas.pydata.org/pandas-docs/stable/user_guide/indexing.html#returning-a-view-versus-a-copy\n",
      "  values['all other values']=0\n"
     ]
    },
    {
     "data": {
      "image/png": "[encoded data removed]",
      "text/plain": [
       "<Figure size 1500x1000 with 1 Axes>"
      ]
     },
     "metadata": {},
     "output_type": "display_data"
    }
   ],
   "source": [
    "utils.plot_missing_values_barplot(mv_df)"
   ]
  },
  {
   "cell_type": "markdown",
   "metadata": {},
   "source": [
    "# single features in-domain analysis\n",
    "\n",
    "We can start with the analysis of the first two values: `_url` and `name`.\n",
    "\n",
    "The first attribute is redundant and contains duplicate information with no wrong or missing values w.r.t. to its duplicates, below we can see that the name of the race is correct and same goes for the year for each entry in the dataset."
   ]
  },
  {
   "cell_type": "code",
   "execution_count": 46,
   "metadata": {},
   "outputs": [
    {
     "name": "stdout",
     "output_type": "stream",
     "text": [
      "0\n",
      "0\n"
     ]
    }
   ],
   "source": [
    "url_df=races_df['_url'].str.split('/',expand=True)\n",
    "url_df.rename(columns={0:'name',1:'year',2:'stage'},inplace=True)\n",
    "url_df['original_name']=races_df['name']\n",
    "url_df['original_year']=races_df['date'].dt.year\n",
    "print(len(url_df[url_df['original_name']==url_df['name']]))\n",
    "print(len(url_df[url_df['original_year']==url_df['year']]))"
   ]
  },
  {
   "cell_type": "markdown",
   "metadata": {},
   "source": [
    "This part analysis for all numerical values whether their non missing values are within their domain."
   ]
  },
  {
   "cell_type": "code",
   "execution_count": 128,
   "metadata": {},
   "outputs": [
    {
     "name": "stdout",
     "output_type": "stream",
     "text": [
      "values lower than 0: 0\n"
     ]
    }
   ],
   "source": [
    "points=races_df['points'].dropna()\n",
    "print('values lower than 0:',len(points[points<0]))"
   ]
  },
  {
   "cell_type": "code",
   "execution_count": 129,
   "metadata": {},
   "outputs": [
    {
     "name": "stdout",
     "output_type": "stream",
     "text": [
      "values lower than 0: 0\n"
     ]
    }
   ],
   "source": [
    "uci_points=races_df['uci_points'].dropna()\n",
    "print('values lower than 0:',len(uci_points[uci_points<0]))"
   ]
  },
  {
   "cell_type": "code",
   "execution_count": 130,
   "metadata": {},
   "outputs": [
    {
     "name": "stdout",
     "output_type": "stream",
     "text": [
      "values lower than 0: 0\n"
     ]
    }
   ],
   "source": [
    "length=races_df['length'].dropna()\n",
    "print('values lower than 0:',len(length[length<0]))"
   ]
  },
  {
   "cell_type": "code",
   "execution_count": 132,
   "metadata": {},
   "outputs": [
    {
     "name": "stdout",
     "output_type": "stream",
     "text": [
      "values lower than 0: 0\n"
     ]
    }
   ],
   "source": [
    "climb_total=races_df['climb_total'].dropna()\n",
    "print('values lower than 0:',len(climb_total[climb_total<0]))"
   ]
  },
  {
   "cell_type": "code",
   "execution_count": 134,
   "metadata": {},
   "outputs": [
    {
     "name": "stdout",
     "output_type": "stream",
     "text": [
      "values lower than 0: 0\n"
     ]
    }
   ],
   "source": [
    "startlist_quality=races_df['startlist_quality'].dropna()\n",
    "print('values lower than 0:',len(startlist_quality[startlist_quality<0]))"
   ]
  },
  {
   "cell_type": "code",
   "execution_count": 135,
   "metadata": {},
   "outputs": [
    {
     "name": "stdout",
     "output_type": "stream",
     "text": [
      "values lower than 0: 0\n"
     ]
    }
   ],
   "source": [
    "average_temperature=races_df['average_temperature'].dropna()\n",
    "print('values lower than 0:',len(races_df[races_df['average_temperature']<0]))"
   ]
  },
  {
   "cell_type": "code",
   "execution_count": 138,
   "metadata": {},
   "outputs": [
    {
     "name": "stdout",
     "output_type": "stream",
     "text": [
      "values lower than 0: 0\n"
     ]
    }
   ],
   "source": [
    "position=races_df['position'].dropna()\n",
    "print('values lower than 0:',len(position[position<0]))"
   ]
  },
  {
   "cell_type": "code",
   "execution_count": null,
   "metadata": {},
   "outputs": [],
   "source": [
    "cyclist=races_df['cyclist'].dropna()"
   ]
  },
  {
   "cell_type": "code",
   "execution_count": 139,
   "metadata": {},
   "outputs": [
    {
     "name": "stdout",
     "output_type": "stream",
     "text": [
      "values lower than 0: 0\n"
     ]
    }
   ],
   "source": [
    "cyclist_age=races_df['cyclist_age'].dropna()\n",
    "print('values lower than 0:',len(cyclist_age[cyclist_age<0]))"
   ]
  },
  {
   "cell_type": "code",
   "execution_count": 140,
   "metadata": {},
   "outputs": [
    {
     "name": "stdout",
     "output_type": "stream",
     "text": [
      "values lower than 0: 86\n"
     ]
    }
   ],
   "source": [
    "delta=races_df['delta'].dropna()\n",
    "print('values lower than 0:',len(delta[delta<0]))"
   ]
  },
  {
   "cell_type": "markdown",
   "metadata": {},
   "source": [
    "From these we can infer that al numerical values have correct values within range except for delta which has some values that are not.\n",
    "\n",
    "We can continue with other kind of attributes, first the dates."
   ]
  },
  {
   "cell_type": "code",
   "execution_count": 136,
   "metadata": {},
   "outputs": [
    {
     "name": "stdout",
     "output_type": "stream",
     "text": [
      "1970-02-28 04:52:00 2023-07-29 05:52:14\n"
     ]
    }
   ],
   "source": [
    "dates=races_df['date'].dropna()\n",
    "print(dates.min(),dates.max())"
   ]
  },
  {
   "cell_type": "markdown",
   "metadata": {},
   "source": [
    "The dates are all within range.\n",
    "\n",
    "We can now analise the profile for the races which is coded as integers in the range \\[1,2,3,4,5\\]."
   ]
  },
  {
   "cell_type": "code",
   "execution_count": 133,
   "metadata": {},
   "outputs": [
    {
     "name": "stdout",
     "output_type": "stream",
     "text": [
      "out of range values 0\n"
     ]
    }
   ],
   "source": [
    "profile=races_df['profile'].dropna()\n",
    "# values are coded with integers from 1 to 5\n",
    "domain_values=[1,2,3,4,5]\n",
    "print('out of range values :',len(profile[~profile.isin(domain_values)]))"
   ]
  },
  {
   "cell_type": "markdown",
   "metadata": {},
   "source": [
    "Also here we don't have any range issues."
   ]
  },
  {
   "cell_type": "code",
   "execution_count": null,
   "metadata": {},
   "outputs": [],
   "source": []
  }
 ],
 "metadata": {
  "kernelspec": {
   "display_name": "Python 3",
   "language": "python",
   "name": "python3"
  },
  "language_info": {
   "codemirror_mode": {
    "name": "ipython",
    "version": 3
   },
   "file_extension": ".py",
   "mimetype": "text/x-python",
   "name": "python",
   "nbconvert_exporter": "python",
   "pygments_lexer": "ipython3",
   "version": "3.12.7"
  }
 },
 "nbformat": 4,
 "nbformat_minor": 2
}
