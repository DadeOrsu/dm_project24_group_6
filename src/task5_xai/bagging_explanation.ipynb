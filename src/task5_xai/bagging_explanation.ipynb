{
  "cells": [
    {
      "cell_type": "markdown",
      "metadata": {
        "id": "aZhJ0JQrXuZP"
      },
      "source": [
        "# Bagging Explanation"
      ]
    },
    {
      "cell_type": "markdown",
      "metadata": {
        "id": "wul1GV9cXuZT"
      },
      "source": [
        "This notebook is focused on the explanation of the Random Forest model used to perform the `Task 4: classification`."
      ]
    },
    {
      "cell_type": "markdown",
      "metadata": {
        "id": "C79XYizrXuZU"
      },
      "source": [
        "## Preparation of the model"
      ]
    },
    {
      "cell_type": "code",
      "execution_count": 1,
      "metadata": {
        "id": "b2NxuHl4XuZV"
      },
      "outputs": [],
      "source": [
        "from os import path\n",
        "import pandas as pd\n",
        "from preprocessing import get_train_test_data\n",
        "from transformations import center_and_scale, drop_boolean\n",
        "train_data, train_labels, test_data, test_labels, columns_to_keep = get_train_test_data()\n",
        "\n",
        "train_data = train_data.astype({col: 'int' for col in train_data.select_dtypes('bool').columns})\n",
        "test_data = test_data.astype({col: 'int' for col in test_data.select_dtypes('bool').columns})\n",
        "\n",
        "\n",
        "sample_size = 100\n",
        "train_sample_indices = train_data.sample(sample_size, random_state=42).index\n",
        "train_data_sampled = train_data.loc[train_sample_indices]\n",
        "train_labels_sampled = train_labels.loc[train_sample_indices]\n",
        "\n",
        "\n",
        "test_sample_indices = test_data.sample(sample_size, random_state=42).index\n",
        "test_data_sampled = test_data.loc[test_sample_indices]\n",
        "test_labels_sampled = test_labels.loc[test_sample_indices]\n"
      ]
    },
    {
      "cell_type": "code",
      "execution_count": 2,
      "metadata": {
        "colab": {
          "base_uri": "https://localhost:8080/"
        },
        "id": "d3evK_cRB2QG",
        "outputId": "0278dfbf-cc59-45f9-a9fb-7f6eadf0ac10"
      },
      "outputs": [
        {
          "name": "stdout",
          "output_type": "stream",
          "text": [
            "bmi                      float64\n",
            "career_points            float64\n",
            "career_duration(days)    float64\n",
            "debut_year               float64\n",
            "difficulty_score         float64\n",
            "competitive_age            int64\n",
            "is_tarmac                  int64\n",
            "climbing_efficiency      float64\n",
            "startlist_quality          int64\n",
            "avg_pos                  float64\n",
            "dtype: object\n"
          ]
        }
      ],
      "source": [
        "print(train_data.dtypes)"
      ]
    },
    {
      "cell_type": "code",
      "execution_count": 3,
      "metadata": {
        "colab": {
          "base_uri": "https://localhost:8080/",
          "height": 115
        },
        "id": "Vefiq327XuZX",
        "outputId": "0cce9511-c7d5-4020-861f-d988afbdfd96"
      },
      "outputs": [
        {
          "data": {
            "text/html": [
              "<style>#sk-container-id-1 {\n",
              "  /* Definition of color scheme common for light and dark mode */\n",
              "  --sklearn-color-text: black;\n",
              "  --sklearn-color-line: gray;\n",
              "  /* Definition of color scheme for unfitted estimators */\n",
              "  --sklearn-color-unfitted-level-0: #fff5e6;\n",
              "  --sklearn-color-unfitted-level-1: #f6e4d2;\n",
              "  --sklearn-color-unfitted-level-2: #ffe0b3;\n",
              "  --sklearn-color-unfitted-level-3: chocolate;\n",
              "  /* Definition of color scheme for fitted estimators */\n",
              "  --sklearn-color-fitted-level-0: #f0f8ff;\n",
              "  --sklearn-color-fitted-level-1: #d4ebff;\n",
              "  --sklearn-color-fitted-level-2: #b3dbfd;\n",
              "  --sklearn-color-fitted-level-3: cornflowerblue;\n",
              "\n",
              "  /* Specific color for light theme */\n",
              "  --sklearn-color-text-on-default-background: var(--sg-text-color, var(--theme-code-foreground, var(--jp-content-font-color1, black)));\n",
              "  --sklearn-color-background: var(--sg-background-color, var(--theme-background, var(--jp-layout-color0, white)));\n",
              "  --sklearn-color-border-box: var(--sg-text-color, var(--theme-code-foreground, var(--jp-content-font-color1, black)));\n",
              "  --sklearn-color-icon: #696969;\n",
              "\n",
              "  @media (prefers-color-scheme: dark) {\n",
              "    /* Redefinition of color scheme for dark theme */\n",
              "    --sklearn-color-text-on-default-background: var(--sg-text-color, var(--theme-code-foreground, var(--jp-content-font-color1, white)));\n",
              "    --sklearn-color-background: var(--sg-background-color, var(--theme-background, var(--jp-layout-color0, #111)));\n",
              "    --sklearn-color-border-box: var(--sg-text-color, var(--theme-code-foreground, var(--jp-content-font-color1, white)));\n",
              "    --sklearn-color-icon: #878787;\n",
              "  }\n",
              "}\n",
              "\n",
              "#sk-container-id-1 {\n",
              "  color: var(--sklearn-color-text);\n",
              "}\n",
              "\n",
              "#sk-container-id-1 pre {\n",
              "  padding: 0;\n",
              "}\n",
              "\n",
              "#sk-container-id-1 input.sk-hidden--visually {\n",
              "  border: 0;\n",
              "  clip: rect(1px 1px 1px 1px);\n",
              "  clip: rect(1px, 1px, 1px, 1px);\n",
              "  height: 1px;\n",
              "  margin: -1px;\n",
              "  overflow: hidden;\n",
              "  padding: 0;\n",
              "  position: absolute;\n",
              "  width: 1px;\n",
              "}\n",
              "\n",
              "#sk-container-id-1 div.sk-dashed-wrapped {\n",
              "  border: 1px dashed var(--sklearn-color-line);\n",
              "  margin: 0 0.4em 0.5em 0.4em;\n",
              "  box-sizing: border-box;\n",
              "  padding-bottom: 0.4em;\n",
              "  background-color: var(--sklearn-color-background);\n",
              "}\n",
              "\n",
              "#sk-container-id-1 div.sk-container {\n",
              "  /* jupyter's `normalize.less` sets `[hidden] { display: none; }`\n",
              "     but bootstrap.min.css set `[hidden] { display: none !important; }`\n",
              "     so we also need the `!important` here to be able to override the\n",
              "     default hidden behavior on the sphinx rendered scikit-learn.org.\n",
              "     See: https://github.com/scikit-learn/scikit-learn/issues/21755 */\n",
              "  display: inline-block !important;\n",
              "  position: relative;\n",
              "}\n",
              "\n",
              "#sk-container-id-1 div.sk-text-repr-fallback {\n",
              "  display: none;\n",
              "}\n",
              "\n",
              "div.sk-parallel-item,\n",
              "div.sk-serial,\n",
              "div.sk-item {\n",
              "  /* draw centered vertical line to link estimators */\n",
              "  background-image: linear-gradient(var(--sklearn-color-text-on-default-background), var(--sklearn-color-text-on-default-background));\n",
              "  background-size: 2px 100%;\n",
              "  background-repeat: no-repeat;\n",
              "  background-position: center center;\n",
              "}\n",
              "\n",
              "/* Parallel-specific style estimator block */\n",
              "\n",
              "#sk-container-id-1 div.sk-parallel-item::after {\n",
              "  content: \"\";\n",
              "  width: 100%;\n",
              "  border-bottom: 2px solid var(--sklearn-color-text-on-default-background);\n",
              "  flex-grow: 1;\n",
              "}\n",
              "\n",
              "#sk-container-id-1 div.sk-parallel {\n",
              "  display: flex;\n",
              "  align-items: stretch;\n",
              "  justify-content: center;\n",
              "  background-color: var(--sklearn-color-background);\n",
              "  position: relative;\n",
              "}\n",
              "\n",
              "#sk-container-id-1 div.sk-parallel-item {\n",
              "  display: flex;\n",
              "  flex-direction: column;\n",
              "}\n",
              "\n",
              "#sk-container-id-1 div.sk-parallel-item:first-child::after {\n",
              "  align-self: flex-end;\n",
              "  width: 50%;\n",
              "}\n",
              "\n",
              "#sk-container-id-1 div.sk-parallel-item:last-child::after {\n",
              "  align-self: flex-start;\n",
              "  width: 50%;\n",
              "}\n",
              "\n",
              "#sk-container-id-1 div.sk-parallel-item:only-child::after {\n",
              "  width: 0;\n",
              "}\n",
              "\n",
              "/* Serial-specific style estimator block */\n",
              "\n",
              "#sk-container-id-1 div.sk-serial {\n",
              "  display: flex;\n",
              "  flex-direction: column;\n",
              "  align-items: center;\n",
              "  background-color: var(--sklearn-color-background);\n",
              "  padding-right: 1em;\n",
              "  padding-left: 1em;\n",
              "}\n",
              "\n",
              "\n",
              "/* Toggleable style: style used for estimator/Pipeline/ColumnTransformer box that is\n",
              "clickable and can be expanded/collapsed.\n",
              "- Pipeline and ColumnTransformer use this feature and define the default style\n",
              "- Estimators will overwrite some part of the style using the `sk-estimator` class\n",
              "*/\n",
              "\n",
              "/* Pipeline and ColumnTransformer style (default) */\n",
              "\n",
              "#sk-container-id-1 div.sk-toggleable {\n",
              "  /* Default theme specific background. It is overwritten whether we have a\n",
              "  specific estimator or a Pipeline/ColumnTransformer */\n",
              "  background-color: var(--sklearn-color-background);\n",
              "}\n",
              "\n",
              "/* Toggleable label */\n",
              "#sk-container-id-1 label.sk-toggleable__label {\n",
              "  cursor: pointer;\n",
              "  display: block;\n",
              "  width: 100%;\n",
              "  margin-bottom: 0;\n",
              "  padding: 0.5em;\n",
              "  box-sizing: border-box;\n",
              "  text-align: center;\n",
              "}\n",
              "\n",
              "#sk-container-id-1 label.sk-toggleable__label-arrow:before {\n",
              "  /* Arrow on the left of the label */\n",
              "  content: \"▸\";\n",
              "  float: left;\n",
              "  margin-right: 0.25em;\n",
              "  color: var(--sklearn-color-icon);\n",
              "}\n",
              "\n",
              "#sk-container-id-1 label.sk-toggleable__label-arrow:hover:before {\n",
              "  color: var(--sklearn-color-text);\n",
              "}\n",
              "\n",
              "/* Toggleable content - dropdown */\n",
              "\n",
              "#sk-container-id-1 div.sk-toggleable__content {\n",
              "  max-height: 0;\n",
              "  max-width: 0;\n",
              "  overflow: hidden;\n",
              "  text-align: left;\n",
              "  /* unfitted */\n",
              "  background-color: var(--sklearn-color-unfitted-level-0);\n",
              "}\n",
              "\n",
              "#sk-container-id-1 div.sk-toggleable__content.fitted {\n",
              "  /* fitted */\n",
              "  background-color: var(--sklearn-color-fitted-level-0);\n",
              "}\n",
              "\n",
              "#sk-container-id-1 div.sk-toggleable__content pre {\n",
              "  margin: 0.2em;\n",
              "  border-radius: 0.25em;\n",
              "  color: var(--sklearn-color-text);\n",
              "  /* unfitted */\n",
              "  background-color: var(--sklearn-color-unfitted-level-0);\n",
              "}\n",
              "\n",
              "#sk-container-id-1 div.sk-toggleable__content.fitted pre {\n",
              "  /* unfitted */\n",
              "  background-color: var(--sklearn-color-fitted-level-0);\n",
              "}\n",
              "\n",
              "#sk-container-id-1 input.sk-toggleable__control:checked~div.sk-toggleable__content {\n",
              "  /* Expand drop-down */\n",
              "  max-height: 200px;\n",
              "  max-width: 100%;\n",
              "  overflow: auto;\n",
              "}\n",
              "\n",
              "#sk-container-id-1 input.sk-toggleable__control:checked~label.sk-toggleable__label-arrow:before {\n",
              "  content: \"▾\";\n",
              "}\n",
              "\n",
              "/* Pipeline/ColumnTransformer-specific style */\n",
              "\n",
              "#sk-container-id-1 div.sk-label input.sk-toggleable__control:checked~label.sk-toggleable__label {\n",
              "  color: var(--sklearn-color-text);\n",
              "  background-color: var(--sklearn-color-unfitted-level-2);\n",
              "}\n",
              "\n",
              "#sk-container-id-1 div.sk-label.fitted input.sk-toggleable__control:checked~label.sk-toggleable__label {\n",
              "  background-color: var(--sklearn-color-fitted-level-2);\n",
              "}\n",
              "\n",
              "/* Estimator-specific style */\n",
              "\n",
              "/* Colorize estimator box */\n",
              "#sk-container-id-1 div.sk-estimator input.sk-toggleable__control:checked~label.sk-toggleable__label {\n",
              "  /* unfitted */\n",
              "  background-color: var(--sklearn-color-unfitted-level-2);\n",
              "}\n",
              "\n",
              "#sk-container-id-1 div.sk-estimator.fitted input.sk-toggleable__control:checked~label.sk-toggleable__label {\n",
              "  /* fitted */\n",
              "  background-color: var(--sklearn-color-fitted-level-2);\n",
              "}\n",
              "\n",
              "#sk-container-id-1 div.sk-label label.sk-toggleable__label,\n",
              "#sk-container-id-1 div.sk-label label {\n",
              "  /* The background is the default theme color */\n",
              "  color: var(--sklearn-color-text-on-default-background);\n",
              "}\n",
              "\n",
              "/* On hover, darken the color of the background */\n",
              "#sk-container-id-1 div.sk-label:hover label.sk-toggleable__label {\n",
              "  color: var(--sklearn-color-text);\n",
              "  background-color: var(--sklearn-color-unfitted-level-2);\n",
              "}\n",
              "\n",
              "/* Label box, darken color on hover, fitted */\n",
              "#sk-container-id-1 div.sk-label.fitted:hover label.sk-toggleable__label.fitted {\n",
              "  color: var(--sklearn-color-text);\n",
              "  background-color: var(--sklearn-color-fitted-level-2);\n",
              "}\n",
              "\n",
              "/* Estimator label */\n",
              "\n",
              "#sk-container-id-1 div.sk-label label {\n",
              "  font-family: monospace;\n",
              "  font-weight: bold;\n",
              "  display: inline-block;\n",
              "  line-height: 1.2em;\n",
              "}\n",
              "\n",
              "#sk-container-id-1 div.sk-label-container {\n",
              "  text-align: center;\n",
              "}\n",
              "\n",
              "/* Estimator-specific */\n",
              "#sk-container-id-1 div.sk-estimator {\n",
              "  font-family: monospace;\n",
              "  border: 1px dotted var(--sklearn-color-border-box);\n",
              "  border-radius: 0.25em;\n",
              "  box-sizing: border-box;\n",
              "  margin-bottom: 0.5em;\n",
              "  /* unfitted */\n",
              "  background-color: var(--sklearn-color-unfitted-level-0);\n",
              "}\n",
              "\n",
              "#sk-container-id-1 div.sk-estimator.fitted {\n",
              "  /* fitted */\n",
              "  background-color: var(--sklearn-color-fitted-level-0);\n",
              "}\n",
              "\n",
              "/* on hover */\n",
              "#sk-container-id-1 div.sk-estimator:hover {\n",
              "  /* unfitted */\n",
              "  background-color: var(--sklearn-color-unfitted-level-2);\n",
              "}\n",
              "\n",
              "#sk-container-id-1 div.sk-estimator.fitted:hover {\n",
              "  /* fitted */\n",
              "  background-color: var(--sklearn-color-fitted-level-2);\n",
              "}\n",
              "\n",
              "/* Specification for estimator info (e.g. \"i\" and \"?\") */\n",
              "\n",
              "/* Common style for \"i\" and \"?\" */\n",
              "\n",
              ".sk-estimator-doc-link,\n",
              "a:link.sk-estimator-doc-link,\n",
              "a:visited.sk-estimator-doc-link {\n",
              "  float: right;\n",
              "  font-size: smaller;\n",
              "  line-height: 1em;\n",
              "  font-family: monospace;\n",
              "  background-color: var(--sklearn-color-background);\n",
              "  border-radius: 1em;\n",
              "  height: 1em;\n",
              "  width: 1em;\n",
              "  text-decoration: none !important;\n",
              "  margin-left: 1ex;\n",
              "  /* unfitted */\n",
              "  border: var(--sklearn-color-unfitted-level-1) 1pt solid;\n",
              "  color: var(--sklearn-color-unfitted-level-1);\n",
              "}\n",
              "\n",
              ".sk-estimator-doc-link.fitted,\n",
              "a:link.sk-estimator-doc-link.fitted,\n",
              "a:visited.sk-estimator-doc-link.fitted {\n",
              "  /* fitted */\n",
              "  border: var(--sklearn-color-fitted-level-1) 1pt solid;\n",
              "  color: var(--sklearn-color-fitted-level-1);\n",
              "}\n",
              "\n",
              "/* On hover */\n",
              "div.sk-estimator:hover .sk-estimator-doc-link:hover,\n",
              ".sk-estimator-doc-link:hover,\n",
              "div.sk-label-container:hover .sk-estimator-doc-link:hover,\n",
              ".sk-estimator-doc-link:hover {\n",
              "  /* unfitted */\n",
              "  background-color: var(--sklearn-color-unfitted-level-3);\n",
              "  color: var(--sklearn-color-background);\n",
              "  text-decoration: none;\n",
              "}\n",
              "\n",
              "div.sk-estimator.fitted:hover .sk-estimator-doc-link.fitted:hover,\n",
              ".sk-estimator-doc-link.fitted:hover,\n",
              "div.sk-label-container:hover .sk-estimator-doc-link.fitted:hover,\n",
              ".sk-estimator-doc-link.fitted:hover {\n",
              "  /* fitted */\n",
              "  background-color: var(--sklearn-color-fitted-level-3);\n",
              "  color: var(--sklearn-color-background);\n",
              "  text-decoration: none;\n",
              "}\n",
              "\n",
              "/* Span, style for the box shown on hovering the info icon */\n",
              ".sk-estimator-doc-link span {\n",
              "  display: none;\n",
              "  z-index: 9999;\n",
              "  position: relative;\n",
              "  font-weight: normal;\n",
              "  right: .2ex;\n",
              "  padding: .5ex;\n",
              "  margin: .5ex;\n",
              "  width: min-content;\n",
              "  min-width: 20ex;\n",
              "  max-width: 50ex;\n",
              "  color: var(--sklearn-color-text);\n",
              "  box-shadow: 2pt 2pt 4pt #999;\n",
              "  /* unfitted */\n",
              "  background: var(--sklearn-color-unfitted-level-0);\n",
              "  border: .5pt solid var(--sklearn-color-unfitted-level-3);\n",
              "}\n",
              "\n",
              ".sk-estimator-doc-link.fitted span {\n",
              "  /* fitted */\n",
              "  background: var(--sklearn-color-fitted-level-0);\n",
              "  border: var(--sklearn-color-fitted-level-3);\n",
              "}\n",
              "\n",
              ".sk-estimator-doc-link:hover span {\n",
              "  display: block;\n",
              "}\n",
              "\n",
              "/* \"?\"-specific style due to the `<a>` HTML tag */\n",
              "\n",
              "#sk-container-id-1 a.estimator_doc_link {\n",
              "  float: right;\n",
              "  font-size: 1rem;\n",
              "  line-height: 1em;\n",
              "  font-family: monospace;\n",
              "  background-color: var(--sklearn-color-background);\n",
              "  border-radius: 1rem;\n",
              "  height: 1rem;\n",
              "  width: 1rem;\n",
              "  text-decoration: none;\n",
              "  /* unfitted */\n",
              "  color: var(--sklearn-color-unfitted-level-1);\n",
              "  border: var(--sklearn-color-unfitted-level-1) 1pt solid;\n",
              "}\n",
              "\n",
              "#sk-container-id-1 a.estimator_doc_link.fitted {\n",
              "  /* fitted */\n",
              "  border: var(--sklearn-color-fitted-level-1) 1pt solid;\n",
              "  color: var(--sklearn-color-fitted-level-1);\n",
              "}\n",
              "\n",
              "/* On hover */\n",
              "#sk-container-id-1 a.estimator_doc_link:hover {\n",
              "  /* unfitted */\n",
              "  background-color: var(--sklearn-color-unfitted-level-3);\n",
              "  color: var(--sklearn-color-background);\n",
              "  text-decoration: none;\n",
              "}\n",
              "\n",
              "#sk-container-id-1 a.estimator_doc_link.fitted:hover {\n",
              "  /* fitted */\n",
              "  background-color: var(--sklearn-color-fitted-level-3);\n",
              "}\n",
              "</style><div id=\"sk-container-id-1\" class=\"sk-top-container\"><div class=\"sk-text-repr-fallback\"><pre>RandomForestClassifier(class_weight=&#x27;balanced&#x27;, criterion=&#x27;entropy&#x27;,\n",
              "                       max_depth=30, max_features=4, min_samples_leaf=3,\n",
              "                       min_samples_split=20, n_estimators=200)</pre><b>In a Jupyter environment, please rerun this cell to show the HTML representation or trust the notebook. <br />On GitHub, the HTML representation is unable to render, please try loading this page with nbviewer.org.</b></div><div class=\"sk-container\" hidden><div class=\"sk-item\"><div class=\"sk-estimator fitted sk-toggleable\"><input class=\"sk-toggleable__control sk-hidden--visually\" id=\"sk-estimator-id-1\" type=\"checkbox\" checked><label for=\"sk-estimator-id-1\" class=\"sk-toggleable__label fitted sk-toggleable__label-arrow fitted\">&nbsp;&nbsp;RandomForestClassifier<a class=\"sk-estimator-doc-link fitted\" rel=\"noreferrer\" target=\"_blank\" href=\"https://scikit-learn.org/1.5/modules/generated/sklearn.ensemble.RandomForestClassifier.html\">?<span>Documentation for RandomForestClassifier</span></a><span class=\"sk-estimator-doc-link fitted\">i<span>Fitted</span></span></label><div class=\"sk-toggleable__content fitted\"><pre>RandomForestClassifier(class_weight=&#x27;balanced&#x27;, criterion=&#x27;entropy&#x27;,\n",
              "                       max_depth=30, max_features=4, min_samples_leaf=3,\n",
              "                       min_samples_split=20, n_estimators=200)</pre></div> </div></div></div></div>"
            ],
            "text/plain": [
              "RandomForestClassifier(class_weight='balanced', criterion='entropy',\n",
              "                       max_depth=30, max_features=4, min_samples_leaf=3,\n",
              "                       min_samples_split=20, n_estimators=200)"
            ]
          },
          "execution_count": 3,
          "metadata": {},
          "output_type": "execute_result"
        }
      ],
      "source": [
        "from sklearn.ensemble import RandomForestClassifier\n",
        "\n",
        "rfc = RandomForestClassifier(\n",
        "    class_weight = 'balanced',\n",
        "    criterion = 'entropy',\n",
        "    max_depth = 30,\n",
        "    max_features = 4,\n",
        "    min_samples_leaf = 3,\n",
        "    min_samples_split = 20,\n",
        "    n_estimators = 200,\n",
        ")\n",
        "\n",
        "rfc.fit(train_data, train_labels)"
      ]
    },
    {
      "cell_type": "code",
      "execution_count": 4,
      "metadata": {
        "id": "vfwwKjOXebK3"
      },
      "outputs": [],
      "source": [
        "from sklearn.metrics import classification_report\n",
        "\n",
        "train_labels_model = rfc.predict(train_data)\n",
        "test_labels_model = rfc.predict(test_data)\n",
        "validation = classification_report(test_labels, test_labels_model, output_dict=True)"
      ]
    },
    {
      "cell_type": "code",
      "execution_count": 5,
      "metadata": {
        "id": "cfjDzeTwFz51"
      },
      "outputs": [],
      "source": [
        "from sklearn.metrics import classification_report\n",
        "def report_scores(test_label, test_pred):\n",
        "    print(classification_report(test_label,\n",
        "                            test_pred,\n",
        "                            target_names=['0', '1']))"
      ]
    },
    {
      "cell_type": "code",
      "execution_count": 6,
      "metadata": {
        "colab": {
          "base_uri": "https://localhost:8080/"
        },
        "id": "NvQXLzibF6ZI",
        "outputId": "ac819578-de51-454a-b127-eb7e1faa4e26"
      },
      "outputs": [
        {
          "name": "stdout",
          "output_type": "stream",
          "text": [
            "              precision    recall  f1-score   support\n",
            "\n",
            "           0       0.89      0.94      0.91     30219\n",
            "           1       0.46      0.30      0.37      5187\n",
            "\n",
            "    accuracy                           0.85     35406\n",
            "   macro avg       0.67      0.62      0.64     35406\n",
            "weighted avg       0.82      0.85      0.83     35406\n",
            "\n"
          ]
        }
      ],
      "source": [
        "report_scores(test_labels, test_labels_model)"
      ]
    },
    {
      "cell_type": "markdown",
      "metadata": {
        "id": "D9GM9AoCXuZZ"
      },
      "source": [
        "# Feature importance"
      ]
    },
    {
      "cell_type": "markdown",
      "metadata": {
        "id": "dP5NaUKBB2QH"
      },
      "source": [
        "Here we we will analyse the feature importance of the Random Forest model that we have trained above. To do so, we will use the `shap` library.\n",
        "In particular, we will use the `shap.TreeExplainer` class to explain the predictions of the model because it is a tree-based model and it is the most appropriate class for this type of model."
      ]
    },
    {
      "cell_type": "code",
      "execution_count": 7,
      "metadata": {
        "colab": {
          "base_uri": "https://localhost:8080/",
          "height": 634
        },
        "id": "9xF9gCirdySd",
        "outputId": "3a4525a4-e5eb-47c6-9334-57882165d4a5"
      },
      "outputs": [
        {
          "name": "stdout",
          "output_type": "stream",
          "text": [
            "(1, 10, 2)\n"
          ]
        },
        {
          "data": {
            "image/png": "[encoded data removed]",
            "text/plain": [
              "<Figure size 800x650 with 3 Axes>"
            ]
          },
          "metadata": {},
          "output_type": "display_data"
        }
      ],
      "source": [
        "import shap\n",
        "\n",
        "# Use the TreeExplainer to get SHAP values\n",
        "explainer = shap.TreeExplainer(rfc)\n",
        "\n",
        "# Calculate SHAP values\n",
        "shap_values = explainer(train_data.iloc[[10000]])\n",
        "print(shap_values.shape)\n",
        "\n",
        "# Visualizations\n",
        "shap.plots.waterfall(shap_values[0, :, 0])\n"
      ]
    },
    {
      "cell_type": "code",
      "execution_count": 8,
      "metadata": {
        "colab": {
          "base_uri": "https://localhost:8080/",
          "height": 617
        },
        "id": "idW5AlJoB2QI",
        "outputId": "1303327d-7a41-45c7-d24d-9b63e45c4c24"
      },
      "outputs": [
        {
          "data": {
            "image/png": "[encoded data removed]",
            "text/plain": [
              "<Figure size 800x650 with 3 Axes>"
            ]
          },
          "metadata": {},
          "output_type": "display_data"
        }
      ],
      "source": [
        "shap.plots.waterfall(shap_values[0, :, 1])"
      ]
    },
    {
      "cell_type": "markdown",
      "metadata": {
        "id": "MtcxBwGRB2QI"
      },
      "source": [
        "As you can see from the plot above has a contribution on the prediction of the model. The most important feature is the `debut_year` feature, followed by the `avg_pos` feature followed by `competitive_age` and `career_points`.\n",
        "\n",
        "For this instance `difficulty_score` is the least important feature."
      ]
    },
    {
      "cell_type": "markdown",
      "metadata": {
        "id": "fa49LhDMB2QI"
      },
      "source": [
        "For a major understanding of the importance of each feature, we can use the `shap.summary_plot` function to plot the SHAP values of each feature.\n",
        "By doing this, we can see the distribution of the SHAP values of each feature and how they contribute to the model's predictions.\n",
        "We use a sampling of the data called `train_data_sample` due to the large number of samples in the dataset."
      ]
    },
    {
      "cell_type": "code",
      "execution_count": 9,
      "metadata": {
        "colab": {
          "base_uri": "https://localhost:8080/"
        },
        "id": "PRGYrPlnB2QJ",
        "outputId": "8fef6993-01ba-4487-a7d1-f03d0c1987ea"
      },
      "outputs": [
        {
          "name": "stdout",
          "output_type": "stream",
          "text": [
            "(100, 10, 2)\n"
          ]
        }
      ],
      "source": [
        "import shap\n",
        "\n",
        "# Use the TreeExplainer to get SHAP values\n",
        "explainer = shap.TreeExplainer(rfc)\n",
        "\n",
        "# Calculate SHAP values\n",
        "shap_values = explainer(train_data_sampled)\n",
        "print(shap_values.shape)"
      ]
    },
    {
      "cell_type": "code",
      "execution_count": 10,
      "metadata": {
        "colab": {
          "base_uri": "https://localhost:8080/",
          "height": 514
        },
        "id": "c4X_2vHaB2QJ",
        "outputId": "ea641d4c-e9f2-43ba-a5f1-640faa966792"
      },
      "outputs": [
        {
          "data": {
            "image/png": "[encoded data removed]",
            "text/plain": [
              "<Figure size 800x550 with 2 Axes>"
            ]
          },
          "metadata": {},
          "output_type": "display_data"
        }
      ],
      "source": [
        "# Visualizations for the positive class\n",
        "shap.plots.beeswarm(shap_values[..., 1])"
      ]
    },
    {
      "cell_type": "markdown",
      "metadata": {
        "id": "vVqhV236B2QJ"
      },
      "source": [
        "In the plot above the features are ordered from top to bottom based on their importance. The X-axis represents the impact on model output:\n",
        "- on the **right side**, the impact is positive, meaning that the feature contributes to the prediction of the model.\n",
        "- on the **left side**, the impact is negative, meaning that the feature contributes to the prediction of the model.\n",
        "\n",
        "Starting from the top, we can notice in particular that:\n",
        "- `avg_pos` is the most important feature for the random forest model. The higher the `avg_pos` value, the major is the probability that the labelling is negative, this aspect was reflected during the clustering analysis. Low `avg_pos` tend to increase the probability of a positive labelling slightly.\n",
        "  \n",
        "- `debut_year` is the second most important feature. High `debut_year` values decrease the model's output significantly, while again low values tend to increase the probability of a positive labelling.\n",
        "\n",
        "- `startlist_quality` is less impactful than the previous two features, but it still has a significant impact on the model's output. low `startlist_quality` values tend to increase the probability of a positive labelling, while high values tend to decrease it.\n",
        "\n",
        "Other features like `difficulty_score` and and `career_duration` have a lower impact on the model's output, but they still contribute to the model's predictions.\n"
      ]
    },
    {
      "cell_type": "markdown",
      "metadata": {
        "id": "Xnxg9bclB2QJ"
      },
      "source": [
        "## Rule explanation"
      ]
    },
    {
      "cell_type": "markdown",
      "metadata": {
        "id": "S_dxzZX7B2QJ"
      },
      "source": [
        "In this part we concentrate on the explanation on the rule explanation of the Random Forest Model. To do so, we use the `LORE(Local Rule-based Explanations)` algorithm which uses local explanations based on rules for the prediction of the model."
      ]
    },
    {
      "cell_type": "code",
      "execution_count": 11,
      "metadata": {
        "id": "08DZ_Jt8B2QJ"
      },
      "outputs": [],
      "source": [
        "from xailib.explainers.lore_explainer import LoreTabularExplainer\n",
        "\n",
        "explanation_algorithm = LoreTabularExplainer(rfc)\n",
        "\n",
        "configuration = {\n",
        "    \"neigh_type\": \"rndgen\",\n",
        "    \"size\": 1000,\n",
        "    \"ocr\":0.1,\n",
        "    \"ngen\": 100\n",
        "}\n",
        "\n",
        "lore_train_data = pd.concat((train_data_sampled, train_labels_sampled), axis=\"columns\")\n",
        "explanation_algorithm.fit(lore_train_data, \"top_20\", config=configuration)\n",
        "explanation = explanation_algorithm.explain(train_data.iloc[10000].values)\n"
      ]
    },
    {
      "cell_type": "markdown",
      "metadata": {
        "id": "215j6MrfB2QJ"
      },
      "source": [
        "Now the `explanation` object contains the rules that the model uses to make predictions. We can now get the rules by running the `get_rules` method on the `explanation` object."
      ]
    },
    {
      "cell_type": "code",
      "execution_count": 12,
      "metadata": {
        "id": "6a0oB3XVB2QK",
        "outputId": "ca8c5dbd-609d-4429-f2fd-d80160b2c55b"
      },
      "outputs": [
        {
          "data": {
            "text/plain": [
              "{'premise': [{'att': 'avg_pos',\n",
              "   'op': '>',\n",
              "   'thr': 46.67694282531738,\n",
              "   'is_continuous': True},\n",
              "  {'att': 'startlist_quality',\n",
              "   'op': '>',\n",
              "   'thr': 1164.5623168945312,\n",
              "   'is_continuous': True},\n",
              "  {'att': 'climbing_efficiency',\n",
              "   'op': '<=',\n",
              "   'thr': 0.01828049309551716,\n",
              "   'is_continuous': True},\n",
              "  {'att': 'climbing_efficiency',\n",
              "   'op': '>',\n",
              "   'thr': 0.018158056773245335,\n",
              "   'is_continuous': True},\n",
              "  {'att': 'is_tarmac',\n",
              "   'op': '>',\n",
              "   'thr': 0.46313533186912537,\n",
              "   'is_continuous': True},\n",
              "  {'att': 'bmi', 'op': '>', 'thr': 18.57522201538086, 'is_continuous': True},\n",
              "  {'att': 'competitive_age',\n",
              "   'op': '>',\n",
              "   'thr': 21.824191093444824,\n",
              "   'is_continuous': True},\n",
              "  {'att': 'career_points',\n",
              "   'op': '<=',\n",
              "   'thr': 27246.3798828125,\n",
              "   'is_continuous': True},\n",
              "  {'att': 'debut_year',\n",
              "   'op': '<=',\n",
              "   'thr': 1981.7996826171875,\n",
              "   'is_continuous': True}],\n",
              " 'cons': 0,\n",
              " 'class_name': 'top_20'}"
            ]
          },
          "execution_count": 12,
          "metadata": {},
          "output_type": "execute_result"
        }
      ],
      "source": [
        "# extract the rule for the given instance\n",
        "explanation.getRules()"
      ]
    },
    {
      "cell_type": "markdown",
      "metadata": {
        "id": "Zpx1VK1EB2QK"
      },
      "source": [
        "Now we can use the method `getCounterfactualRules` to get the counterfactual rules for the prediction of the model. The counterfactual rules are the rules that need to be satisfied in order to change the prediction of the model."
      ]
    },
    {
      "cell_type": "code",
      "execution_count": 13,
      "metadata": {
        "id": "x3pK9c5dB2QK",
        "outputId": "0f9de661-4108-46a1-9550-26a559781e46"
      },
      "outputs": [
        {
          "data": {
            "text/plain": [
              "[{'premise': [{'att': 'avg_pos',\n",
              "    'op': '<=',\n",
              "    'thr': 86.18418502807617,\n",
              "    'is_continuous': True},\n",
              "   {'att': 'avg_pos',\n",
              "    'op': '>',\n",
              "    'thr': 45.3615779876709,\n",
              "    'is_continuous': True},\n",
              "   {'att': 'startlist_quality',\n",
              "    'op': '<=',\n",
              "    'thr': 1164.5623168945312,\n",
              "    'is_continuous': True},\n",
              "   {'att': 'debut_year',\n",
              "    'op': '<=',\n",
              "    'thr': 1991.8067626953125,\n",
              "    'is_continuous': True},\n",
              "   {'att': 'competitive_age',\n",
              "    'op': '<=',\n",
              "    'thr': 31.778178215026855,\n",
              "    'is_continuous': True},\n",
              "   {'att': 'climbing_efficiency',\n",
              "    'op': '>',\n",
              "    'thr': -0.0071030683611752465,\n",
              "    'is_continuous': True},\n",
              "   {'att': 'is_tarmac',\n",
              "    'op': '>',\n",
              "    'thr': 0.5391402840614319,\n",
              "    'is_continuous': True}],\n",
              "  'cons': 1,\n",
              "  'class_name': 'top_20'}]"
            ]
          },
          "execution_count": 13,
          "metadata": {},
          "output_type": "execute_result"
        }
      ],
      "source": [
        "explanation.getCounterfactualRules()"
      ]
    },
    {
      "cell_type": "code",
      "execution_count": 14,
      "metadata": {
        "id": "I-yRMtDKB2QK",
        "outputId": "00d75ecb-182c-4ad0-bb5e-b5bd1bf6b07b"
      },
      "outputs": [
        {
          "data": {
            "text/html": [
              "\n",
              "                <style>\n",
              "                .red {\n",
              "                background-color:firebrick;\n",
              "                padding:3px 5px 3px 5px;\n",
              "                border-radius:5px;\n",
              "\n",
              "                color:white;\n",
              "                }\n",
              "                .rules{\n",
              "                    margin-top:10px;\n",
              "                    font-weight: 400;\n",
              "                }\n",
              "                .rule{\n",
              "                padding:5px 20px 5px 20px;\n",
              "                border-radius:5px;\n",
              "                margin-right:5px;\n",
              "                font-size:12px;\n",
              "                line-height:20px;\n",
              "                display: block;\n",
              "                margin-bottom: 10px;\n",
              "                width: fit-content;\n",
              "                \n",
              "                color:white;\n",
              "                background-color:firebrick;\n",
              "                opacity:0.8;\n",
              "                }\n",
              "                </style>\n",
              "                "
            ],
            "text/plain": [
              "<IPython.core.display.HTML object>"
            ]
          },
          "metadata": {},
          "output_type": "display_data"
        },
        {
          "data": {
            "text/html": [
              "\n",
              "            <h3>Why the predicted value for class <span class='red'>top_20</span> is <span class='red'>0</span> ?</h3>\n",
              "            "
            ],
            "text/plain": [
              "<IPython.core.display.HTML object>"
            ]
          },
          "metadata": {},
          "output_type": "display_data"
        },
        {
          "data": {
            "text/html": [
              "\n",
              "            <p>Because all the following conditions happen:</p>\n",
              "            "
            ],
            "text/plain": [
              "<IPython.core.display.HTML object>"
            ]
          },
          "metadata": {},
          "output_type": "display_data"
        },
        {
          "data": {
            "text/html": [
              "<p class='rules'><span class='rule'>avg pos <strong>></strong> 46.68</span><span class='rule'>startlist quality <strong>></strong> 1164.56</span><span class='rule'>climbing efficiency <strong><=</strong> 0.02</span><span class='rule'>climbing efficiency <strong>></strong> 0.02</span><span class='rule'>is tarmac <strong>></strong> 0.46</span><span class='rule'>bmi <strong>></strong> 18.58</span><span class='rule'>competitive age <strong>></strong> 21.82</span><span class='rule'>career points <strong><=</strong> 27246.38</span><span class='rule'>debut year <strong><=</strong> 1981.80</span></p>"
            ],
            "text/plain": [
              "<IPython.core.display.HTML object>"
            ]
          },
          "metadata": {},
          "output_type": "display_data"
        }
      ],
      "source": [
        "explanation.plotRules()"
      ]
    },
    {
      "cell_type": "code",
      "execution_count": 15,
      "metadata": {
        "id": "_6FRQ1u0B2QK",
        "outputId": "29b75ba3-2a20-4c92-eb34-e4d07b862f11"
      },
      "outputs": [
        {
          "data": {
            "text/plain": [
              "0.9931372933064024"
            ]
          },
          "execution_count": 15,
          "metadata": {},
          "output_type": "execute_result"
        }
      ],
      "source": [
        "explanation.expDict[\"fidelity\"]"
      ]
    },
    {
      "cell_type": "markdown",
      "metadata": {
        "id": "VovQrmBAB2QL"
      },
      "source": [
        "This fidelity tell us that the local model agrees with the predctions of the global model 99.7% of the synthetic neighbors used to build the local explanation."
      ]
    },
    {
      "cell_type": "markdown",
      "metadata": {
        "id": "Qqb2Q4UyB2QL"
      },
      "source": [
        "## Counterfactual explanations"
      ]
    },
    {
      "cell_type": "markdown",
      "metadata": {
        "id": "nV8lGrzCB2QL"
      },
      "source": [
        "Here we provide the counterfactual explanations for the Random Forest model. Counterfactual explanations are the instances that need to be changed in order to change the prediction of the model. To do it we use the `dice_ml` library."
      ]
    },
    {
      "cell_type": "code",
      "execution_count": 16,
      "metadata": {
        "id": "sqjIHwV9B2QL"
      },
      "outputs": [],
      "source": [
        "import dice_ml\n",
        "\n",
        "# need to convert data to the Dice format\n",
        "dice_train_dataset = train_data_sampled.copy()\n",
        "dice_train_dataset[\"top_20\"] = train_labels_sampled\n",
        "dice_dataset = dice_ml.Data(\n",
        "    dataframe=dice_train_dataset,\n",
        "    outcome_name=\"top_20\",\n",
        "    continuous_features=dice_train_dataset.columns.tolist()[:-1]\n",
        ")\n",
        "\n",
        "dice_model = dice_ml.Model(\n",
        "    model=rfc,\n",
        "    backend=\"sklearn\",  # dice supports several frameworks, e.g., pytorch, tensorflow\n",
        ")\n"
      ]
    },
    {
      "cell_type": "code",
      "execution_count": 17,
      "metadata": {
        "id": "l8a-GVGtB2QL",
        "outputId": "81910f25-cfa5-4b5a-d794-6cfeaf555dd2"
      },
      "outputs": [
        {
          "name": "stderr",
          "output_type": "stream",
          "text": [
            "  0%|          | 0/1 [00:00<?, ?it/s]"
          ]
        },
        {
          "name": "stderr",
          "output_type": "stream",
          "text": [
            "100%|██████████| 1/1 [00:00<00:00,  2.64it/s]\n"
          ]
        }
      ],
      "source": [
        "# the Dice object interfaces the counterfactual search\n",
        "explanation_algorithm = dice_ml.Dice(\n",
        "    dice_dataset,\n",
        "    dice_model,\n",
        "    method=\"random\"  # random search for counterfactuals\n",
        "    # method=\"gradient\"  # gradient ASCent\n",
        "    # method=\"genetic\"  # genetic algorithm for search\n",
        ")\n",
        "\n",
        "explanation = explanation_algorithm.generate_counterfactuals(\n",
        "    dice_train_dataset.head(1).drop(\"top_20\", axis=\"columns\"),\n",
        "    total_CFs=10,  # number of counterfactuals to generate\n",
        ")"
      ]
    },
    {
      "cell_type": "markdown",
      "metadata": {
        "id": "RH76T6fFB2QL"
      },
      "source": [
        "We print the counterfactual explanations generated by DiCE for a specific query instance."
      ]
    },
    {
      "cell_type": "code",
      "execution_count": 18,
      "metadata": {
        "id": "Lu5BZ45fB2QM",
        "outputId": "c10d0a9b-139e-41b9-b57e-187bc4006335"
      },
      "outputs": [
        {
          "name": "stdout",
          "output_type": "stream",
          "text": [
            "Query instance (original outcome : 1)\n"
          ]
        },
        {
          "data": {
            "text/html": [
              "<div>\n",
              "<style scoped>\n",
              "    .dataframe tbody tr th:only-of-type {\n",
              "        vertical-align: middle;\n",
              "    }\n",
              "\n",
              "    .dataframe tbody tr th {\n",
              "        vertical-align: top;\n",
              "    }\n",
              "\n",
              "    .dataframe thead th {\n",
              "        text-align: right;\n",
              "    }\n",
              "</style>\n",
              "<table border=\"1\" class=\"dataframe\">\n",
              "  <thead>\n",
              "    <tr style=\"text-align: right;\">\n",
              "      <th></th>\n",
              "      <th>bmi</th>\n",
              "      <th>career_points</th>\n",
              "      <th>career_duration(days)</th>\n",
              "      <th>debut_year</th>\n",
              "      <th>difficulty_score</th>\n",
              "      <th>competitive_age</th>\n",
              "      <th>is_tarmac</th>\n",
              "      <th>climbing_efficiency</th>\n",
              "      <th>startlist_quality</th>\n",
              "      <th>avg_pos</th>\n",
              "      <th>top_20</th>\n",
              "    </tr>\n",
              "  </thead>\n",
              "  <tbody>\n",
              "    <tr>\n",
              "      <th>0</th>\n",
              "      <td>22.839506</td>\n",
              "      <td>280.0</td>\n",
              "      <td>4.0</td>\n",
              "      <td>1996.0</td>\n",
              "      <td>1.412609</td>\n",
              "      <td>27</td>\n",
              "      <td>1</td>\n",
              "      <td>0.01189</td>\n",
              "      <td>923</td>\n",
              "      <td>104.5</td>\n",
              "      <td>1</td>\n",
              "    </tr>\n",
              "  </tbody>\n",
              "</table>\n",
              "</div>"
            ],
            "text/plain": [
              "         bmi  career_points  career_duration(days)  debut_year  \\\n",
              "0  22.839506          280.0                    4.0      1996.0   \n",
              "\n",
              "   difficulty_score  competitive_age  is_tarmac  climbing_efficiency  \\\n",
              "0          1.412609               27          1              0.01189   \n",
              "\n",
              "   startlist_quality  avg_pos  top_20  \n",
              "0                923    104.5       1  "
            ]
          },
          "metadata": {},
          "output_type": "display_data"
        },
        {
          "name": "stdout",
          "output_type": "stream",
          "text": [
            "\n",
            "Diverse Counterfactual set (new outcome: 0)\n"
          ]
        },
        {
          "data": {
            "text/html": [
              "<div>\n",
              "<style scoped>\n",
              "    .dataframe tbody tr th:only-of-type {\n",
              "        vertical-align: middle;\n",
              "    }\n",
              "\n",
              "    .dataframe tbody tr th {\n",
              "        vertical-align: top;\n",
              "    }\n",
              "\n",
              "    .dataframe thead th {\n",
              "        text-align: right;\n",
              "    }\n",
              "</style>\n",
              "<table border=\"1\" class=\"dataframe\">\n",
              "  <thead>\n",
              "    <tr style=\"text-align: right;\">\n",
              "      <th></th>\n",
              "      <th>bmi</th>\n",
              "      <th>career_points</th>\n",
              "      <th>career_duration(days)</th>\n",
              "      <th>debut_year</th>\n",
              "      <th>difficulty_score</th>\n",
              "      <th>competitive_age</th>\n",
              "      <th>is_tarmac</th>\n",
              "      <th>climbing_efficiency</th>\n",
              "      <th>startlist_quality</th>\n",
              "      <th>avg_pos</th>\n",
              "      <th>top_20</th>\n",
              "    </tr>\n",
              "  </thead>\n",
              "  <tbody>\n",
              "    <tr>\n",
              "      <th>0</th>\n",
              "      <td>-</td>\n",
              "      <td>-</td>\n",
              "      <td>-</td>\n",
              "      <td>-</td>\n",
              "      <td>-</td>\n",
              "      <td>38.0</td>\n",
              "      <td>-</td>\n",
              "      <td>0.2887827677</td>\n",
              "      <td>-</td>\n",
              "      <td>-</td>\n",
              "      <td>0.0</td>\n",
              "    </tr>\n",
              "    <tr>\n",
              "      <th>1</th>\n",
              "      <td>-</td>\n",
              "      <td>16854.5</td>\n",
              "      <td>-</td>\n",
              "      <td>-</td>\n",
              "      <td>-</td>\n",
              "      <td>-</td>\n",
              "      <td>-</td>\n",
              "      <td>-</td>\n",
              "      <td>-</td>\n",
              "      <td>-</td>\n",
              "      <td>0.0</td>\n",
              "    </tr>\n",
              "    <tr>\n",
              "      <th>2</th>\n",
              "      <td>-</td>\n",
              "      <td>-</td>\n",
              "      <td>409.8</td>\n",
              "      <td>-</td>\n",
              "      <td>-</td>\n",
              "      <td>-</td>\n",
              "      <td>-</td>\n",
              "      <td>-</td>\n",
              "      <td>-</td>\n",
              "      <td>-</td>\n",
              "      <td>0.0</td>\n",
              "    </tr>\n",
              "    <tr>\n",
              "      <th>3</th>\n",
              "      <td>-</td>\n",
              "      <td>-</td>\n",
              "      <td>-</td>\n",
              "      <td>-</td>\n",
              "      <td>-</td>\n",
              "      <td>-</td>\n",
              "      <td>-</td>\n",
              "      <td>-</td>\n",
              "      <td>1237.0</td>\n",
              "      <td>108.0</td>\n",
              "      <td>0.0</td>\n",
              "    </tr>\n",
              "    <tr>\n",
              "      <th>4</th>\n",
              "      <td>-</td>\n",
              "      <td>14386.8</td>\n",
              "      <td>320.2</td>\n",
              "      <td>-</td>\n",
              "      <td>-</td>\n",
              "      <td>-</td>\n",
              "      <td>-</td>\n",
              "      <td>-</td>\n",
              "      <td>-</td>\n",
              "      <td>-</td>\n",
              "      <td>0.0</td>\n",
              "    </tr>\n",
              "    <tr>\n",
              "      <th>5</th>\n",
              "      <td>-</td>\n",
              "      <td>1876.7</td>\n",
              "      <td>-</td>\n",
              "      <td>-</td>\n",
              "      <td>-</td>\n",
              "      <td>-</td>\n",
              "      <td>-</td>\n",
              "      <td>-</td>\n",
              "      <td>-</td>\n",
              "      <td>84.1</td>\n",
              "      <td>0.0</td>\n",
              "    </tr>\n",
              "    <tr>\n",
              "      <th>6</th>\n",
              "      <td>-</td>\n",
              "      <td>-</td>\n",
              "      <td>-</td>\n",
              "      <td>-</td>\n",
              "      <td>-</td>\n",
              "      <td>-</td>\n",
              "      <td>-</td>\n",
              "      <td>-</td>\n",
              "      <td>782.0</td>\n",
              "      <td>102.8</td>\n",
              "      <td>0.0</td>\n",
              "    </tr>\n",
              "    <tr>\n",
              "      <th>7</th>\n",
              "      <td>-</td>\n",
              "      <td>-</td>\n",
              "      <td>-</td>\n",
              "      <td>-</td>\n",
              "      <td>-</td>\n",
              "      <td>31.0</td>\n",
              "      <td>-</td>\n",
              "      <td>-</td>\n",
              "      <td>-</td>\n",
              "      <td>-</td>\n",
              "      <td>0.0</td>\n",
              "    </tr>\n",
              "    <tr>\n",
              "      <th>8</th>\n",
              "      <td>-</td>\n",
              "      <td>26828.9</td>\n",
              "      <td>-</td>\n",
              "      <td>-</td>\n",
              "      <td>-</td>\n",
              "      <td>-</td>\n",
              "      <td>-</td>\n",
              "      <td>-</td>\n",
              "      <td>-</td>\n",
              "      <td>77.5</td>\n",
              "      <td>0.0</td>\n",
              "    </tr>\n",
              "    <tr>\n",
              "      <th>9</th>\n",
              "      <td>-</td>\n",
              "      <td>-</td>\n",
              "      <td>-</td>\n",
              "      <td>-</td>\n",
              "      <td>-</td>\n",
              "      <td>-</td>\n",
              "      <td>-</td>\n",
              "      <td>-</td>\n",
              "      <td>-</td>\n",
              "      <td>150.3</td>\n",
              "      <td>0.0</td>\n",
              "    </tr>\n",
              "  </tbody>\n",
              "</table>\n",
              "</div>"
            ],
            "text/plain": [
              "  bmi career_points career_duration(days) debut_year difficulty_score  \\\n",
              "0   -             -                     -          -                -   \n",
              "1   -       16854.5                     -          -                -   \n",
              "2   -             -                 409.8          -                -   \n",
              "3   -             -                     -          -                -   \n",
              "4   -       14386.8                 320.2          -                -   \n",
              "5   -        1876.7                     -          -                -   \n",
              "6   -             -                     -          -                -   \n",
              "7   -             -                     -          -                -   \n",
              "8   -       26828.9                     -          -                -   \n",
              "9   -             -                     -          -                -   \n",
              "\n",
              "  competitive_age is_tarmac climbing_efficiency startlist_quality avg_pos  \\\n",
              "0            38.0         -        0.2887827677                 -       -   \n",
              "1               -         -                   -                 -       -   \n",
              "2               -         -                   -                 -       -   \n",
              "3               -         -                   -            1237.0   108.0   \n",
              "4               -         -                   -                 -       -   \n",
              "5               -         -                   -                 -    84.1   \n",
              "6               -         -                   -             782.0   102.8   \n",
              "7            31.0         -                   -                 -       -   \n",
              "8               -         -                   -                 -    77.5   \n",
              "9               -         -                   -                 -   150.3   \n",
              "\n",
              "  top_20  \n",
              "0    0.0  \n",
              "1    0.0  \n",
              "2    0.0  \n",
              "3    0.0  \n",
              "4    0.0  \n",
              "5    0.0  \n",
              "6    0.0  \n",
              "7    0.0  \n",
              "8    0.0  \n",
              "9    0.0  "
            ]
          },
          "metadata": {},
          "output_type": "display_data"
        }
      ],
      "source": [
        "explanation.visualize_as_dataframe(show_only_changes=True)"
      ]
    },
    {
      "cell_type": "code",
      "execution_count": 19,
      "metadata": {
        "id": "3TDJHPcQB2QM",
        "outputId": "871a71e5-4d38-4f54-8f92-33b9123431f3"
      },
      "outputs": [
        {
          "name": "stderr",
          "output_type": "stream",
          "text": [
            "100%|██████████| 1/1 [00:00<00:00,  4.35it/s]\n"
          ]
        }
      ],
      "source": [
        "explanation = explanation_algorithm.generate_counterfactuals(\n",
        "    dice_train_dataset.head(1).drop(\"top_20\", axis=\"columns\"),\n",
        "    total_CFs=10,  # number of counterfactuals to generate\n",
        "    features_to_vary = [\"debut_year\", \"avg_pos\", \"startlist_quality\", \"bmi\", \"is_tarmac\", \"difficulty_score\"],\n",
        "    stopping_threshold = 0.2\n",
        ")"
      ]
    },
    {
      "cell_type": "code",
      "execution_count": 20,
      "metadata": {
        "id": "s7SVFpo9B2QM",
        "outputId": "0f0ce27f-4e05-4dd1-80f9-56c0dcb8be96"
      },
      "outputs": [
        {
          "name": "stdout",
          "output_type": "stream",
          "text": [
            "Query instance (original outcome : 1)\n"
          ]
        },
        {
          "data": {
            "text/html": [
              "<div>\n",
              "<style scoped>\n",
              "    .dataframe tbody tr th:only-of-type {\n",
              "        vertical-align: middle;\n",
              "    }\n",
              "\n",
              "    .dataframe tbody tr th {\n",
              "        vertical-align: top;\n",
              "    }\n",
              "\n",
              "    .dataframe thead th {\n",
              "        text-align: right;\n",
              "    }\n",
              "</style>\n",
              "<table border=\"1\" class=\"dataframe\">\n",
              "  <thead>\n",
              "    <tr style=\"text-align: right;\">\n",
              "      <th></th>\n",
              "      <th>bmi</th>\n",
              "      <th>career_points</th>\n",
              "      <th>career_duration(days)</th>\n",
              "      <th>debut_year</th>\n",
              "      <th>difficulty_score</th>\n",
              "      <th>competitive_age</th>\n",
              "      <th>is_tarmac</th>\n",
              "      <th>climbing_efficiency</th>\n",
              "      <th>startlist_quality</th>\n",
              "      <th>avg_pos</th>\n",
              "      <th>top_20</th>\n",
              "    </tr>\n",
              "  </thead>\n",
              "  <tbody>\n",
              "    <tr>\n",
              "      <th>0</th>\n",
              "      <td>22.839506</td>\n",
              "      <td>280.0</td>\n",
              "      <td>4.0</td>\n",
              "      <td>1996.0</td>\n",
              "      <td>1.412609</td>\n",
              "      <td>27</td>\n",
              "      <td>1</td>\n",
              "      <td>0.01189</td>\n",
              "      <td>923</td>\n",
              "      <td>104.5</td>\n",
              "      <td>1</td>\n",
              "    </tr>\n",
              "  </tbody>\n",
              "</table>\n",
              "</div>"
            ],
            "text/plain": [
              "         bmi  career_points  career_duration(days)  debut_year  \\\n",
              "0  22.839506          280.0                    4.0      1996.0   \n",
              "\n",
              "   difficulty_score  competitive_age  is_tarmac  climbing_efficiency  \\\n",
              "0          1.412609               27          1              0.01189   \n",
              "\n",
              "   startlist_quality  avg_pos  top_20  \n",
              "0                923    104.5       1  "
            ]
          },
          "metadata": {},
          "output_type": "display_data"
        },
        {
          "name": "stdout",
          "output_type": "stream",
          "text": [
            "\n",
            "Diverse Counterfactual set (new outcome: 0)\n"
          ]
        },
        {
          "data": {
            "text/html": [
              "<div>\n",
              "<style scoped>\n",
              "    .dataframe tbody tr th:only-of-type {\n",
              "        vertical-align: middle;\n",
              "    }\n",
              "\n",
              "    .dataframe tbody tr th {\n",
              "        vertical-align: top;\n",
              "    }\n",
              "\n",
              "    .dataframe thead th {\n",
              "        text-align: right;\n",
              "    }\n",
              "</style>\n",
              "<table border=\"1\" class=\"dataframe\">\n",
              "  <thead>\n",
              "    <tr style=\"text-align: right;\">\n",
              "      <th></th>\n",
              "      <th>bmi</th>\n",
              "      <th>career_points</th>\n",
              "      <th>career_duration(days)</th>\n",
              "      <th>debut_year</th>\n",
              "      <th>difficulty_score</th>\n",
              "      <th>competitive_age</th>\n",
              "      <th>is_tarmac</th>\n",
              "      <th>climbing_efficiency</th>\n",
              "      <th>startlist_quality</th>\n",
              "      <th>avg_pos</th>\n",
              "      <th>top_20</th>\n",
              "    </tr>\n",
              "  </thead>\n",
              "  <tbody>\n",
              "    <tr>\n",
              "      <th>0</th>\n",
              "      <td>-</td>\n",
              "      <td>-</td>\n",
              "      <td>-</td>\n",
              "      <td>-</td>\n",
              "      <td>1.667682295</td>\n",
              "      <td>-</td>\n",
              "      <td>-</td>\n",
              "      <td>-</td>\n",
              "      <td>1936.0</td>\n",
              "      <td>-</td>\n",
              "      <td>0.0</td>\n",
              "    </tr>\n",
              "    <tr>\n",
              "      <th>1</th>\n",
              "      <td>20.403469</td>\n",
              "      <td>-</td>\n",
              "      <td>-</td>\n",
              "      <td>-</td>\n",
              "      <td>-</td>\n",
              "      <td>-</td>\n",
              "      <td>0.0</td>\n",
              "      <td>-</td>\n",
              "      <td>-</td>\n",
              "      <td>-</td>\n",
              "      <td>0.0</td>\n",
              "    </tr>\n",
              "    <tr>\n",
              "      <th>2</th>\n",
              "      <td>-</td>\n",
              "      <td>-</td>\n",
              "      <td>-</td>\n",
              "      <td>-</td>\n",
              "      <td>1.718056132</td>\n",
              "      <td>-</td>\n",
              "      <td>-</td>\n",
              "      <td>-</td>\n",
              "      <td>-</td>\n",
              "      <td>74.9</td>\n",
              "      <td>0.0</td>\n",
              "    </tr>\n",
              "    <tr>\n",
              "      <th>3</th>\n",
              "      <td>-</td>\n",
              "      <td>-</td>\n",
              "      <td>-</td>\n",
              "      <td>-</td>\n",
              "      <td>1.946827777</td>\n",
              "      <td>-</td>\n",
              "      <td>-</td>\n",
              "      <td>-</td>\n",
              "      <td>1781.0</td>\n",
              "      <td>-</td>\n",
              "      <td>0.0</td>\n",
              "    </tr>\n",
              "    <tr>\n",
              "      <th>4</th>\n",
              "      <td>-</td>\n",
              "      <td>-</td>\n",
              "      <td>-</td>\n",
              "      <td>-</td>\n",
              "      <td>-</td>\n",
              "      <td>-</td>\n",
              "      <td>-</td>\n",
              "      <td>-</td>\n",
              "      <td>2023.0</td>\n",
              "      <td>-</td>\n",
              "      <td>0.0</td>\n",
              "    </tr>\n",
              "    <tr>\n",
              "      <th>5</th>\n",
              "      <td>-</td>\n",
              "      <td>-</td>\n",
              "      <td>-</td>\n",
              "      <td>-</td>\n",
              "      <td>0.519096112</td>\n",
              "      <td>-</td>\n",
              "      <td>-</td>\n",
              "      <td>-</td>\n",
              "      <td>-</td>\n",
              "      <td>151.3</td>\n",
              "      <td>0.0</td>\n",
              "    </tr>\n",
              "    <tr>\n",
              "      <th>6</th>\n",
              "      <td>-</td>\n",
              "      <td>-</td>\n",
              "      <td>-</td>\n",
              "      <td>-</td>\n",
              "      <td>1.663681493</td>\n",
              "      <td>-</td>\n",
              "      <td>-</td>\n",
              "      <td>-</td>\n",
              "      <td>803.0</td>\n",
              "      <td>-</td>\n",
              "      <td>0.0</td>\n",
              "    </tr>\n",
              "    <tr>\n",
              "      <th>7</th>\n",
              "      <td>-</td>\n",
              "      <td>-</td>\n",
              "      <td>-</td>\n",
              "      <td>-</td>\n",
              "      <td>1.834315533</td>\n",
              "      <td>-</td>\n",
              "      <td>-</td>\n",
              "      <td>-</td>\n",
              "      <td>1672.0</td>\n",
              "      <td>-</td>\n",
              "      <td>0.0</td>\n",
              "    </tr>\n",
              "    <tr>\n",
              "      <th>8</th>\n",
              "      <td>-</td>\n",
              "      <td>-</td>\n",
              "      <td>-</td>\n",
              "      <td>-</td>\n",
              "      <td>-</td>\n",
              "      <td>-</td>\n",
              "      <td>-</td>\n",
              "      <td>-</td>\n",
              "      <td>-</td>\n",
              "      <td>168.2</td>\n",
              "      <td>0.0</td>\n",
              "    </tr>\n",
              "    <tr>\n",
              "      <th>9</th>\n",
              "      <td>-</td>\n",
              "      <td>-</td>\n",
              "      <td>-</td>\n",
              "      <td>-</td>\n",
              "      <td>-</td>\n",
              "      <td>-</td>\n",
              "      <td>-</td>\n",
              "      <td>-</td>\n",
              "      <td>1858.0</td>\n",
              "      <td>-</td>\n",
              "      <td>0.0</td>\n",
              "    </tr>\n",
              "  </tbody>\n",
              "</table>\n",
              "</div>"
            ],
            "text/plain": [
              "         bmi career_points career_duration(days) debut_year difficulty_score  \\\n",
              "0          -             -                     -          -      1.667682295   \n",
              "1  20.403469             -                     -          -                -   \n",
              "2          -             -                     -          -      1.718056132   \n",
              "3          -             -                     -          -      1.946827777   \n",
              "4          -             -                     -          -                -   \n",
              "5          -             -                     -          -      0.519096112   \n",
              "6          -             -                     -          -      1.663681493   \n",
              "7          -             -                     -          -      1.834315533   \n",
              "8          -             -                     -          -                -   \n",
              "9          -             -                     -          -                -   \n",
              "\n",
              "  competitive_age is_tarmac climbing_efficiency startlist_quality avg_pos  \\\n",
              "0               -         -                   -            1936.0       -   \n",
              "1               -       0.0                   -                 -       -   \n",
              "2               -         -                   -                 -    74.9   \n",
              "3               -         -                   -            1781.0       -   \n",
              "4               -         -                   -            2023.0       -   \n",
              "5               -         -                   -                 -   151.3   \n",
              "6               -         -                   -             803.0       -   \n",
              "7               -         -                   -            1672.0       -   \n",
              "8               -         -                   -                 -   168.2   \n",
              "9               -         -                   -            1858.0       -   \n",
              "\n",
              "  top_20  \n",
              "0    0.0  \n",
              "1    0.0  \n",
              "2    0.0  \n",
              "3    0.0  \n",
              "4    0.0  \n",
              "5    0.0  \n",
              "6    0.0  \n",
              "7    0.0  \n",
              "8    0.0  \n",
              "9    0.0  "
            ]
          },
          "metadata": {},
          "output_type": "display_data"
        }
      ],
      "source": [
        "explanation.visualize_as_dataframe(show_only_changes=True)"
      ]
    },
    {
      "cell_type": "markdown",
      "metadata": {
        "id": "ZJDNCSYxB2QM"
      },
      "source": [
        "Now we generate the counterfactuals for the Random Forest model. We take the first instance from `dice_train_dataset` to generate the counterfactuals."
      ]
    },
    {
      "cell_type": "code",
      "execution_count": 21,
      "metadata": {
        "id": "0fmubOg9B2QM",
        "outputId": "85b65dd3-db5c-4d44-81a5-2f0f0f647243"
      },
      "outputs": [
        {
          "name": "stderr",
          "output_type": "stream",
          "text": [
            "100%|██████████| 1/1 [00:00<00:00,  3.68it/s]\n"
          ]
        }
      ],
      "source": [
        "explanation = explanation_algorithm.generate_counterfactuals(\n",
        "    dice_train_dataset.head(1).drop(\"top_20\", axis=\"columns\"),\n",
        "    total_CFs=10, # number of counterfactuals to generate\n",
        "    features_to_vary = [\"debut_year\", \"avg_pos\", \"startlist_quality\", \"bmi\", \"is_tarmac\", \"difficulty_score\"],\n",
        "    stopping_threshold = 0.2\n",
        ")"
      ]
    },
    {
      "cell_type": "code",
      "execution_count": 22,
      "metadata": {
        "id": "s2CefBfBB2QM",
        "outputId": "2454d867-2d29-40ee-f46e-0de7e93a1c4d"
      },
      "outputs": [
        {
          "data": {
            "text/html": [
              "<div>\n",
              "<style scoped>\n",
              "    .dataframe tbody tr th:only-of-type {\n",
              "        vertical-align: middle;\n",
              "    }\n",
              "\n",
              "    .dataframe tbody tr th {\n",
              "        vertical-align: top;\n",
              "    }\n",
              "\n",
              "    .dataframe thead th {\n",
              "        text-align: right;\n",
              "    }\n",
              "</style>\n",
              "<table border=\"1\" class=\"dataframe\">\n",
              "  <thead>\n",
              "    <tr style=\"text-align: right;\">\n",
              "      <th></th>\n",
              "      <th>bmi</th>\n",
              "      <th>career_points</th>\n",
              "      <th>career_duration(days)</th>\n",
              "      <th>debut_year</th>\n",
              "      <th>difficulty_score</th>\n",
              "      <th>competitive_age</th>\n",
              "      <th>is_tarmac</th>\n",
              "      <th>climbing_efficiency</th>\n",
              "      <th>startlist_quality</th>\n",
              "      <th>avg_pos</th>\n",
              "      <th>top_20</th>\n",
              "    </tr>\n",
              "  </thead>\n",
              "  <tbody>\n",
              "    <tr>\n",
              "      <th>0</th>\n",
              "      <td>19.252757</td>\n",
              "      <td>280.0</td>\n",
              "      <td>4.0</td>\n",
              "      <td>1996.0</td>\n",
              "      <td>0.152579</td>\n",
              "      <td>27</td>\n",
              "      <td>1</td>\n",
              "      <td>0.01189</td>\n",
              "      <td>923</td>\n",
              "      <td>104.5</td>\n",
              "      <td>0</td>\n",
              "    </tr>\n",
              "    <tr>\n",
              "      <th>1</th>\n",
              "      <td>22.839506</td>\n",
              "      <td>280.0</td>\n",
              "      <td>4.0</td>\n",
              "      <td>1996.0</td>\n",
              "      <td>0.145415</td>\n",
              "      <td>27</td>\n",
              "      <td>1</td>\n",
              "      <td>0.01189</td>\n",
              "      <td>923</td>\n",
              "      <td>160.8</td>\n",
              "      <td>0</td>\n",
              "    </tr>\n",
              "    <tr>\n",
              "      <th>2</th>\n",
              "      <td>22.839506</td>\n",
              "      <td>280.0</td>\n",
              "      <td>4.0</td>\n",
              "      <td>1996.0</td>\n",
              "      <td>1.750081</td>\n",
              "      <td>27</td>\n",
              "      <td>1</td>\n",
              "      <td>0.01189</td>\n",
              "      <td>1660</td>\n",
              "      <td>104.5</td>\n",
              "      <td>0</td>\n",
              "    </tr>\n",
              "    <tr>\n",
              "      <th>3</th>\n",
              "      <td>22.839506</td>\n",
              "      <td>280.0</td>\n",
              "      <td>4.0</td>\n",
              "      <td>1996.0</td>\n",
              "      <td>1.412609</td>\n",
              "      <td>27</td>\n",
              "      <td>1</td>\n",
              "      <td>0.01189</td>\n",
              "      <td>1446</td>\n",
              "      <td>144.8</td>\n",
              "      <td>0</td>\n",
              "    </tr>\n",
              "    <tr>\n",
              "      <th>4</th>\n",
              "      <td>22.839506</td>\n",
              "      <td>280.0</td>\n",
              "      <td>4.0</td>\n",
              "      <td>2010.4</td>\n",
              "      <td>2.020431</td>\n",
              "      <td>27</td>\n",
              "      <td>1</td>\n",
              "      <td>0.01189</td>\n",
              "      <td>923</td>\n",
              "      <td>104.5</td>\n",
              "      <td>0</td>\n",
              "    </tr>\n",
              "    <tr>\n",
              "      <th>5</th>\n",
              "      <td>22.839506</td>\n",
              "      <td>280.0</td>\n",
              "      <td>4.0</td>\n",
              "      <td>2015.9</td>\n",
              "      <td>1.412609</td>\n",
              "      <td>27</td>\n",
              "      <td>1</td>\n",
              "      <td>0.01189</td>\n",
              "      <td>1731</td>\n",
              "      <td>104.5</td>\n",
              "      <td>0</td>\n",
              "    </tr>\n",
              "    <tr>\n",
              "      <th>6</th>\n",
              "      <td>22.839506</td>\n",
              "      <td>280.0</td>\n",
              "      <td>4.0</td>\n",
              "      <td>2015.1</td>\n",
              "      <td>1.412609</td>\n",
              "      <td>27</td>\n",
              "      <td>1</td>\n",
              "      <td>0.01189</td>\n",
              "      <td>1121</td>\n",
              "      <td>104.5</td>\n",
              "      <td>0</td>\n",
              "    </tr>\n",
              "    <tr>\n",
              "      <th>7</th>\n",
              "      <td>19.863831</td>\n",
              "      <td>280.0</td>\n",
              "      <td>4.0</td>\n",
              "      <td>1996.0</td>\n",
              "      <td>1.412609</td>\n",
              "      <td>27</td>\n",
              "      <td>1</td>\n",
              "      <td>0.01189</td>\n",
              "      <td>1971</td>\n",
              "      <td>104.5</td>\n",
              "      <td>0</td>\n",
              "    </tr>\n",
              "    <tr>\n",
              "      <th>8</th>\n",
              "      <td>20.839259</td>\n",
              "      <td>280.0</td>\n",
              "      <td>4.0</td>\n",
              "      <td>1997.3</td>\n",
              "      <td>1.412609</td>\n",
              "      <td>27</td>\n",
              "      <td>1</td>\n",
              "      <td>0.01189</td>\n",
              "      <td>923</td>\n",
              "      <td>104.5</td>\n",
              "      <td>0</td>\n",
              "    </tr>\n",
              "    <tr>\n",
              "      <th>9</th>\n",
              "      <td>22.839506</td>\n",
              "      <td>280.0</td>\n",
              "      <td>4.0</td>\n",
              "      <td>1996.0</td>\n",
              "      <td>2.143566</td>\n",
              "      <td>27</td>\n",
              "      <td>1</td>\n",
              "      <td>0.01189</td>\n",
              "      <td>923</td>\n",
              "      <td>160.0</td>\n",
              "      <td>0</td>\n",
              "    </tr>\n",
              "  </tbody>\n",
              "</table>\n",
              "</div>"
            ],
            "text/plain": [
              "         bmi  career_points  career_duration(days)  debut_year  \\\n",
              "0  19.252757          280.0                    4.0      1996.0   \n",
              "1  22.839506          280.0                    4.0      1996.0   \n",
              "2  22.839506          280.0                    4.0      1996.0   \n",
              "3  22.839506          280.0                    4.0      1996.0   \n",
              "4  22.839506          280.0                    4.0      2010.4   \n",
              "5  22.839506          280.0                    4.0      2015.9   \n",
              "6  22.839506          280.0                    4.0      2015.1   \n",
              "7  19.863831          280.0                    4.0      1996.0   \n",
              "8  20.839259          280.0                    4.0      1997.3   \n",
              "9  22.839506          280.0                    4.0      1996.0   \n",
              "\n",
              "   difficulty_score  competitive_age  is_tarmac  climbing_efficiency  \\\n",
              "0          0.152579               27          1              0.01189   \n",
              "1          0.145415               27          1              0.01189   \n",
              "2          1.750081               27          1              0.01189   \n",
              "3          1.412609               27          1              0.01189   \n",
              "4          2.020431               27          1              0.01189   \n",
              "5          1.412609               27          1              0.01189   \n",
              "6          1.412609               27          1              0.01189   \n",
              "7          1.412609               27          1              0.01189   \n",
              "8          1.412609               27          1              0.01189   \n",
              "9          2.143566               27          1              0.01189   \n",
              "\n",
              "   startlist_quality  avg_pos  top_20  \n",
              "0                923    104.5       0  \n",
              "1                923    160.8       0  \n",
              "2               1660    104.5       0  \n",
              "3               1446    144.8       0  \n",
              "4                923    104.5       0  \n",
              "5               1731    104.5       0  \n",
              "6               1121    104.5       0  \n",
              "7               1971    104.5       0  \n",
              "8                923    104.5       0  \n",
              "9                923    160.0       0  "
            ]
          },
          "execution_count": 22,
          "metadata": {},
          "output_type": "execute_result"
        }
      ],
      "source": [
        "counterfactuals = explanation.cf_examples_list[0].final_cfs_df\n",
        "counterfactuals"
      ]
    }
  ],
  "metadata": {
    "colab": {
      "provenance": []
    },
    "kernelspec": {
      "display_name": "base",
      "language": "python",
      "name": "python3"
    },
    "language_info": {
      "codemirror_mode": {
        "name": "ipython",
        "version": 3
      },
      "file_extension": ".py",
      "mimetype": "text/x-python",
      "name": "python",
      "nbconvert_exporter": "python",
      "pygments_lexer": "ipython3",
      "version": "3.12.2"
    }
  },
  "nbformat": 4,
  "nbformat_minor": 0
}
