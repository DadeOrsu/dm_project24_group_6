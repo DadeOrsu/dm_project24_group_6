{
 "cells": [
  {
   "cell_type": "markdown",
   "metadata": {},
   "source": [
    "## Outlier Detection"
   ]
  },
  {
   "cell_type": "code",
   "execution_count": 40,
   "metadata": {},
   "outputs": [],
   "source": [
    "from os import path\n",
    "import pandas as pd\n",
    "datasetname = path.join('..', 'dataset', 'cyclists_cleaned.csv')\n",
    "cyclists = pd.read_csv(datasetname)"
   ]
  },
  {
   "cell_type": "markdown",
   "metadata": {},
   "source": [
    "### Cyclists' outlier detection\n",
    "For the cyclists we use the following features:\n",
    "- `weight`: the weight of the cyclist\n",
    "- `height`: the height of the cyclist\n",
    "- `birth_year`: the birth year of the cyclist"
   ]
  },
  {
   "cell_type": "markdown",
   "metadata": {},
   "source": [
    "### Isolation Forest Algorithm"
   ]
  },
  {
   "cell_type": "code",
   "execution_count": 41,
   "metadata": {},
   "outputs": [
    {
     "data": {
      "text/html": [
       "<div>\n",
       "<style scoped>\n",
       "    .dataframe tbody tr th:only-of-type {\n",
       "        vertical-align: middle;\n",
       "    }\n",
       "\n",
       "    .dataframe tbody tr th {\n",
       "        vertical-align: top;\n",
       "    }\n",
       "\n",
       "    .dataframe thead th {\n",
       "        text-align: right;\n",
       "    }\n",
       "</style>\n",
       "<table border=\"1\" class=\"dataframe\">\n",
       "  <thead>\n",
       "    <tr style=\"text-align: right;\">\n",
       "      <th></th>\n",
       "      <th>_url</th>\n",
       "      <th>name</th>\n",
       "      <th>birth_year</th>\n",
       "      <th>weight</th>\n",
       "      <th>height</th>\n",
       "      <th>nationality</th>\n",
       "      <th>isolation_forest_degree</th>\n",
       "      <th>isolation_forest_scores</th>\n",
       "    </tr>\n",
       "  </thead>\n",
       "  <tbody>\n",
       "    <tr>\n",
       "      <th>0</th>\n",
       "      <td>bruno-surra</td>\n",
       "      <td>Bruno  Surra</td>\n",
       "      <td>1964</td>\n",
       "      <td>61.0</td>\n",
       "      <td>183</td>\n",
       "      <td>Italy</td>\n",
       "      <td>0.526446</td>\n",
       "      <td>0.0</td>\n",
       "    </tr>\n",
       "    <tr>\n",
       "      <th>1</th>\n",
       "      <td>gerard-rue</td>\n",
       "      <td>Gérard  Rué</td>\n",
       "      <td>1965</td>\n",
       "      <td>74.0</td>\n",
       "      <td>182</td>\n",
       "      <td>France</td>\n",
       "      <td>0.565546</td>\n",
       "      <td>0.0</td>\n",
       "    </tr>\n",
       "    <tr>\n",
       "      <th>2</th>\n",
       "      <td>jan-maas</td>\n",
       "      <td>Jan  Maas</td>\n",
       "      <td>1996</td>\n",
       "      <td>69.0</td>\n",
       "      <td>189</td>\n",
       "      <td>Netherlands</td>\n",
       "      <td>0.514757</td>\n",
       "      <td>0.0</td>\n",
       "    </tr>\n",
       "    <tr>\n",
       "      <th>3</th>\n",
       "      <td>nathan-van-hooydonck</td>\n",
       "      <td>Nathan Van Hooydonck</td>\n",
       "      <td>1995</td>\n",
       "      <td>78.0</td>\n",
       "      <td>192</td>\n",
       "      <td>Belgium</td>\n",
       "      <td>0.435551</td>\n",
       "      <td>1.0</td>\n",
       "    </tr>\n",
       "    <tr>\n",
       "      <th>4</th>\n",
       "      <td>jose-felix-parra</td>\n",
       "      <td>José Félix  Parra</td>\n",
       "      <td>1997</td>\n",
       "      <td>55.0</td>\n",
       "      <td>171</td>\n",
       "      <td>Spain</td>\n",
       "      <td>0.417235</td>\n",
       "      <td>1.0</td>\n",
       "    </tr>\n",
       "  </tbody>\n",
       "</table>\n",
       "</div>"
      ],
      "text/plain": [
       "                   _url                  name  birth_year  weight  height  \\\n",
       "0           bruno-surra          Bruno  Surra        1964    61.0     183   \n",
       "1            gerard-rue           Gérard  Rué        1965    74.0     182   \n",
       "2              jan-maas             Jan  Maas        1996    69.0     189   \n",
       "3  nathan-van-hooydonck  Nathan Van Hooydonck        1995    78.0     192   \n",
       "4      jose-felix-parra     José Félix  Parra        1997    55.0     171   \n",
       "\n",
       "   nationality  isolation_forest_degree  isolation_forest_scores  \n",
       "0        Italy                 0.526446                      0.0  \n",
       "1       France                 0.565546                      0.0  \n",
       "2  Netherlands                 0.514757                      0.0  \n",
       "3      Belgium                 0.435551                      1.0  \n",
       "4        Spain                 0.417235                      1.0  "
      ]
     },
     "execution_count": 41,
     "metadata": {},
     "output_type": "execute_result"
    }
   ],
   "source": [
    "from sklearn.ensemble import IsolationForest\n",
    "\n",
    "data_only_dataset = cyclists.select_dtypes(include=\"number\")\n",
    "\n",
    "max_features = data_only_dataset.shape[1]\n",
    "algorithm = IsolationForest(max_features=max_features)\n",
    "algorithm.fit(data_only_dataset)\n",
    "# the lower, more outliers\n",
    "outlier_degrees = algorithm.decision_function(data_only_dataset) + 0.5\n",
    "outlier_scores = 1 - (algorithm.predict(data_only_dataset) + 1) / 2 # outlier become +1, inliers become 0. (i map -1, 1)\n",
    "\n",
    "cyclists.loc[:, \"isolation_forest_degree\"] = outlier_degrees\n",
    "cyclists.loc[:, \"isolation_forest_scores\"] = outlier_scores\n",
    "cyclists.head()"
   ]
  },
  {
   "cell_type": "markdown",
   "metadata": {},
   "source": [
    "Now we plot the data according to the outlier degrees of the cyclists."
   ]
  },
  {
   "cell_type": "code",
   "execution_count": 42,
   "metadata": {},
   "outputs": [
    {
     "data": {
      "text/plain": [
       "<Axes: >"
      ]
     },
     "execution_count": 42,
     "metadata": {},
     "output_type": "execute_result"
    },
    {
     "data": {
      "image/png": "[encoded data removed]",
      "text/plain": [
       "<Figure size 640x480 with 1 Axes>"
      ]
     },
     "metadata": {},
     "output_type": "display_data"
    }
   ],
   "source": [
    "import seaborn\n",
    "from scipy.spatial.distance import pdist, squareform\n",
    "\n",
    "\n",
    "sorted_outlier_degrees = sorted(outlier_degrees)\n",
    "\n",
    "\n",
    "seaborn.lineplot(\n",
    "    x=range(cyclists.shape[0]),\n",
    "    y=sorted_outlier_degrees\n",
    ")"
   ]
  },
  {
   "cell_type": "markdown",
   "metadata": {},
   "source": [
    "### LOF Algorithm\n",
    "TBD: choose if we want to use LOF or Isolation Forest"
   ]
  },
  {
   "cell_type": "code",
   "execution_count": 43,
   "metadata": {},
   "outputs": [],
   "source": [
    "from sklearn.neighbors import LocalOutlierFactor\n",
    "\n",
    "k = 25\n",
    "\n",
    "algorithm = LocalOutlierFactor(n_neighbors=k)\n",
    "algorithm.fit(data_only_dataset)\n",
    "\n",
    "# negated outlier scores: the higher, the more of an outlier\n",
    "outlier_degrees = - algorithm.negative_outlier_factor_\n",
    "cyclists.loc[:, \"lof_degree\"] = outlier_degrees"
   ]
  },
  {
   "cell_type": "code",
   "execution_count": 44,
   "metadata": {},
   "outputs": [
    {
     "data": {
      "text/plain": [
       "<Axes: >"
      ]
     },
     "execution_count": 44,
     "metadata": {},
     "output_type": "execute_result"
    },
    {
     "data": {
      "image/png": "[encoded data removed]",
      "text/plain": [
       "<Figure size 640x480 with 1 Axes>"
      ]
     },
     "metadata": {},
     "output_type": "display_data"
    }
   ],
   "source": [
    "import seaborn\n",
    "from scipy.spatial.distance import pdist, squareform\n",
    "\n",
    "sorted_outlier_degrees = sorted(outlier_degrees)\n",
    "\n",
    "# to achieve comparable degrees among different algorithms,\n",
    "# we normalize distance-based scores by the maximum possible distance\n",
    "# distances = squareform(pdist(data_only_dataset.values))\n",
    "# maximum_possible_radius = distances.max()\n",
    "# normalization_factor = maximum_possible_radius / k\n",
    "# normalized_sorted_outlier_degrees = sorted_outlier_degrees / normalization_factor\n",
    "# dataset_with_outlier_scores.loc[:, \"lof_degree_normalized\"] = outlier_degrees / normalization_factor\n",
    "\n",
    "seaborn.lineplot(\n",
    "    x=range(cyclists.shape[0]),\n",
    "    y=sorted_outlier_degrees\n",
    ")"
   ]
  }
 ],
 "metadata": {
  "kernelspec": {
   "display_name": "base",
   "language": "python",
   "name": "python3"
  },
  "language_info": {
   "codemirror_mode": {
    "name": "ipython",
    "version": 3
   },
   "file_extension": ".py",
   "mimetype": "text/x-python",
   "name": "python",
   "nbconvert_exporter": "python",
   "pygments_lexer": "ipython3",
   "version": "3.12.2"
  }
 },
 "nbformat": 4,
 "nbformat_minor": 2
}
