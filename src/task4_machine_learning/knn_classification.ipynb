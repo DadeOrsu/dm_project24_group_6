{
 "cells": [
  {
   "cell_type": "markdown",
   "metadata": {},
   "source": [
    "# KNN classification"
   ]
  },
  {
   "cell_type": "markdown",
   "metadata": {},
   "source": [
    "This notebook aims to solve task 4 by using a KNN classifier. "
   ]
  },
  {
   "cell_type": "code",
   "execution_count": 1,
   "metadata": {},
   "outputs": [],
   "source": [
    "import pandas as pd\n",
    "from os import path\n",
    "import numpy as np\n",
    "from preprocessing import get_train_test_data\n",
    "\n",
    "X_train, y_train, X_test, y_test, columns_to_keep = get_train_test_data()"
   ]
  },
  {
   "cell_type": "code",
   "execution_count": null,
   "metadata": {},
   "outputs": [
    {
     "name": "stdout",
     "output_type": "stream",
     "text": [
      "Fitting 4 folds for each of 48 candidates, totalling 192 fits\n"
     ]
    }
   ],
   "source": [
    "from sklearn.model_selection import GridSearchCV\n",
    "from sklearn.neighbors import KNeighborsClassifier\n",
    "\n",
    "# Definizione della griglia degli iperparametri\n",
    "param_grid = {\n",
    "    'n_neighbors': [3, 5, 7, 9],       # Numero di vicini da considerare\n",
    "    'weights': ['uniform', 'distance'],  # Pesi uniformi o basati sulla distanza\n",
    "    'algorithm': ['auto', 'ball_tree', 'kd_tree', 'brute'],  # Algoritmo per il calcolo dei vicini\n",
    "    'metric': ['euclidean', 'manhattan', 'minkowski'],  # Metriche di distanza\n",
    "    'p': [1, 2]                          # Parametro \"p\" per la distanza di Minkowski\n",
    "}\n",
    "\n",
    "# Modello KNN\n",
    "knn = KNeighborsClassifier()\n",
    "\n",
    "# Grid search\n",
    "grid_search = GridSearchCV(\n",
    "    estimator=knn,\n",
    "    param_grid=param_grid,\n",
    "    scoring='f1',  # Usa il punteggio F1\n",
    "    cv=4,          # 4-fold cross-validation\n",
    "    verbose=1,     # Stampa le informazioni\n",
    "    n_jobs=-1      # Usa tutti i core disponibili\n",
    ")\n",
    "\n",
    "# Esegui la grid search\n",
    "grid_search.fit(X_train, y_train)\n",
    "\n",
    "# Miglior modello\n",
    "best_model = grid_search.best_estimator_\n",
    "\n",
    "# Stampa i migliori iperparametri\n",
    "print(\"Best parameters:\", grid_search.best_params_)\n",
    "\n",
    "# Stampa il miglior punteggio F1\n",
    "print(\"Best f1 score:\", grid_search.best_score_)\n"
   ]
  },
  {
   "cell_type": "code",
   "execution_count": null,
   "metadata": {},
   "outputs": [],
   "source": [
    "test_pred_knn = best_model.predict(X_test)"
   ]
  },
  {
   "cell_type": "code",
   "execution_count": 5,
   "metadata": {},
   "outputs": [],
   "source": [
    "test_pred_knn = knn.predict(X_test)"
   ]
  },
  {
   "cell_type": "code",
   "execution_count": 9,
   "metadata": {},
   "outputs": [
    {
     "name": "stdout",
     "output_type": "stream",
     "text": [
      "              precision    recall  f1-score   support\n",
      "\n",
      "           0       0.87      0.93      0.90     30219\n",
      "           1       0.31      0.17      0.22      5187\n",
      "\n",
      "    accuracy                           0.82     35406\n",
      "   macro avg       0.59      0.55      0.56     35406\n",
      "weighted avg       0.79      0.82      0.80     35406\n",
      "\n"
     ]
    }
   ],
   "source": [
    "from sklearn.metrics import classification_report\n",
    "print(classification_report(y_test, \n",
    "                            test_pred_knn, \n",
    "                            target_names=['0', '1']))"
   ]
  }
 ],
 "metadata": {
  "kernelspec": {
   "display_name": "base",
   "language": "python",
   "name": "python3"
  },
  "language_info": {
   "codemirror_mode": {
    "name": "ipython",
    "version": 3
   },
   "file_extension": ".py",
   "mimetype": "text/x-python",
   "name": "python",
   "nbconvert_exporter": "python",
   "pygments_lexer": "ipython3",
   "version": "3.12.2"
  }
 },
 "nbformat": 4,
 "nbformat_minor": 2
}
