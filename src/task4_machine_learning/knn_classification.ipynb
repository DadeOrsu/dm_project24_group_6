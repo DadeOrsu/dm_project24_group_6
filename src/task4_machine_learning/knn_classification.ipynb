{
  "cells": [
    {
      "cell_type": "markdown",
      "metadata": {
        "id": "MLts-dmLBsXA"
      },
      "source": [
        "# KNN classification"
      ]
    },
    {
      "cell_type": "markdown",
      "metadata": {
        "id": "ndzst2jVBsXE"
      },
      "source": [
        "This notebook aims to solve task 4 by using a KNN classifier."
      ]
    },
    {
      "cell_type": "code",
      "execution_count": 16,
      "metadata": {
        "id": "hKTxd7L_BsXF"
      },
      "outputs": [],
      "source": [
        "import pandas as pd\n",
        "from os import path\n",
        "import numpy as np\n",
        "from preprocessing import get_train_test_data\n",
        "\n",
        "X_train, y_train, X_test, y_test, columns_to_keep = get_train_test_data()"
      ]
    },
    {
      "cell_type": "code",
      "source": [
        "X_train = X_train.dropna()\n",
        "X_test = X_test.dropna()\n",
        "y_train = y_train[X_train.index]\n",
        "y_test = y_test[X_test.index]"
      ],
      "metadata": {
        "id": "MVnx8yVzE-wf"
      },
      "execution_count": 9,
      "outputs": []
    },
    {
      "cell_type": "code",
      "execution_count": 12,
      "metadata": {
        "id": "c9Okm-oSBsXH",
        "outputId": "3327054a-cebd-4c53-d71b-1923c6155ee6",
        "colab": {
          "base_uri": "https://localhost:8080/"
        }
      },
      "outputs": [
        {
          "output_type": "stream",
          "name": "stdout",
          "text": [
            "Fitting 4 folds for each of 8 candidates, totalling 32 fits\n"
          ]
        },
        {
          "output_type": "stream",
          "name": "stderr",
          "text": [
            "/usr/local/lib/python3.10/dist-packages/numpy/ma/core.py:2820: RuntimeWarning: invalid value encountered in cast\n",
            "  _data = np.array(data, dtype=dtype, copy=copy,\n"
          ]
        },
        {
          "output_type": "stream",
          "name": "stdout",
          "text": [
            "Best parameters: {'algorithm': 'auto', 'metric': 'euclidean', 'n_neighbors': 5, 'weights': 'distance'}\n",
            "Best f1 score: 0.48291895475759183\n"
          ]
        }
      ],
      "source": [
        "from sklearn.model_selection import GridSearchCV\n",
        "from sklearn.neighbors import KNeighborsClassifier\n",
        "\n",
        "Grid of hyperparameters\n",
        "param_grid = {\n",
        "    'n_neighbors': [3, 5, 7, 9],        # number of neighbors\n",
        "    'weights': ['uniform', 'distance'],  # uniformal weights or based on the distance\n",
        "    'algorithm': ['auto'],  # algorithm chosen by the model\n",
        "    'metric': ['euclidean'],  # metrics\n",
        "}\n",
        "\n",
        "# knn model\n",
        "knn = KNeighborsClassifier()\n",
        "\n",
        "# Grid search\n",
        "grid_search = GridSearchCV(\n",
        "    estimator=knn,\n",
        "    param_grid=param_grid,\n",
        "    scoring='f1',  # Use f1-score\n",
        "    cv=4,          # 4-fold cross-validation\n",
        "    verbose=1,     # Print the informations\n",
        "    n_jobs=-1      # Use all the cores\n",
        ")\n",
        "\n",
        "# Execute the grid search\n",
        "grid_search.fit(X_train, y_train)\n",
        "\n",
        "# Best Model\n",
        "best_model = grid_search.best_estimator_\n",
        "\n",
        "# Print the best parameters\n",
        "print(\"Best parameters:\", grid_search.best_params_)\n",
        "\n",
        "# Print the best f1-score\n",
        "print(\"Best f1 score:\", grid_search.best_score_)\n"
      ]
    },
    {
      "cell_type": "code",
      "execution_count": 13,
      "metadata": {
        "id": "d8v11HySBsXJ"
      },
      "outputs": [],
      "source": [
        "test_pred_knn = best_model.predict(X_test)"
      ]
    },
    {
      "cell_type": "code",
      "execution_count": 15,
      "metadata": {
        "id": "hHUIyMinBsXM",
        "outputId": "eca36bd5-2fea-4ffb-a2a9-5cb12141a8ed",
        "colab": {
          "base_uri": "https://localhost:8080/"
        }
      },
      "outputs": [
        {
          "output_type": "stream",
          "name": "stdout",
          "text": [
            "              precision    recall  f1-score   support\n",
            "\n",
            "           0       0.87      0.90      0.89     30219\n",
            "           1       0.29      0.24      0.26      5187\n",
            "\n",
            "    accuracy                           0.80     35406\n",
            "   macro avg       0.58      0.57      0.57     35406\n",
            "weighted avg       0.79      0.80      0.79     35406\n",
            "\n"
          ]
        }
      ],
      "source": [
        "from sklearn.metrics import classification_report\n",
        "print(classification_report(y_test,\n",
        "                            test_pred_knn,\n",
        "                            target_names=['0', '1']))"
      ]
    }
  ],
  "metadata": {
    "kernelspec": {
      "display_name": "base",
      "language": "python",
      "name": "python3"
    },
    "language_info": {
      "codemirror_mode": {
        "name": "ipython",
        "version": 3
      },
      "file_extension": ".py",
      "mimetype": "text/x-python",
      "name": "python",
      "nbconvert_exporter": "python",
      "pygments_lexer": "ipython3",
      "version": "3.12.2"
    },
    "colab": {
      "provenance": []
    }
  },
  "nbformat": 4,
  "nbformat_minor": 0
}