{
 "cells": [
  {
   "cell_type": "markdown",
   "metadata": {},
   "source": [
    "# Classification with RIPPER\n",
    "In this notebook we aim to build a classifier using RIPPER. RIPPER is one of the most popular rule based classifier. "
   ]
  },
  {
   "cell_type": "code",
   "execution_count": 1,
   "metadata": {},
   "outputs": [],
   "source": [
    "import pandas as pd\n",
    "from os import path\n",
    "import numpy as np\n",
    "from preprocessing import get_train_test_data\n",
    "\n",
    "X_train, y_train, X_test, y_test, columns_to_keep = get_train_test_data()"
   ]
  },
  {
   "cell_type": "markdown",
   "metadata": {},
   "source": [
    "To begin, we create a target variable named `top_20` based on the column `position`."
   ]
  },
  {
   "cell_type": "markdown",
   "metadata": {},
   "source": [
    "Now we need to discretize the data to make it suitable for RIPPER. We will use the `discretize_data` function to discretize the data. \n",
    "\n",
    "Finally, we will train the RIPPER classifier using the discretized data."
   ]
  },
  {
   "cell_type": "code",
   "execution_count": 2,
   "metadata": {},
   "outputs": [],
   "source": [
    "#function to discretize the variables\n",
    "#input: the dataset and the list of variables' names to discretize\n",
    "def discretize_data(dataset, variables):\n",
    "    for variable in variables:\n",
    "        #get the unique variable's values\n",
    "        var = sorted(dataset[variable].unique())\n",
    "        \n",
    "        #generate a mapping from the variable's values to the number representation  \n",
    "        mapping = dict(zip(var, range(0, len(var) + 1)))\n",
    "\n",
    "        #add a new colum with the number representation of the variable\n",
    "        dataset[variable+'_num'] = dataset[variable].map(mapping).astype(int)\n",
    "    return dataset"
   ]
  },
  {
   "cell_type": "code",
   "execution_count": 3,
   "metadata": {},
   "outputs": [
    {
     "data": {
      "text/html": [
       "<div>\n",
       "<style scoped>\n",
       "    .dataframe tbody tr th:only-of-type {\n",
       "        vertical-align: middle;\n",
       "    }\n",
       "\n",
       "    .dataframe tbody tr th {\n",
       "        vertical-align: top;\n",
       "    }\n",
       "\n",
       "    .dataframe thead th {\n",
       "        text-align: right;\n",
       "    }\n",
       "</style>\n",
       "<table border=\"1\" class=\"dataframe\">\n",
       "  <thead>\n",
       "    <tr style=\"text-align: right;\">\n",
       "      <th></th>\n",
       "      <th>bmi</th>\n",
       "      <th>career_points</th>\n",
       "      <th>career_duration(days)</th>\n",
       "      <th>debut_year</th>\n",
       "      <th>difficulty_score</th>\n",
       "      <th>competitive_age</th>\n",
       "      <th>is_tarmac</th>\n",
       "      <th>points</th>\n",
       "      <th>climbing_efficiency</th>\n",
       "      <th>startlist_quality</th>\n",
       "      <th>bmi_num</th>\n",
       "      <th>career_points_num</th>\n",
       "      <th>career_duration(days)_num</th>\n",
       "      <th>debut_year_num</th>\n",
       "      <th>difficulty_score_num</th>\n",
       "      <th>competitive_age_num</th>\n",
       "      <th>is_tarmac_num</th>\n",
       "      <th>points_num</th>\n",
       "      <th>climbing_efficiency_num</th>\n",
       "      <th>startlist_quality_num</th>\n",
       "    </tr>\n",
       "  </thead>\n",
       "  <tbody>\n",
       "    <tr>\n",
       "      <th>0</th>\n",
       "      <td>23.765432</td>\n",
       "      <td>68034.221635</td>\n",
       "      <td>6233.0</td>\n",
       "      <td>1977.0</td>\n",
       "      <td>0.635375</td>\n",
       "      <td>22</td>\n",
       "      <td>True</td>\n",
       "      <td>100.0</td>\n",
       "      <td>0.006796</td>\n",
       "      <td>1241</td>\n",
       "      <td>510</td>\n",
       "      <td>2827</td>\n",
       "      <td>2580</td>\n",
       "      <td>7</td>\n",
       "      <td>483</td>\n",
       "      <td>4</td>\n",
       "      <td>1</td>\n",
       "      <td>8</td>\n",
       "      <td>394</td>\n",
       "      <td>563</td>\n",
       "    </tr>\n",
       "    <tr>\n",
       "      <th>1</th>\n",
       "      <td>20.897959</td>\n",
       "      <td>29429.221635</td>\n",
       "      <td>5212.0</td>\n",
       "      <td>1974.0</td>\n",
       "      <td>0.635375</td>\n",
       "      <td>27</td>\n",
       "      <td>True</td>\n",
       "      <td>100.0</td>\n",
       "      <td>0.006796</td>\n",
       "      <td>1241</td>\n",
       "      <td>254</td>\n",
       "      <td>2348</td>\n",
       "      <td>2433</td>\n",
       "      <td>4</td>\n",
       "      <td>483</td>\n",
       "      <td>9</td>\n",
       "      <td>1</td>\n",
       "      <td>8</td>\n",
       "      <td>394</td>\n",
       "      <td>563</td>\n",
       "    </tr>\n",
       "    <tr>\n",
       "      <th>2</th>\n",
       "      <td>22.790329</td>\n",
       "      <td>15880.000000</td>\n",
       "      <td>2972.0</td>\n",
       "      <td>1977.0</td>\n",
       "      <td>0.635375</td>\n",
       "      <td>24</td>\n",
       "      <td>True</td>\n",
       "      <td>100.0</td>\n",
       "      <td>0.006796</td>\n",
       "      <td>1241</td>\n",
       "      <td>437</td>\n",
       "      <td>1720</td>\n",
       "      <td>1674</td>\n",
       "      <td>7</td>\n",
       "      <td>483</td>\n",
       "      <td>6</td>\n",
       "      <td>1</td>\n",
       "      <td>8</td>\n",
       "      <td>394</td>\n",
       "      <td>563</td>\n",
       "    </tr>\n",
       "    <tr>\n",
       "      <th>3</th>\n",
       "      <td>21.469150</td>\n",
       "      <td>6600.000000</td>\n",
       "      <td>3606.0</td>\n",
       "      <td>1970.0</td>\n",
       "      <td>0.635375</td>\n",
       "      <td>30</td>\n",
       "      <td>True</td>\n",
       "      <td>100.0</td>\n",
       "      <td>0.006796</td>\n",
       "      <td>1241</td>\n",
       "      <td>309</td>\n",
       "      <td>924</td>\n",
       "      <td>1929</td>\n",
       "      <td>0</td>\n",
       "      <td>483</td>\n",
       "      <td>12</td>\n",
       "      <td>1</td>\n",
       "      <td>8</td>\n",
       "      <td>394</td>\n",
       "      <td>563</td>\n",
       "    </tr>\n",
       "    <tr>\n",
       "      <th>4</th>\n",
       "      <td>21.295295</td>\n",
       "      <td>17245.000000</td>\n",
       "      <td>2192.0</td>\n",
       "      <td>1977.0</td>\n",
       "      <td>0.635375</td>\n",
       "      <td>27</td>\n",
       "      <td>True</td>\n",
       "      <td>100.0</td>\n",
       "      <td>0.006796</td>\n",
       "      <td>1241</td>\n",
       "      <td>293</td>\n",
       "      <td>1796</td>\n",
       "      <td>1268</td>\n",
       "      <td>7</td>\n",
       "      <td>483</td>\n",
       "      <td>9</td>\n",
       "      <td>1</td>\n",
       "      <td>8</td>\n",
       "      <td>394</td>\n",
       "      <td>563</td>\n",
       "    </tr>\n",
       "  </tbody>\n",
       "</table>\n",
       "</div>"
      ],
      "text/plain": [
       "         bmi  career_points  career_duration(days)  debut_year  \\\n",
       "0  23.765432   68034.221635                 6233.0      1977.0   \n",
       "1  20.897959   29429.221635                 5212.0      1974.0   \n",
       "2  22.790329   15880.000000                 2972.0      1977.0   \n",
       "3  21.469150    6600.000000                 3606.0      1970.0   \n",
       "4  21.295295   17245.000000                 2192.0      1977.0   \n",
       "\n",
       "   difficulty_score  competitive_age  is_tarmac  points  climbing_efficiency  \\\n",
       "0          0.635375               22       True   100.0             0.006796   \n",
       "1          0.635375               27       True   100.0             0.006796   \n",
       "2          0.635375               24       True   100.0             0.006796   \n",
       "3          0.635375               30       True   100.0             0.006796   \n",
       "4          0.635375               27       True   100.0             0.006796   \n",
       "\n",
       "   startlist_quality  bmi_num  career_points_num  career_duration(days)_num  \\\n",
       "0               1241      510               2827                       2580   \n",
       "1               1241      254               2348                       2433   \n",
       "2               1241      437               1720                       1674   \n",
       "3               1241      309                924                       1929   \n",
       "4               1241      293               1796                       1268   \n",
       "\n",
       "   debut_year_num  difficulty_score_num  competitive_age_num  is_tarmac_num  \\\n",
       "0               7                   483                    4              1   \n",
       "1               4                   483                    9              1   \n",
       "2               7                   483                    6              1   \n",
       "3               0                   483                   12              1   \n",
       "4               7                   483                    9              1   \n",
       "\n",
       "   points_num  climbing_efficiency_num  startlist_quality_num  \n",
       "0           8                      394                    563  \n",
       "1           8                      394                    563  \n",
       "2           8                      394                    563  \n",
       "3           8                      394                    563  \n",
       "4           8                      394                    563  "
      ]
     },
     "execution_count": 3,
     "metadata": {},
     "output_type": "execute_result"
    }
   ],
   "source": [
    "X_train = discretize_data(X_train, [col for col in columns_to_keep if col != \"top_20\"])\n",
    "\n",
    "X_test = discretize_data(X_test, [col for col in columns_to_keep if col != \"top_20\"])\n",
    "\n",
    "X_train.head()"
   ]
  },
  {
   "cell_type": "markdown",
   "metadata": {},
   "source": [
    "Now we search for the best hyperparemeters for the RIPPER classifier using the `GridSearchCV` function. \n",
    "\n",
    "Finally, we evaluate the model using the `classification_report` function."
   ]
  },
  {
   "cell_type": "markdown",
   "metadata": {},
   "source": [
    "As we can see from the classification report, the RIPPER classifier has an accuracy of 0.85. Unfortunately, while the precision and recall are high for the negative class, they are low for the positive class. This is likely due to the class imbalance in the dataset. We try to address this issue by using the `class_weight` parameter in the RIPPER classifier."
   ]
  },
  {
   "cell_type": "code",
   "execution_count": 4,
   "metadata": {},
   "outputs": [
    {
     "name": "stdout",
     "output_type": "stream",
     "text": [
      "Fitting 3 folds for each of 4 candidates, totalling 12 fits\n"
     ]
    },
    {
     "ename": "KeyboardInterrupt",
     "evalue": "",
     "output_type": "error",
     "traceback": [
      "\u001b[0;31m---------------------------------------------------------------------------\u001b[0m",
      "\u001b[0;31mKeyboardInterrupt\u001b[0m                         Traceback (most recent call last)",
      "Cell \u001b[0;32mIn[4], line 24\u001b[0m\n\u001b[1;32m      9\u001b[0m param_grid \u001b[38;5;241m=\u001b[39m {\n\u001b[1;32m     10\u001b[0m     \u001b[38;5;124m'\u001b[39m\u001b[38;5;124mk\u001b[39m\u001b[38;5;124m'\u001b[39m: [\u001b[38;5;241m1\u001b[39m, \u001b[38;5;241m2\u001b[39m],  \n\u001b[1;32m     11\u001b[0m     \u001b[38;5;124m'\u001b[39m\u001b[38;5;124mmax_rules\u001b[39m\u001b[38;5;124m'\u001b[39m: [\u001b[38;5;241m10\u001b[39m, \u001b[38;5;241m20\u001b[39m], \n\u001b[1;32m     12\u001b[0m     \u001b[38;5;124m'\u001b[39m\u001b[38;5;124mprune_size\u001b[39m\u001b[38;5;124m'\u001b[39m: [\u001b[38;5;241m0.33\u001b[39m],\n\u001b[1;32m     13\u001b[0m     \u001b[38;5;124m'\u001b[39m\u001b[38;5;124mclass_weights\u001b[39m\u001b[38;5;124m'\u001b[39m: [{\u001b[38;5;241m0\u001b[39m: \u001b[38;5;241m1\u001b[39m, \u001b[38;5;241m1\u001b[39m: \u001b[38;5;241m25\u001b[39m}]  \n\u001b[1;32m     14\u001b[0m }\n\u001b[1;32m     16\u001b[0m grid_search \u001b[38;5;241m=\u001b[39m GridSearchCV(\n\u001b[1;32m     17\u001b[0m     estimator\u001b[38;5;241m=\u001b[39mmodel,\n\u001b[1;32m     18\u001b[0m     param_grid\u001b[38;5;241m=\u001b[39mparam_grid,\n\u001b[0;32m   (...)\u001b[0m\n\u001b[1;32m     21\u001b[0m     verbose\u001b[38;5;241m=\u001b[39m\u001b[38;5;241m1\u001b[39m\n\u001b[1;32m     22\u001b[0m )\n\u001b[0;32m---> 24\u001b[0m grid_search\u001b[38;5;241m.\u001b[39mfit(X_train, y_train)\n\u001b[1;32m     25\u001b[0m best_model \u001b[38;5;241m=\u001b[39m grid_search\u001b[38;5;241m.\u001b[39mbest_estimator_\n\u001b[1;32m     27\u001b[0m y_pred \u001b[38;5;241m=\u001b[39m best_model\u001b[38;5;241m.\u001b[39mpredict(X_test)\n",
      "File \u001b[0;32m~/anaconda3/lib/python3.12/site-packages/sklearn/base.py:1473\u001b[0m, in \u001b[0;36m_fit_context.<locals>.decorator.<locals>.wrapper\u001b[0;34m(estimator, *args, **kwargs)\u001b[0m\n\u001b[1;32m   1466\u001b[0m     estimator\u001b[38;5;241m.\u001b[39m_validate_params()\n\u001b[1;32m   1468\u001b[0m \u001b[38;5;28;01mwith\u001b[39;00m config_context(\n\u001b[1;32m   1469\u001b[0m     skip_parameter_validation\u001b[38;5;241m=\u001b[39m(\n\u001b[1;32m   1470\u001b[0m         prefer_skip_nested_validation \u001b[38;5;129;01mor\u001b[39;00m global_skip_validation\n\u001b[1;32m   1471\u001b[0m     )\n\u001b[1;32m   1472\u001b[0m ):\n\u001b[0;32m-> 1473\u001b[0m     \u001b[38;5;28;01mreturn\u001b[39;00m fit_method(estimator, \u001b[38;5;241m*\u001b[39margs, \u001b[38;5;241m*\u001b[39m\u001b[38;5;241m*\u001b[39mkwargs)\n",
      "File \u001b[0;32m~/anaconda3/lib/python3.12/site-packages/sklearn/model_selection/_search.py:1056\u001b[0m, in \u001b[0;36mBaseSearchCV.fit\u001b[0;34m(self, X, y, **params)\u001b[0m\n\u001b[1;32m   1054\u001b[0m refit_start_time \u001b[38;5;241m=\u001b[39m time\u001b[38;5;241m.\u001b[39mtime()\n\u001b[1;32m   1055\u001b[0m \u001b[38;5;28;01mif\u001b[39;00m y \u001b[38;5;129;01mis\u001b[39;00m \u001b[38;5;129;01mnot\u001b[39;00m \u001b[38;5;28;01mNone\u001b[39;00m:\n\u001b[0;32m-> 1056\u001b[0m     \u001b[38;5;28mself\u001b[39m\u001b[38;5;241m.\u001b[39mbest_estimator_\u001b[38;5;241m.\u001b[39mfit(X, y, \u001b[38;5;241m*\u001b[39m\u001b[38;5;241m*\u001b[39mrouted_params\u001b[38;5;241m.\u001b[39mestimator\u001b[38;5;241m.\u001b[39mfit)\n\u001b[1;32m   1057\u001b[0m \u001b[38;5;28;01melse\u001b[39;00m:\n\u001b[1;32m   1058\u001b[0m     \u001b[38;5;28mself\u001b[39m\u001b[38;5;241m.\u001b[39mbest_estimator_\u001b[38;5;241m.\u001b[39mfit(X, \u001b[38;5;241m*\u001b[39m\u001b[38;5;241m*\u001b[39mrouted_params\u001b[38;5;241m.\u001b[39mestimator\u001b[38;5;241m.\u001b[39mfit)\n",
      "File \u001b[0;32m~/anaconda3/lib/python3.12/site-packages/wittgenstein/ripper.py:266\u001b[0m, in \u001b[0;36mRIPPER.fit\u001b[0;34m(self, trainset, y, class_feat, pos_class, feature_names, initial_model, cn_optimize, **kwargs)\u001b[0m\n\u001b[1;32m    264\u001b[0m     \u001b[38;5;28mprint\u001b[39m(\u001b[38;5;124mf\u001b[39m\u001b[38;5;124m\"\u001b[39m\u001b[38;5;124moptimization run \u001b[39m\u001b[38;5;132;01m{\u001b[39;00m\u001b[38;5;28miter\u001b[39m\u001b[38;5;132;01m}\u001b[39;00m\u001b[38;5;124m of \u001b[39m\u001b[38;5;132;01m{\u001b[39;00m\u001b[38;5;28mself\u001b[39m\u001b[38;5;241m.\u001b[39mk\u001b[38;5;132;01m}\u001b[39;00m\u001b[38;5;124m\"\u001b[39m)\n\u001b[1;32m    265\u001b[0m \u001b[38;5;28;01mif\u001b[39;00m cn_optimize:\n\u001b[0;32m--> 266\u001b[0m     newset \u001b[38;5;241m=\u001b[39m \u001b[38;5;28mself\u001b[39m\u001b[38;5;241m.\u001b[39m_optimize_ruleset_cn(\n\u001b[1;32m    267\u001b[0m         \u001b[38;5;28mself\u001b[39m\u001b[38;5;241m.\u001b[39mruleset_,\n\u001b[1;32m    268\u001b[0m         pos_idx,\n\u001b[1;32m    269\u001b[0m         neg_idx,\n\u001b[1;32m    270\u001b[0m         prune_size\u001b[38;5;241m=\u001b[39m\u001b[38;5;28mself\u001b[39m\u001b[38;5;241m.\u001b[39mprune_size,\n\u001b[1;32m    271\u001b[0m         random_state\u001b[38;5;241m=\u001b[39miter_random_state,\n\u001b[1;32m    272\u001b[0m     )\n\u001b[1;32m    273\u001b[0m \u001b[38;5;28;01melse\u001b[39;00m:\n\u001b[1;32m    274\u001b[0m     newset \u001b[38;5;241m=\u001b[39m \u001b[38;5;28mself\u001b[39m\u001b[38;5;241m.\u001b[39m_optimize_ruleset(\n\u001b[1;32m    275\u001b[0m         \u001b[38;5;28mself\u001b[39m\u001b[38;5;241m.\u001b[39mruleset_,\n\u001b[1;32m    276\u001b[0m         pos_df,\n\u001b[0;32m   (...)\u001b[0m\n\u001b[1;32m    279\u001b[0m         random_state\u001b[38;5;241m=\u001b[39miter_random_state,\n\u001b[1;32m    280\u001b[0m     )\n",
      "File \u001b[0;32m~/anaconda3/lib/python3.12/site-packages/wittgenstein/ripper.py:998\u001b[0m, in \u001b[0;36mRIPPER._optimize_ruleset_cn\u001b[0;34m(self, ruleset, pos_idx, neg_idx, prune_size, max_rule_conds, random_state)\u001b[0m\n\u001b[1;32m    995\u001b[0m \u001b[38;5;28;01mif\u001b[39;00m \u001b[38;5;28mself\u001b[39m\u001b[38;5;241m.\u001b[39mverbosity \u001b[38;5;241m>\u001b[39m\u001b[38;5;241m=\u001b[39m \u001b[38;5;241m3\u001b[39m:\n\u001b[1;32m    996\u001b[0m     \u001b[38;5;28mprint\u001b[39m(\u001b[38;5;124mf\u001b[39m\u001b[38;5;124m\"\u001b[39m\u001b[38;5;124mcalculate potential dl for ds with revision \u001b[39m\u001b[38;5;132;01m{\u001b[39;00mpr_revision\u001b[38;5;132;01m}\u001b[39;00m\u001b[38;5;124m\"\u001b[39m)\n\u001b[1;32m    997\u001b[0m revision_dl \u001b[38;5;241m=\u001b[39m (\n\u001b[0;32m--> 998\u001b[0m     _rs_total_bits_cn(\n\u001b[1;32m    999\u001b[0m         \u001b[38;5;28mself\u001b[39m\u001b[38;5;241m.\u001b[39mcn,\n\u001b[1;32m   1000\u001b[0m         revision_ruleset,\n\u001b[1;32m   1001\u001b[0m         original_ruleset\u001b[38;5;241m.\u001b[39mpossible_conds,\n\u001b[1;32m   1002\u001b[0m         pos_idx,\n\u001b[1;32m   1003\u001b[0m         neg_idx,\n\u001b[1;32m   1004\u001b[0m         bestsubset_dl\u001b[38;5;241m=\u001b[39m\u001b[38;5;28;01mFalse\u001b[39;00m,\n\u001b[1;32m   1005\u001b[0m         ret_bestsubset\u001b[38;5;241m=\u001b[39m\u001b[38;5;28;01mFalse\u001b[39;00m,\n\u001b[1;32m   1006\u001b[0m         verbosity\u001b[38;5;241m=\u001b[39m\u001b[38;5;241m0\u001b[39m,\n\u001b[1;32m   1007\u001b[0m     )\n\u001b[1;32m   1008\u001b[0m     \u001b[38;5;28;01mif\u001b[39;00m pr_revision \u001b[38;5;241m!=\u001b[39m rule\n\u001b[1;32m   1009\u001b[0m     \u001b[38;5;28;01melse\u001b[39;00m original_dl\n\u001b[1;32m   1010\u001b[0m )\n\u001b[1;32m   1011\u001b[0m best_rule \u001b[38;5;241m=\u001b[39m [rule, pr_replacement, pr_revision][\n\u001b[1;32m   1012\u001b[0m     base_functions\u001b[38;5;241m.\u001b[39margmin([original_dl, replacement_dl, revision_dl])\n\u001b[1;32m   1013\u001b[0m ]\n\u001b[1;32m   1015\u001b[0m \u001b[38;5;28;01mif\u001b[39;00m \u001b[38;5;28mself\u001b[39m\u001b[38;5;241m.\u001b[39mverbosity \u001b[38;5;241m>\u001b[39m\u001b[38;5;241m=\u001b[39m \u001b[38;5;241m2\u001b[39m:\n",
      "File \u001b[0;32m~/anaconda3/lib/python3.12/site-packages/wittgenstein/ripper.py:1422\u001b[0m, in \u001b[0;36m_rs_total_bits_cn\u001b[0;34m(cn, ruleset, possible_conds, pos_idx, neg_idx, bestsubset_dl, ret_bestsubset, verbosity)\u001b[0m\n\u001b[1;32m   1420\u001b[0m \u001b[38;5;28;01mif\u001b[39;00m \u001b[38;5;129;01mnot\u001b[39;00m bestsubset_dl:\n\u001b[1;32m   1421\u001b[0m     theory_bits \u001b[38;5;241m=\u001b[39m _rs_theory_bits(ruleset, possible_conds, verbosity\u001b[38;5;241m=\u001b[39mverbosity)\n\u001b[0;32m-> 1422\u001b[0m     data_bits \u001b[38;5;241m=\u001b[39m _exceptions_bits_cn(\n\u001b[1;32m   1423\u001b[0m         cn, ruleset, pos_idx, neg_idx, verbosity\u001b[38;5;241m=\u001b[39mverbosity\n\u001b[1;32m   1424\u001b[0m     )\n\u001b[1;32m   1425\u001b[0m     \u001b[38;5;28;01mif\u001b[39;00m verbosity \u001b[38;5;241m>\u001b[39m\u001b[38;5;241m=\u001b[39m \u001b[38;5;241m3\u001b[39m:\n\u001b[1;32m   1426\u001b[0m         \u001b[38;5;28mprint\u001b[39m(\u001b[38;5;124mf\u001b[39m\u001b[38;5;124m\"\u001b[39m\u001b[38;5;124mtotal ruleset bits | \u001b[39m\u001b[38;5;132;01m{\u001b[39;00mrnd(theory_bits\u001b[38;5;250m \u001b[39m\u001b[38;5;241m+\u001b[39m\u001b[38;5;250m \u001b[39mdata_bits)\u001b[38;5;132;01m}\u001b[39;00m\u001b[38;5;124m\"\u001b[39m)\n",
      "File \u001b[0;32m~/anaconda3/lib/python3.12/site-packages/wittgenstein/ripper.py:1279\u001b[0m, in \u001b[0;36m_exceptions_bits_cn\u001b[0;34m(cn, ruleset, pos_idx, neg_idx, verbosity)\u001b[0m\n\u001b[1;32m   1274\u001b[0m fp \u001b[38;5;241m=\u001b[39m \u001b[38;5;28mlen\u001b[39m(neg_cov)  \u001b[38;5;66;03m# Number false positives = negatives covered by the ruleset\u001b[39;00m\n\u001b[1;32m   1275\u001b[0m fn \u001b[38;5;241m=\u001b[39m \u001b[38;5;28mlen\u001b[39m(pos_idx) \u001b[38;5;241m-\u001b[39m \u001b[38;5;28mlen\u001b[39m(\n\u001b[1;32m   1276\u001b[0m     pos_cov\n\u001b[1;32m   1277\u001b[0m )  \u001b[38;5;66;03m# Number false negatives = positives not covered by the ruleset\u001b[39;00m\n\u001b[1;32m   1278\u001b[0m exceptions_dl \u001b[38;5;241m=\u001b[39m math\u001b[38;5;241m.\u001b[39mlog2(base_functions\u001b[38;5;241m.\u001b[39mnCr(p, fp)) \u001b[38;5;241m+\u001b[39m math\u001b[38;5;241m.\u001b[39mlog2(\n\u001b[0;32m-> 1279\u001b[0m     base_functions\u001b[38;5;241m.\u001b[39mnCr((N \u001b[38;5;241m-\u001b[39m p), fn)\n\u001b[1;32m   1280\u001b[0m )\n\u001b[1;32m   1281\u001b[0m \u001b[38;5;28;01mif\u001b[39;00m verbosity \u001b[38;5;241m>\u001b[39m\u001b[38;5;241m=\u001b[39m \u001b[38;5;241m5\u001b[39m:\n\u001b[1;32m   1282\u001b[0m     \u001b[38;5;28mprint\u001b[39m(\n\u001b[1;32m   1283\u001b[0m         \u001b[38;5;124mf\u001b[39m\u001b[38;5;124m\"\u001b[39m\u001b[38;5;124mexceptions_bits| \u001b[39m\u001b[38;5;132;01m{\u001b[39;00mruleset\u001b[38;5;241m.\u001b[39mtruncstr()\u001b[38;5;132;01m}\u001b[39;00m\u001b[38;5;124m: \u001b[39m\u001b[38;5;130;01m\\n\u001b[39;00m\u001b[38;5;124m N \u001b[39m\u001b[38;5;132;01m{\u001b[39;00mN\u001b[38;5;132;01m}\u001b[39;00m\u001b[38;5;124m p \u001b[39m\u001b[38;5;132;01m{\u001b[39;00mp\u001b[38;5;132;01m}\u001b[39;00m\u001b[38;5;124m fp \u001b[39m\u001b[38;5;132;01m{\u001b[39;00mfp\u001b[38;5;132;01m}\u001b[39;00m\u001b[38;5;124m fn \u001b[39m\u001b[38;5;132;01m{\u001b[39;00mfn\u001b[38;5;132;01m}\u001b[39;00m\u001b[38;5;124m: exceptions_bits \u001b[39m\u001b[38;5;132;01m{\u001b[39;00mrnd(exceptions_dl)\u001b[38;5;132;01m}\u001b[39;00m\u001b[38;5;124m\"\u001b[39m\n\u001b[1;32m   1284\u001b[0m     )\n",
      "File \u001b[0;32m~/anaconda3/lib/python3.12/site-packages/wittgenstein/base_functions.py:640\u001b[0m, in \u001b[0;36mnCr\u001b[0;34m(n, r)\u001b[0m\n\u001b[1;32m    637\u001b[0m     \u001b[38;5;28;01mreturn\u001b[39;00m reduce(op\u001b[38;5;241m.\u001b[39mmul, numbers, \u001b[38;5;241m1\u001b[39m)\n\u001b[1;32m    639\u001b[0m num \u001b[38;5;241m=\u001b[39m product(\u001b[38;5;28mrange\u001b[39m(n, n \u001b[38;5;241m-\u001b[39m r, \u001b[38;5;241m-\u001b[39m\u001b[38;5;241m1\u001b[39m))\n\u001b[0;32m--> 640\u001b[0m den \u001b[38;5;241m=\u001b[39m product(\u001b[38;5;28mrange\u001b[39m(\u001b[38;5;241m1\u001b[39m, r \u001b[38;5;241m+\u001b[39m \u001b[38;5;241m1\u001b[39m))\n\u001b[1;32m    641\u001b[0m \u001b[38;5;28;01mreturn\u001b[39;00m num \u001b[38;5;241m/\u001b[39m\u001b[38;5;241m/\u001b[39m den\n",
      "File \u001b[0;32m~/anaconda3/lib/python3.12/site-packages/wittgenstein/base_functions.py:637\u001b[0m, in \u001b[0;36mnCr.<locals>.product\u001b[0;34m(numbers)\u001b[0m\n\u001b[1;32m    636\u001b[0m \u001b[38;5;28;01mdef\u001b[39;00m \u001b[38;5;21mproduct\u001b[39m(numbers):\n\u001b[0;32m--> 637\u001b[0m     \u001b[38;5;28;01mreturn\u001b[39;00m reduce(op\u001b[38;5;241m.\u001b[39mmul, numbers, \u001b[38;5;241m1\u001b[39m)\n",
      "\u001b[0;31mKeyboardInterrupt\u001b[0m: "
     ]
    }
   ],
   "source": [
    "import wittgenstein as lw\n",
    "from sklearn.model_selection import train_test_split, GridSearchCV\n",
    "from sklearn.metrics import classification_report, accuracy_score\n",
    "\n",
    "\n",
    "\n",
    "model = lw.RIPPER()\n",
    "\n",
    "param_grid = {\n",
    "    'k': [1, 2],  \n",
    "    'max_rules': [10, 20], \n",
    "    'prune_size': [0.33],\n",
    "    'class_weights': [{0: 1, 1: 25}]  \n",
    "}\n",
    "\n",
    "grid_search = GridSearchCV(\n",
    "    estimator=model,\n",
    "    param_grid=param_grid,\n",
    "    scoring='accuracy',\n",
    "    cv=3,  \n",
    "    verbose=1\n",
    ")\n",
    "\n",
    "grid_search.fit(X_train, y_train)\n",
    "best_model = grid_search.best_estimator_\n",
    "\n",
    "y_pred = best_model.predict(X_test)\n",
    "\n",
    "\n",
    "report = classification_report(y_test, y_pred)\n",
    "best_params = grid_search.best_params_\n",
    "accuracy = accuracy_score(y_test, y_pred)\n",
    "\n",
    "\n",
    "print(\"best parameters: \" + best_params)\n",
    "print(\"accuracy: \" + accuracy)\n",
    "print(report)"
   ]
  },
  {
   "cell_type": "markdown",
   "metadata": {},
   "source": [
    "Now we print the rules generated by the model. The rules provide insight into the decision making process of the model."
   ]
  },
  {
   "cell_type": "code",
   "execution_count": 7,
   "metadata": {},
   "outputs": [
    {
     "name": "stdout",
     "output_type": "stream",
     "text": [
      "[delta_num=<69.0^profile_num=2^startlist_quality_num=<231.0]\n",
      "[delta_num=<69.0^profile_num=2^is_tarmac_num=0]\n",
      "[delta_num=<69.0^profile_num=2^length_num=249.0-485.0^points_num=<3.0]\n",
      "[delta_num=<69.0^profile_num=2^startlist_quality_num=231.0-311.0^length_num=249.0-485.0]\n"
     ]
    }
   ],
   "source": [
    "# Visualizzazione strutturata\n",
    "for rule in best_model.ruleset_:\n",
    "    print(rule)\n"
   ]
  },
  {
   "cell_type": "code",
   "execution_count": null,
   "metadata": {},
   "outputs": [
    {
     "name": "stdout",
     "output_type": "stream",
     "text": [
      "              precision    recall  f1-score   support\n",
      "\n",
      "           0       0.86      0.98      0.92     30219\n",
      "           1       0.41      0.10      0.16      5187\n",
      "\n",
      "    accuracy                           0.85     35406\n",
      "   macro avg       0.64      0.54      0.54     35406\n",
      "weighted avg       0.80      0.85      0.81     35406\n",
      "\n"
     ]
    }
   ],
   "source": [
    "print(report)"
   ]
  },
  {
   "cell_type": "markdown",
   "metadata": {},
   "source": [
    "Again, with the new class weights, we evaluate the model using the `classification_report` function. The accuracy of the model is still 0.85, but the scores are the same as before. This suggests that the the model is to simple to capture the complexity of the data."
   ]
  }
 ],
 "metadata": {
  "kernelspec": {
   "display_name": "base",
   "language": "python",
   "name": "python3"
  },
  "language_info": {
   "codemirror_mode": {
    "name": "ipython",
    "version": 3
   },
   "file_extension": ".py",
   "mimetype": "text/x-python",
   "name": "python",
   "nbconvert_exporter": "python",
   "pygments_lexer": "ipython3",
   "version": "3.12.2"
  }
 },
 "nbformat": 4,
 "nbformat_minor": 2
}
