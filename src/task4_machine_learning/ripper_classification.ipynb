{
  "cells": [
    {
      "cell_type": "markdown",
      "metadata": {
        "id": "BnG5wnkD2WFs"
      },
      "source": [
        "# Classification with RIPPER\n",
        "In this notebook we aim to build a classifier using RIPPER. RIPPER is one of the most popular rule based classifier."
      ]
    },
    {
      "cell_type": "code",
      "execution_count": 8,
      "metadata": {
        "id": "xYFVAyDz2WFw"
      },
      "outputs": [],
      "source": [
        "import pandas as pd\n",
        "from os import path\n",
        "import numpy as np\n",
        "from preprocessing import get_train_test_data\n",
        "\n",
        "X_train, y_train, X_test, y_test, columns_to_keep = get_train_test_data()"
      ]
    },
    {
      "cell_type": "markdown",
      "metadata": {
        "id": "a93dB1fQ2WFx"
      },
      "source": [
        "To begin, we create a target variable named `top_20` based on the column `position`."
      ]
    },
    {
      "cell_type": "markdown",
      "metadata": {
        "id": "SQSaYc5G2WFx"
      },
      "source": [
        "Now we need to discretize the data to make it suitable for RIPPER. We will use the `discretize_data` function to discretize the data.\n",
        "\n",
        "Finally, we will train the RIPPER classifier using the discretized data."
      ]
    },
    {
      "cell_type": "code",
      "execution_count": 9,
      "metadata": {
        "id": "brT7azH42WFy"
      },
      "outputs": [],
      "source": [
        "#function to discretize the variables\n",
        "#input: the dataset and the list of variables' names to discretize\n",
        "def discretize_data(dataset, variables):\n",
        "    for variable in variables:\n",
        "        #get the unique variable's values\n",
        "        var = sorted(dataset[variable].unique())\n",
        "\n",
        "        #generate a mapping from the variable's values to the number representation\n",
        "        mapping = dict(zip(var, range(0, len(var) + 1)))\n",
        "\n",
        "        #add a new colum with the number representation of the variable\n",
        "        dataset[variable+'_num'] = dataset[variable].map(mapping).astype(int)\n",
        "    return dataset"
      ]
    },
    {
      "cell_type": "code",
      "execution_count": 13,
      "metadata": {
        "id": "A-FCx8cE2WFy",
        "outputId": "f4a2670b-9082-488d-acf1-31f237198ebd",
        "colab": {
          "base_uri": "https://localhost:8080/",
          "height": 226
        }
      },
      "outputs": [
        {
          "output_type": "execute_result",
          "data": {
            "text/plain": [
              "         bmi  career_points  career_duration(days)  debut_year  \\\n",
              "0  23.765432   68034.221635                 6233.0      1977.0   \n",
              "1  20.897959   29429.221635                 5212.0      1974.0   \n",
              "2  22.790329   15880.000000                 2972.0      1977.0   \n",
              "3  21.469150    6600.000000                 3606.0      1970.0   \n",
              "4  21.295295   17245.000000                 2192.0      1977.0   \n",
              "\n",
              "   difficulty_score  competitive_age  is_tarmac  points  climbing_efficiency  \\\n",
              "0          0.635375               22       True   100.0             0.006796   \n",
              "1          0.635375               27       True   100.0             0.006796   \n",
              "2          0.635375               24       True   100.0             0.006796   \n",
              "3          0.635375               30       True   100.0             0.006796   \n",
              "4          0.635375               27       True   100.0             0.006796   \n",
              "\n",
              "   startlist_quality  bmi_num  career_points_num  career_duration(days)_num  \\\n",
              "0               1241      501               2810                       2476   \n",
              "1               1241      248               2331                       2329   \n",
              "2               1241      429               1703                       1571   \n",
              "3               1241      303                908                       1826   \n",
              "4               1241      287               1779                       1168   \n",
              "\n",
              "   debut_year_num  difficulty_score_num  competitive_age_num  is_tarmac_num  \\\n",
              "0               7                    83                    3              1   \n",
              "1               4                    83                    8              1   \n",
              "2               7                    83                    5              1   \n",
              "3               0                    83                   11              1   \n",
              "4               7                    83                    8              1   \n",
              "\n",
              "   points_num  climbing_efficiency_num  startlist_quality_num  \n",
              "0           5                       65                    296  \n",
              "1           5                       65                    296  \n",
              "2           5                       65                    296  \n",
              "3           5                       65                    296  \n",
              "4           5                       65                    296  "
            ],
            "text/html": [
              "\n",
              "  <div id=\"df-cb2f53e7-f8e8-40af-922f-bf5c91f9d509\" class=\"colab-df-container\">\n",
              "    <div>\n",
              "<style scoped>\n",
              "    .dataframe tbody tr th:only-of-type {\n",
              "        vertical-align: middle;\n",
              "    }\n",
              "\n",
              "    .dataframe tbody tr th {\n",
              "        vertical-align: top;\n",
              "    }\n",
              "\n",
              "    .dataframe thead th {\n",
              "        text-align: right;\n",
              "    }\n",
              "</style>\n",
              "<table border=\"1\" class=\"dataframe\">\n",
              "  <thead>\n",
              "    <tr style=\"text-align: right;\">\n",
              "      <th></th>\n",
              "      <th>bmi</th>\n",
              "      <th>career_points</th>\n",
              "      <th>career_duration(days)</th>\n",
              "      <th>debut_year</th>\n",
              "      <th>difficulty_score</th>\n",
              "      <th>competitive_age</th>\n",
              "      <th>is_tarmac</th>\n",
              "      <th>points</th>\n",
              "      <th>climbing_efficiency</th>\n",
              "      <th>startlist_quality</th>\n",
              "      <th>bmi_num</th>\n",
              "      <th>career_points_num</th>\n",
              "      <th>career_duration(days)_num</th>\n",
              "      <th>debut_year_num</th>\n",
              "      <th>difficulty_score_num</th>\n",
              "      <th>competitive_age_num</th>\n",
              "      <th>is_tarmac_num</th>\n",
              "      <th>points_num</th>\n",
              "      <th>climbing_efficiency_num</th>\n",
              "      <th>startlist_quality_num</th>\n",
              "    </tr>\n",
              "  </thead>\n",
              "  <tbody>\n",
              "    <tr>\n",
              "      <th>0</th>\n",
              "      <td>23.765432</td>\n",
              "      <td>68034.221635</td>\n",
              "      <td>6233.0</td>\n",
              "      <td>1977.0</td>\n",
              "      <td>0.635375</td>\n",
              "      <td>22</td>\n",
              "      <td>True</td>\n",
              "      <td>100.0</td>\n",
              "      <td>0.006796</td>\n",
              "      <td>1241</td>\n",
              "      <td>501</td>\n",
              "      <td>2810</td>\n",
              "      <td>2476</td>\n",
              "      <td>7</td>\n",
              "      <td>83</td>\n",
              "      <td>3</td>\n",
              "      <td>1</td>\n",
              "      <td>5</td>\n",
              "      <td>65</td>\n",
              "      <td>296</td>\n",
              "    </tr>\n",
              "    <tr>\n",
              "      <th>1</th>\n",
              "      <td>20.897959</td>\n",
              "      <td>29429.221635</td>\n",
              "      <td>5212.0</td>\n",
              "      <td>1974.0</td>\n",
              "      <td>0.635375</td>\n",
              "      <td>27</td>\n",
              "      <td>True</td>\n",
              "      <td>100.0</td>\n",
              "      <td>0.006796</td>\n",
              "      <td>1241</td>\n",
              "      <td>248</td>\n",
              "      <td>2331</td>\n",
              "      <td>2329</td>\n",
              "      <td>4</td>\n",
              "      <td>83</td>\n",
              "      <td>8</td>\n",
              "      <td>1</td>\n",
              "      <td>5</td>\n",
              "      <td>65</td>\n",
              "      <td>296</td>\n",
              "    </tr>\n",
              "    <tr>\n",
              "      <th>2</th>\n",
              "      <td>22.790329</td>\n",
              "      <td>15880.000000</td>\n",
              "      <td>2972.0</td>\n",
              "      <td>1977.0</td>\n",
              "      <td>0.635375</td>\n",
              "      <td>24</td>\n",
              "      <td>True</td>\n",
              "      <td>100.0</td>\n",
              "      <td>0.006796</td>\n",
              "      <td>1241</td>\n",
              "      <td>429</td>\n",
              "      <td>1703</td>\n",
              "      <td>1571</td>\n",
              "      <td>7</td>\n",
              "      <td>83</td>\n",
              "      <td>5</td>\n",
              "      <td>1</td>\n",
              "      <td>5</td>\n",
              "      <td>65</td>\n",
              "      <td>296</td>\n",
              "    </tr>\n",
              "    <tr>\n",
              "      <th>3</th>\n",
              "      <td>21.469150</td>\n",
              "      <td>6600.000000</td>\n",
              "      <td>3606.0</td>\n",
              "      <td>1970.0</td>\n",
              "      <td>0.635375</td>\n",
              "      <td>30</td>\n",
              "      <td>True</td>\n",
              "      <td>100.0</td>\n",
              "      <td>0.006796</td>\n",
              "      <td>1241</td>\n",
              "      <td>303</td>\n",
              "      <td>908</td>\n",
              "      <td>1826</td>\n",
              "      <td>0</td>\n",
              "      <td>83</td>\n",
              "      <td>11</td>\n",
              "      <td>1</td>\n",
              "      <td>5</td>\n",
              "      <td>65</td>\n",
              "      <td>296</td>\n",
              "    </tr>\n",
              "    <tr>\n",
              "      <th>4</th>\n",
              "      <td>21.295295</td>\n",
              "      <td>17245.000000</td>\n",
              "      <td>2192.0</td>\n",
              "      <td>1977.0</td>\n",
              "      <td>0.635375</td>\n",
              "      <td>27</td>\n",
              "      <td>True</td>\n",
              "      <td>100.0</td>\n",
              "      <td>0.006796</td>\n",
              "      <td>1241</td>\n",
              "      <td>287</td>\n",
              "      <td>1779</td>\n",
              "      <td>1168</td>\n",
              "      <td>7</td>\n",
              "      <td>83</td>\n",
              "      <td>8</td>\n",
              "      <td>1</td>\n",
              "      <td>5</td>\n",
              "      <td>65</td>\n",
              "      <td>296</td>\n",
              "    </tr>\n",
              "  </tbody>\n",
              "</table>\n",
              "</div>\n",
              "    <div class=\"colab-df-buttons\">\n",
              "\n",
              "  <div class=\"colab-df-container\">\n",
              "    <button class=\"colab-df-convert\" onclick=\"convertToInteractive('df-cb2f53e7-f8e8-40af-922f-bf5c91f9d509')\"\n",
              "            title=\"Convert this dataframe to an interactive table.\"\n",
              "            style=\"display:none;\">\n",
              "\n",
              "  <svg xmlns=\"http://www.w3.org/2000/svg\" height=\"24px\" viewBox=\"0 -960 960 960\">\n",
              "    <path d=\"M120-120v-720h720v720H120Zm60-500h600v-160H180v160Zm220 220h160v-160H400v160Zm0 220h160v-160H400v160ZM180-400h160v-160H180v160Zm440 0h160v-160H620v160ZM180-180h160v-160H180v160Zm440 0h160v-160H620v160Z\"/>\n",
              "  </svg>\n",
              "    </button>\n",
              "\n",
              "  <style>\n",
              "    .colab-df-container {\n",
              "      display:flex;\n",
              "      gap: 12px;\n",
              "    }\n",
              "\n",
              "    .colab-df-convert {\n",
              "      background-color: #E8F0FE;\n",
              "      border: none;\n",
              "      border-radius: 50%;\n",
              "      cursor: pointer;\n",
              "      display: none;\n",
              "      fill: #1967D2;\n",
              "      height: 32px;\n",
              "      padding: 0 0 0 0;\n",
              "      width: 32px;\n",
              "    }\n",
              "\n",
              "    .colab-df-convert:hover {\n",
              "      background-color: #E2EBFA;\n",
              "      box-shadow: 0px 1px 2px rgba(60, 64, 67, 0.3), 0px 1px 3px 1px rgba(60, 64, 67, 0.15);\n",
              "      fill: #174EA6;\n",
              "    }\n",
              "\n",
              "    .colab-df-buttons div {\n",
              "      margin-bottom: 4px;\n",
              "    }\n",
              "\n",
              "    [theme=dark] .colab-df-convert {\n",
              "      background-color: #3B4455;\n",
              "      fill: #D2E3FC;\n",
              "    }\n",
              "\n",
              "    [theme=dark] .colab-df-convert:hover {\n",
              "      background-color: #434B5C;\n",
              "      box-shadow: 0px 1px 3px 1px rgba(0, 0, 0, 0.15);\n",
              "      filter: drop-shadow(0px 1px 2px rgba(0, 0, 0, 0.3));\n",
              "      fill: #FFFFFF;\n",
              "    }\n",
              "  </style>\n",
              "\n",
              "    <script>\n",
              "      const buttonEl =\n",
              "        document.querySelector('#df-cb2f53e7-f8e8-40af-922f-bf5c91f9d509 button.colab-df-convert');\n",
              "      buttonEl.style.display =\n",
              "        google.colab.kernel.accessAllowed ? 'block' : 'none';\n",
              "\n",
              "      async function convertToInteractive(key) {\n",
              "        const element = document.querySelector('#df-cb2f53e7-f8e8-40af-922f-bf5c91f9d509');\n",
              "        const dataTable =\n",
              "          await google.colab.kernel.invokeFunction('convertToInteractive',\n",
              "                                                    [key], {});\n",
              "        if (!dataTable) return;\n",
              "\n",
              "        const docLinkHtml = 'Like what you see? Visit the ' +\n",
              "          '<a target=\"_blank\" href=https://colab.research.google.com/notebooks/data_table.ipynb>data table notebook</a>'\n",
              "          + ' to learn more about interactive tables.';\n",
              "        element.innerHTML = '';\n",
              "        dataTable['output_type'] = 'display_data';\n",
              "        await google.colab.output.renderOutput(dataTable, element);\n",
              "        const docLink = document.createElement('div');\n",
              "        docLink.innerHTML = docLinkHtml;\n",
              "        element.appendChild(docLink);\n",
              "      }\n",
              "    </script>\n",
              "  </div>\n",
              "\n",
              "\n",
              "<div id=\"df-14ca7bc8-956d-459a-b845-fdbd297f56df\">\n",
              "  <button class=\"colab-df-quickchart\" onclick=\"quickchart('df-14ca7bc8-956d-459a-b845-fdbd297f56df')\"\n",
              "            title=\"Suggest charts\"\n",
              "            style=\"display:none;\">\n",
              "\n",
              "<svg xmlns=\"http://www.w3.org/2000/svg\" height=\"24px\"viewBox=\"0 0 24 24\"\n",
              "     width=\"24px\">\n",
              "    <g>\n",
              "        <path d=\"M19 3H5c-1.1 0-2 .9-2 2v14c0 1.1.9 2 2 2h14c1.1 0 2-.9 2-2V5c0-1.1-.9-2-2-2zM9 17H7v-7h2v7zm4 0h-2V7h2v10zm4 0h-2v-4h2v4z\"/>\n",
              "    </g>\n",
              "</svg>\n",
              "  </button>\n",
              "\n",
              "<style>\n",
              "  .colab-df-quickchart {\n",
              "      --bg-color: #E8F0FE;\n",
              "      --fill-color: #1967D2;\n",
              "      --hover-bg-color: #E2EBFA;\n",
              "      --hover-fill-color: #174EA6;\n",
              "      --disabled-fill-color: #AAA;\n",
              "      --disabled-bg-color: #DDD;\n",
              "  }\n",
              "\n",
              "  [theme=dark] .colab-df-quickchart {\n",
              "      --bg-color: #3B4455;\n",
              "      --fill-color: #D2E3FC;\n",
              "      --hover-bg-color: #434B5C;\n",
              "      --hover-fill-color: #FFFFFF;\n",
              "      --disabled-bg-color: #3B4455;\n",
              "      --disabled-fill-color: #666;\n",
              "  }\n",
              "\n",
              "  .colab-df-quickchart {\n",
              "    background-color: var(--bg-color);\n",
              "    border: none;\n",
              "    border-radius: 50%;\n",
              "    cursor: pointer;\n",
              "    display: none;\n",
              "    fill: var(--fill-color);\n",
              "    height: 32px;\n",
              "    padding: 0;\n",
              "    width: 32px;\n",
              "  }\n",
              "\n",
              "  .colab-df-quickchart:hover {\n",
              "    background-color: var(--hover-bg-color);\n",
              "    box-shadow: 0 1px 2px rgba(60, 64, 67, 0.3), 0 1px 3px 1px rgba(60, 64, 67, 0.15);\n",
              "    fill: var(--button-hover-fill-color);\n",
              "  }\n",
              "\n",
              "  .colab-df-quickchart-complete:disabled,\n",
              "  .colab-df-quickchart-complete:disabled:hover {\n",
              "    background-color: var(--disabled-bg-color);\n",
              "    fill: var(--disabled-fill-color);\n",
              "    box-shadow: none;\n",
              "  }\n",
              "\n",
              "  .colab-df-spinner {\n",
              "    border: 2px solid var(--fill-color);\n",
              "    border-color: transparent;\n",
              "    border-bottom-color: var(--fill-color);\n",
              "    animation:\n",
              "      spin 1s steps(1) infinite;\n",
              "  }\n",
              "\n",
              "  @keyframes spin {\n",
              "    0% {\n",
              "      border-color: transparent;\n",
              "      border-bottom-color: var(--fill-color);\n",
              "      border-left-color: var(--fill-color);\n",
              "    }\n",
              "    20% {\n",
              "      border-color: transparent;\n",
              "      border-left-color: var(--fill-color);\n",
              "      border-top-color: var(--fill-color);\n",
              "    }\n",
              "    30% {\n",
              "      border-color: transparent;\n",
              "      border-left-color: var(--fill-color);\n",
              "      border-top-color: var(--fill-color);\n",
              "      border-right-color: var(--fill-color);\n",
              "    }\n",
              "    40% {\n",
              "      border-color: transparent;\n",
              "      border-right-color: var(--fill-color);\n",
              "      border-top-color: var(--fill-color);\n",
              "    }\n",
              "    60% {\n",
              "      border-color: transparent;\n",
              "      border-right-color: var(--fill-color);\n",
              "    }\n",
              "    80% {\n",
              "      border-color: transparent;\n",
              "      border-right-color: var(--fill-color);\n",
              "      border-bottom-color: var(--fill-color);\n",
              "    }\n",
              "    90% {\n",
              "      border-color: transparent;\n",
              "      border-bottom-color: var(--fill-color);\n",
              "    }\n",
              "  }\n",
              "</style>\n",
              "\n",
              "  <script>\n",
              "    async function quickchart(key) {\n",
              "      const quickchartButtonEl =\n",
              "        document.querySelector('#' + key + ' button');\n",
              "      quickchartButtonEl.disabled = true;  // To prevent multiple clicks.\n",
              "      quickchartButtonEl.classList.add('colab-df-spinner');\n",
              "      try {\n",
              "        const charts = await google.colab.kernel.invokeFunction(\n",
              "            'suggestCharts', [key], {});\n",
              "      } catch (error) {\n",
              "        console.error('Error during call to suggestCharts:', error);\n",
              "      }\n",
              "      quickchartButtonEl.classList.remove('colab-df-spinner');\n",
              "      quickchartButtonEl.classList.add('colab-df-quickchart-complete');\n",
              "    }\n",
              "    (() => {\n",
              "      let quickchartButtonEl =\n",
              "        document.querySelector('#df-14ca7bc8-956d-459a-b845-fdbd297f56df button');\n",
              "      quickchartButtonEl.style.display =\n",
              "        google.colab.kernel.accessAllowed ? 'block' : 'none';\n",
              "    })();\n",
              "  </script>\n",
              "</div>\n",
              "\n",
              "    </div>\n",
              "  </div>\n"
            ],
            "application/vnd.google.colaboratory.intrinsic+json": {
              "type": "dataframe",
              "variable_name": "X_train",
              "summary": "{\n  \"name\": \"X_train\",\n  \"rows\": 91401,\n  \"fields\": [\n    {\n      \"column\": \"bmi\",\n      \"properties\": {\n        \"dtype\": \"number\",\n        \"std\": 1.2856039032706301,\n        \"min\": 16.41206918318394,\n        \"max\": 26.775510204081638,\n        \"num_unique_values\": 568,\n        \"samples\": [\n          20.558646966914285,\n          22.093170054286077,\n          21.461936624163616\n        ],\n        \"semantic_type\": \"\",\n        \"description\": \"\"\n      }\n    },\n    {\n      \"column\": \"career_points\",\n      \"properties\": {\n        \"dtype\": \"number\",\n        \"std\": 17013.334425098317,\n        \"min\": 50.0,\n        \"max\": 87232.22163498409,\n        \"num_unique_values\": 2820,\n        \"samples\": [\n          33995.0,\n          3655.0,\n          3195.0\n        ],\n        \"semantic_type\": \"\",\n        \"description\": \"\"\n      }\n    },\n    {\n      \"column\": \"career_duration(days)\",\n      \"properties\": {\n        \"dtype\": \"number\",\n        \"std\": 1567.7423465901336,\n        \"min\": 1.0,\n        \"max\": 8751.0,\n        \"num_unique_values\": 2505,\n        \"samples\": [\n          751.0,\n          3835.0,\n          1257.0\n        ],\n        \"semantic_type\": \"\",\n        \"description\": \"\"\n      }\n    },\n    {\n      \"column\": \"debut_year\",\n      \"properties\": {\n        \"dtype\": \"number\",\n        \"std\": 11.401274729808927,\n        \"min\": 1970.0,\n        \"max\": 2021.0,\n        \"num_unique_values\": 52,\n        \"samples\": [\n          2005.0,\n          1986.0,\n          1979.0\n        ],\n        \"semantic_type\": \"\",\n        \"description\": \"\"\n      }\n    },\n    {\n      \"column\": \"difficulty_score\",\n      \"properties\": {\n        \"dtype\": \"number\",\n        \"std\": 0.5606547095468541,\n        \"min\": 0.0128537039212381,\n        \"max\": 2.6715377831801987,\n        \"num_unique_values\": 722,\n        \"samples\": [\n          1.6278339300397862,\n          1.9479964793468063,\n          0.9625671826772968\n        ],\n        \"semantic_type\": \"\",\n        \"description\": \"\"\n      }\n    },\n    {\n      \"column\": \"competitive_age\",\n      \"properties\": {\n        \"dtype\": \"number\",\n        \"std\": 3,\n        \"min\": 19,\n        \"max\": 45,\n        \"num_unique_values\": 27,\n        \"samples\": [\n          31,\n          35,\n          28\n        ],\n        \"semantic_type\": \"\",\n        \"description\": \"\"\n      }\n    },\n    {\n      \"column\": \"is_tarmac\",\n      \"properties\": {\n        \"dtype\": \"boolean\",\n        \"num_unique_values\": 2,\n        \"samples\": [\n          false,\n          true\n        ],\n        \"semantic_type\": \"\",\n        \"description\": \"\"\n      }\n    },\n    {\n      \"column\": \"points\",\n      \"properties\": {\n        \"dtype\": \"number\",\n        \"std\": 52.319002041276306,\n        \"min\": 30.0,\n        \"max\": 350.0,\n        \"num_unique_values\": 11,\n        \"samples\": [\n          125.0,\n          100.0\n        ],\n        \"semantic_type\": \"\",\n        \"description\": \"\"\n      }\n    },\n    {\n      \"column\": \"climbing_efficiency\",\n      \"properties\": {\n        \"dtype\": \"number\",\n        \"std\": 0.07050037042539016,\n        \"min\": 0.0001910828025477,\n        \"max\": 0.6854321222007614,\n        \"num_unique_values\": 704,\n        \"samples\": [\n          0.0108770053475935,\n          0.0138224745876784\n        ],\n        \"semantic_type\": \"\",\n        \"description\": \"\"\n      }\n    },\n    {\n      \"column\": \"startlist_quality\",\n      \"properties\": {\n        \"dtype\": \"number\",\n        \"std\": 386,\n        \"min\": 200,\n        \"max\": 2047,\n        \"num_unique_values\": 348,\n        \"samples\": [\n          981,\n          708\n        ],\n        \"semantic_type\": \"\",\n        \"description\": \"\"\n      }\n    },\n    {\n      \"column\": \"bmi_num\",\n      \"properties\": {\n        \"dtype\": \"number\",\n        \"std\": 118,\n        \"min\": 0,\n        \"max\": 567,\n        \"num_unique_values\": 568,\n        \"samples\": [\n          212,\n          366\n        ],\n        \"semantic_type\": \"\",\n        \"description\": \"\"\n      }\n    },\n    {\n      \"column\": \"career_points_num\",\n      \"properties\": {\n        \"dtype\": \"number\",\n        \"std\": 739,\n        \"min\": 0,\n        \"max\": 2819,\n        \"num_unique_values\": 2820,\n        \"samples\": [\n          2458,\n          529\n        ],\n        \"semantic_type\": \"\",\n        \"description\": \"\"\n      }\n    },\n    {\n      \"column\": \"career_duration(days)_num\",\n      \"properties\": {\n        \"dtype\": \"number\",\n        \"std\": 613,\n        \"min\": 0,\n        \"max\": 2504,\n        \"num_unique_values\": 2505,\n        \"samples\": [\n          417,\n          1931\n        ],\n        \"semantic_type\": \"\",\n        \"description\": \"\"\n      }\n    },\n    {\n      \"column\": \"debut_year_num\",\n      \"properties\": {\n        \"dtype\": \"number\",\n        \"std\": 11,\n        \"min\": 0,\n        \"max\": 51,\n        \"num_unique_values\": 52,\n        \"samples\": [\n          35,\n          16\n        ],\n        \"semantic_type\": \"\",\n        \"description\": \"\"\n      }\n    },\n    {\n      \"column\": \"difficulty_score_num\",\n      \"properties\": {\n        \"dtype\": \"number\",\n        \"std\": 214,\n        \"min\": 0,\n        \"max\": 721,\n        \"num_unique_values\": 722,\n        \"samples\": [\n          565,\n          627\n        ],\n        \"semantic_type\": \"\",\n        \"description\": \"\"\n      }\n    },\n    {\n      \"column\": \"competitive_age_num\",\n      \"properties\": {\n        \"dtype\": \"number\",\n        \"std\": 3,\n        \"min\": 0,\n        \"max\": 26,\n        \"num_unique_values\": 27,\n        \"samples\": [\n          12,\n          16\n        ],\n        \"semantic_type\": \"\",\n        \"description\": \"\"\n      }\n    },\n    {\n      \"column\": \"is_tarmac_num\",\n      \"properties\": {\n        \"dtype\": \"number\",\n        \"std\": 0,\n        \"min\": 0,\n        \"max\": 1,\n        \"num_unique_values\": 2,\n        \"samples\": [\n          0,\n          1\n        ],\n        \"semantic_type\": \"\",\n        \"description\": \"\"\n      }\n    },\n    {\n      \"column\": \"points_num\",\n      \"properties\": {\n        \"dtype\": \"number\",\n        \"std\": 2,\n        \"min\": 0,\n        \"max\": 10,\n        \"num_unique_values\": 11,\n        \"samples\": [\n          6,\n          5\n        ],\n        \"semantic_type\": \"\",\n        \"description\": \"\"\n      }\n    },\n    {\n      \"column\": \"climbing_efficiency_num\",\n      \"properties\": {\n        \"dtype\": \"number\",\n        \"std\": 198,\n        \"min\": 0,\n        \"max\": 703,\n        \"num_unique_values\": 704,\n        \"samples\": [\n          209,\n          346\n        ],\n        \"semantic_type\": \"\",\n        \"description\": \"\"\n      }\n    },\n    {\n      \"column\": \"startlist_quality_num\",\n      \"properties\": {\n        \"dtype\": \"number\",\n        \"std\": 87,\n        \"min\": 0,\n        \"max\": 347,\n        \"num_unique_values\": 348,\n        \"samples\": [\n          221,\n          100\n        ],\n        \"semantic_type\": \"\",\n        \"description\": \"\"\n      }\n    }\n  ]\n}"
            }
          },
          "metadata": {},
          "execution_count": 13
        }
      ],
      "source": [
        "X_train = discretize_data(X_train, [col for col in columns_to_keep if col != \"top_20\"])\n",
        "\n",
        "X_test = discretize_data(X_test, [col for col in columns_to_keep if col != \"top_20\"])\n",
        "\n",
        "X_train.head()"
      ]
    },
    {
      "cell_type": "markdown",
      "metadata": {
        "id": "1HykaMCb2WFy"
      },
      "source": [
        "Now we search for the best hyperparemeters for the RIPPER classifier using the `GridSearchCV` function.\n",
        "\n",
        "Finally, we evaluate the model using the `classification_report` function."
      ]
    },
    {
      "cell_type": "markdown",
      "metadata": {
        "id": "IeA26jEY2WF0"
      },
      "source": [
        "As we can see from the classification report, the RIPPER classifier has an accuracy of 0.85. Unfortunately, while the precision and recall are high for the negative class, they are low for the positive class. This is likely due to the class imbalance in the dataset. We try to address this issue by using the `class_weight` parameter in the RIPPER classifier."
      ]
    },
    {
      "cell_type": "code",
      "execution_count": 18,
      "metadata": {
        "id": "zVtYBPvq2WF0",
        "outputId": "d5b4d592-fc7b-4ca4-86c3-d593e6b84fc7",
        "colab": {
          "base_uri": "https://localhost:8080/"
        }
      },
      "outputs": [
        {
          "output_type": "stream",
          "name": "stdout",
          "text": [
            "Fitting 3 folds for each of 12 candidates, totalling 36 fits\n"
          ]
        },
        {
          "output_type": "stream",
          "name": "stderr",
          "text": [
            "/usr/local/lib/python3.10/dist-packages/sklearn/metrics/_classification.py:1531: UndefinedMetricWarning: Precision is ill-defined and being set to 0.0 in labels with no predicted samples. Use `zero_division` parameter to control this behavior.\n",
            "  _warn_prf(average, modifier, f\"{metric.capitalize()} is\", len(result))\n",
            "/usr/local/lib/python3.10/dist-packages/sklearn/metrics/_classification.py:1531: UndefinedMetricWarning: Precision is ill-defined and being set to 0.0 in labels with no predicted samples. Use `zero_division` parameter to control this behavior.\n",
            "  _warn_prf(average, modifier, f\"{metric.capitalize()} is\", len(result))\n",
            "/usr/local/lib/python3.10/dist-packages/sklearn/metrics/_classification.py:1531: UndefinedMetricWarning: Precision is ill-defined and being set to 0.0 in labels with no predicted samples. Use `zero_division` parameter to control this behavior.\n",
            "  _warn_prf(average, modifier, f\"{metric.capitalize()} is\", len(result))\n"
          ]
        }
      ],
      "source": [
        "import wittgenstein as lw\n",
        "from sklearn.model_selection import train_test_split, GridSearchCV\n",
        "from sklearn.metrics import classification_report, accuracy_score\n",
        "\n",
        "\n",
        "\n",
        "model = lw.RIPPER()\n",
        "\n",
        "param_grid = {\n",
        "    'k': [1, 2],\n",
        "    'max_rules': [10, 20],\n",
        "    'prune_size': [0.33],\n",
        "    'class_weights': [{0:1, 1:5}, {0:10}, {0: 1, 1: 25}]\n",
        "}\n",
        "\n",
        "grid_search = GridSearchCV(\n",
        "    estimator=model,\n",
        "    param_grid=param_grid,\n",
        "    scoring='accuracy',\n",
        "    cv=3,\n",
        "    verbose=1\n",
        ")\n",
        "\n",
        "grid_search.fit(X_train, y_train)\n",
        "best_model = grid_search.best_estimator_\n",
        "\n",
        "y_pred = best_model.predict(X_test)\n",
        "\n",
        "\n",
        "report = classification_report(y_test, y_pred)\n",
        "best_params = grid_search.best_params_\n",
        "accuracy = accuracy_score(y_test, y_pred)\n"
      ]
    },
    {
      "cell_type": "code",
      "source": [
        "print(accuracy)"
      ],
      "metadata": {
        "id": "OdjHKe0k7r2L",
        "outputId": "c9be623e-3c23-4a8e-8b95-36b683d18fac",
        "colab": {
          "base_uri": "https://localhost:8080/"
        }
      },
      "execution_count": 19,
      "outputs": [
        {
          "output_type": "stream",
          "name": "stdout",
          "text": [
            "0.8511737782371179\n"
          ]
        }
      ]
    },
    {
      "cell_type": "code",
      "source": [
        "print(best_params)"
      ],
      "metadata": {
        "id": "ShMeY8Ko7uKm",
        "outputId": "49c30267-4e29-4f4a-bdca-316994b6f3eb",
        "colab": {
          "base_uri": "https://localhost:8080/"
        }
      },
      "execution_count": 20,
      "outputs": [
        {
          "output_type": "stream",
          "name": "stdout",
          "text": [
            "{'class_weights': {0: 1, 1: 25}, 'k': 1, 'max_rules': 20, 'prune_size': 0.33}\n"
          ]
        }
      ]
    },
    {
      "cell_type": "code",
      "source": [
        "print(report)"
      ],
      "metadata": {
        "id": "zm_b4uM_6B8J",
        "outputId": "3ab4110f-bc7e-4569-c944-33048f3cfa14",
        "colab": {
          "base_uri": "https://localhost:8080/"
        }
      },
      "execution_count": 21,
      "outputs": [
        {
          "output_type": "stream",
          "name": "stdout",
          "text": [
            "              precision    recall  f1-score   support\n",
            "\n",
            "           0       0.85      1.00      0.92      5765\n",
            "           1       0.00      0.00      0.00      1008\n",
            "\n",
            "    accuracy                           0.85      6773\n",
            "   macro avg       0.43      0.50      0.46      6773\n",
            "weighted avg       0.72      0.85      0.78      6773\n",
            "\n"
          ]
        }
      ]
    },
    {
      "cell_type": "markdown",
      "metadata": {
        "id": "23jA9oea2WF1"
      },
      "source": [
        "Now we print the rules generated by the model. The rules provide insight into the decision making process of the model."
      ]
    },
    {
      "cell_type": "code",
      "execution_count": 22,
      "metadata": {
        "id": "7GLrFXgU2WF1",
        "outputId": "307b3e52-cbc8-4990-be6b-3eed99fd9ea2",
        "colab": {
          "base_uri": "https://localhost:8080/"
        }
      },
      "outputs": [
        {
          "output_type": "stream",
          "name": "stdout",
          "text": [
            "[debut_year=<1982.0^points=<50.0]\n",
            "[startlist_quality=<705.0^debut_year=<1982.0^climbing_efficiency=0.012-0.013]\n",
            "[startlist_quality=<705.0^debut_year=<1982.0^is_tarmac=False^difficulty_score=1.5-1.71^career_points=14794.22-19135.0^bmi=22.2-22.79]\n",
            "[startlist_quality=<705.0^debut_year=<1982.0^career_duration(days)=3689.0-4108.0^competitive_age=<24.0^bmi=21.78-22.2]\n",
            "[startlist_quality=<705.0^debut_year=<1982.0^is_tarmac=False^difficulty_score=1.5-1.71^career_duration(days)=3280.0-3689.0]\n",
            "[startlist_quality=<705.0^debut_year=1982.0-1989.0^points=<50.0]\n"
          ]
        }
      ],
      "source": [
        "# Visualizzazione strutturata\n",
        "for rule in best_model.ruleset_:\n",
        "    print(rule)\n"
      ]
    },
    {
      "cell_type": "markdown",
      "metadata": {
        "id": "9j20frJH2WF2"
      },
      "source": [
        "Again, with the new class weights, we evaluate the model using the `classification_report` function. The accuracy of the model is still 0.85, but the scores are the same as before. This suggests that the the model is to simple to capture the complexity of the data."
      ]
    }
  ],
  "metadata": {
    "kernelspec": {
      "display_name": "base",
      "language": "python",
      "name": "python3"
    },
    "language_info": {
      "codemirror_mode": {
        "name": "ipython",
        "version": 3
      },
      "file_extension": ".py",
      "mimetype": "text/x-python",
      "name": "python",
      "nbconvert_exporter": "python",
      "pygments_lexer": "ipython3",
      "version": "3.12.2"
    },
    "colab": {
      "provenance": []
    }
  },
  "nbformat": 4,
  "nbformat_minor": 0
}