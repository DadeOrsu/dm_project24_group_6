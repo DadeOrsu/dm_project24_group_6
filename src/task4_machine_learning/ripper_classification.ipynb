{
 "cells": [
  {
   "cell_type": "markdown",
   "metadata": {},
   "source": [
    "# Classification with RIPPER\n",
    "In this notebook we aim to build a classifier using RIPPER. RIPPER is one of the most popular rule based classifier."
   ]
  },
  {
   "cell_type": "code",
   "execution_count": 38,
   "metadata": {},
   "outputs": [],
   "source": [
    "import pandas as pd\n",
    "from os import path\n",
    "import numpy as np\n",
    "\n",
    "races_final_path = path.join('..','dataset', 'races_cleaned.csv')\n",
    "cyclists_final_path = path.join('..','dataset', 'cyclists_cleaned.csv')\n",
    "\n",
    "\n",
    "cyclists_data = pd.read_csv(cyclists_final_path)\n",
    "races_data = pd.read_csv(races_final_path)\n"
   ]
  },
  {
   "cell_type": "markdown",
   "metadata": {},
   "source": [
    "To begin, we create a target variable named `top_20` based on the column `position`."
   ]
  },
  {
   "cell_type": "code",
   "execution_count": null,
   "metadata": {},
   "outputs": [],
   "source": [
    "\n",
    "cyclists_data.rename(columns={'name': 'cyclist'}, inplace=True)\n",
    "\n",
    "\n",
    "merged_data = races_data.merge(cyclists_data, left_on='cyclist', right_on='_url', how='inner')\n",
    "\n",
    "merged_data['top_20'] = merged_data['position'].apply(lambda x: 1 if x <= 20 else 0)\n",
    "\n",
    "\n",
    "merged_data['date'] = pd.to_datetime(merged_data['date'])\n",
    "\n",
    "columns_to_keep = [\n",
    "    'points', 'length', 'climb_total', 'profile', 'startlist_quality', 'cyclist_age',\n",
    "    'is_tarmac', 'delta', 'top_20', 'weight', 'height'\n",
    "]\n",
    "\n",
    "\n",
    "train_set = merged_data[merged_data['date'] < '2022-01-01']\n",
    "test_set = merged_data[merged_data['date'] >= '2022-01-01']\n",
    "\n",
    "train_set = train_set[columns_to_keep]\n",
    "test_set = test_set[columns_to_keep]\n"
   ]
  },
  {
   "cell_type": "code",
   "execution_count": null,
   "metadata": {},
   "outputs": [],
   "source": [
    "#function to discretize the variables\n",
    "#input: the dataset and the list of variables' names to discretize\n",
    "def discretize_data(dataset, variables):\n",
    "    for variable in variables:\n",
    "        #get the unique variable's values\n",
    "        var = sorted(dataset[variable].unique())\n",
    "        \n",
    "        #generate a mapping from the variable's values to the number representation  \n",
    "        mapping = dict(zip(var, range(0, len(var) + 1)))\n",
    "\n",
    "        #add a new colum with the number representation of the variable\n",
    "        dataset[variable+'_num'] = dataset[variable].map(mapping).astype(int)\n",
    "    return dataset\n",
    "\n"
   ]
  },
  {
   "cell_type": "code",
   "execution_count": 41,
   "metadata": {},
   "outputs": [
    {
     "data": {
      "text/html": [
       "<div>\n",
       "<style scoped>\n",
       "    .dataframe tbody tr th:only-of-type {\n",
       "        vertical-align: middle;\n",
       "    }\n",
       "\n",
       "    .dataframe tbody tr th {\n",
       "        vertical-align: top;\n",
       "    }\n",
       "\n",
       "    .dataframe thead th {\n",
       "        text-align: right;\n",
       "    }\n",
       "</style>\n",
       "<table border=\"1\" class=\"dataframe\">\n",
       "  <thead>\n",
       "    <tr style=\"text-align: right;\">\n",
       "      <th></th>\n",
       "      <th>points_num</th>\n",
       "      <th>length_num</th>\n",
       "      <th>climb_total_num</th>\n",
       "      <th>profile_num</th>\n",
       "      <th>startlist_quality_num</th>\n",
       "      <th>cyclist_age_num</th>\n",
       "      <th>is_tarmac_num</th>\n",
       "      <th>delta_num</th>\n",
       "      <th>top_20_num</th>\n",
       "      <th>weight_num</th>\n",
       "      <th>height_num</th>\n",
       "    </tr>\n",
       "  </thead>\n",
       "  <tbody>\n",
       "    <tr>\n",
       "      <th>0</th>\n",
       "      <td>8</td>\n",
       "      <td>618</td>\n",
       "      <td>442</td>\n",
       "      <td>0</td>\n",
       "      <td>563</td>\n",
       "      <td>4</td>\n",
       "      <td>1</td>\n",
       "      <td>69</td>\n",
       "      <td>1</td>\n",
       "      <td>35</td>\n",
       "      <td>18</td>\n",
       "    </tr>\n",
       "    <tr>\n",
       "      <th>1</th>\n",
       "      <td>8</td>\n",
       "      <td>618</td>\n",
       "      <td>442</td>\n",
       "      <td>0</td>\n",
       "      <td>563</td>\n",
       "      <td>9</td>\n",
       "      <td>1</td>\n",
       "      <td>69</td>\n",
       "      <td>1</td>\n",
       "      <td>16</td>\n",
       "      <td>13</td>\n",
       "    </tr>\n",
       "    <tr>\n",
       "      <th>2</th>\n",
       "      <td>8</td>\n",
       "      <td>618</td>\n",
       "      <td>442</td>\n",
       "      <td>0</td>\n",
       "      <td>563</td>\n",
       "      <td>6</td>\n",
       "      <td>1</td>\n",
       "      <td>69</td>\n",
       "      <td>1</td>\n",
       "      <td>24</td>\n",
       "      <td>12</td>\n",
       "    </tr>\n",
       "    <tr>\n",
       "      <th>3</th>\n",
       "      <td>8</td>\n",
       "      <td>618</td>\n",
       "      <td>442</td>\n",
       "      <td>0</td>\n",
       "      <td>563</td>\n",
       "      <td>13</td>\n",
       "      <td>1</td>\n",
       "      <td>69</td>\n",
       "      <td>1</td>\n",
       "      <td>17</td>\n",
       "      <td>12</td>\n",
       "    </tr>\n",
       "    <tr>\n",
       "      <th>4</th>\n",
       "      <td>8</td>\n",
       "      <td>618</td>\n",
       "      <td>442</td>\n",
       "      <td>0</td>\n",
       "      <td>563</td>\n",
       "      <td>9</td>\n",
       "      <td>1</td>\n",
       "      <td>69</td>\n",
       "      <td>1</td>\n",
       "      <td>14</td>\n",
       "      <td>10</td>\n",
       "    </tr>\n",
       "  </tbody>\n",
       "</table>\n",
       "</div>"
      ],
      "text/plain": [
       "   points_num  length_num  climb_total_num  profile_num  \\\n",
       "0           8         618              442            0   \n",
       "1           8         618              442            0   \n",
       "2           8         618              442            0   \n",
       "3           8         618              442            0   \n",
       "4           8         618              442            0   \n",
       "\n",
       "   startlist_quality_num  cyclist_age_num  is_tarmac_num  delta_num  \\\n",
       "0                    563                4              1         69   \n",
       "1                    563                9              1         69   \n",
       "2                    563                6              1         69   \n",
       "3                    563               13              1         69   \n",
       "4                    563                9              1         69   \n",
       "\n",
       "   top_20_num  weight_num  height_num  \n",
       "0           1          35          18  \n",
       "1           1          16          13  \n",
       "2           1          24          12  \n",
       "3           1          17          12  \n",
       "4           1          14          10  "
      ]
     },
     "execution_count": 41,
     "metadata": {},
     "output_type": "execute_result"
    }
   ],
   "source": [
    "\n",
    "\n",
    "train_set = discretize_data(train_set, columns_to_keep)\n",
    "train_set.drop(columns=columns_to_keep, inplace=True)\n",
    "\n",
    "test_set = discretize_data(test_set, columns_to_keep)\n",
    "test_set.drop(columns=columns_to_keep, inplace=True)\n",
    "train_set.head()"
   ]
  },
  {
   "cell_type": "code",
   "execution_count": null,
   "metadata": {},
   "outputs": [
    {
     "name": "stdout",
     "output_type": "stream",
     "text": [
      "Fitting 3 folds for each of 4 candidates, totalling 12 fits\n"
     ]
    },
    {
     "data": {
      "text/plain": [
       "({'k': 2, 'max_rules': 10, 'prune_size': 0.33},\n",
       " 0.8470880641699147,\n",
       " '              precision    recall  f1-score   support\\n\\n           0       0.86      0.98      0.92     30219\\n           1       0.41      0.10      0.16      5187\\n\\n    accuracy                           0.85     35406\\n   macro avg       0.64      0.54      0.54     35406\\nweighted avg       0.80      0.85      0.81     35406\\n')"
      ]
     },
     "execution_count": 42,
     "metadata": {},
     "output_type": "execute_result"
    }
   ],
   "source": [
    "import wittgenstein as lw\n",
    "from sklearn.model_selection import train_test_split, GridSearchCV\n",
    "from sklearn.metrics import classification_report, accuracy_score\n",
    "\n",
    "\n",
    "X_train = train_set.drop(columns=['top_20_num'])\n",
    "y_train = train_set['top_20_num']\n",
    "\n",
    "\n",
    "X_test = test_set.drop(columns=['top_20_num'])\n",
    "y_test = test_set['top_20_num']\n",
    "\n",
    "\n",
    "model = lw.RIPPER()\n",
    "\n",
    "param_grid = {\n",
    "    'k': [1, 2],  \n",
    "    'max_rules': [10, 20], \n",
    "    'prune_size': [0.33]  \n",
    "}\n",
    "\n",
    "grid_search = GridSearchCV(\n",
    "    estimator=model,\n",
    "    param_grid=param_grid,\n",
    "    scoring='accuracy',\n",
    "    cv=3,  \n",
    "    verbose=1\n",
    ")\n",
    "\n",
    "grid_search.fit(X_train, y_train)\n",
    "best_model = grid_search.best_estimator_\n",
    "\n",
    "y_pred = best_model.predict(X_test)\n",
    "\n",
    "\n",
    "report = classification_report(y_test, y_pred)\n",
    "best_params = grid_search.best_params_\n",
    "accuracy = accuracy_score(y_test, y_pred)\n",
    "\n",
    "\n",
    "best_params, accuracy, report"
   ]
  },
  {
   "cell_type": "code",
   "execution_count": 44,
   "metadata": {},
   "outputs": [
    {
     "name": "stdout",
     "output_type": "stream",
     "text": [
      "              precision    recall  f1-score   support\n",
      "\n",
      "           0       0.86      0.98      0.92     30219\n",
      "           1       0.41      0.10      0.16      5187\n",
      "\n",
      "    accuracy                           0.85     35406\n",
      "   macro avg       0.64      0.54      0.54     35406\n",
      "weighted avg       0.80      0.85      0.81     35406\n",
      "\n"
     ]
    }
   ],
   "source": [
    "print(report)"
   ]
  },
  {
   "cell_type": "code",
   "execution_count": 45,
   "metadata": {},
   "outputs": [
    {
     "name": "stdout",
     "output_type": "stream",
     "text": [
      "{'k': 2, 'max_rules': 10, 'prune_size': 0.33}\n"
     ]
    }
   ],
   "source": [
    "print(best_params)"
   ]
  }
 ],
 "metadata": {
  "kernelspec": {
   "display_name": "base",
   "language": "python",
   "name": "python3"
  },
  "language_info": {
   "codemirror_mode": {
    "name": "ipython",
    "version": 3
   },
   "file_extension": ".py",
   "mimetype": "text/x-python",
   "name": "python",
   "nbconvert_exporter": "python",
   "pygments_lexer": "ipython3",
   "version": "3.12.2"
  }
 },
 "nbformat": 4,
 "nbformat_minor": 2
}
