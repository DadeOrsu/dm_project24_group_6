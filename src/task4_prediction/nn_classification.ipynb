{
 "cells": [
  {
   "cell_type": "markdown",
   "metadata": {},
   "source": [
    "# task no. 4\n",
    "\n",
    "This is the notebook taking care of the task no.4 : feature prediction.\n",
    "\n",
    "In our analysis we have decided very different models to see how they differ from eachother in term of performance and also their explainability to see if they make sense.\n",
    "\n",
    "For this notebook we decided to explore the nature of NeuralNetworks on the dataset.\n",
    "\n",
    "First a preparation is due to be used."
   ]
  },
  {
   "cell_type": "markdown",
   "metadata": {},
   "source": [
    "## dataset preparation\n",
    "\n"
   ]
  },
  {
   "cell_type": "code",
   "execution_count": 1,
   "metadata": {},
   "outputs": [],
   "source": [
    "import pandas as pd\n",
    "import os\n",
    "\n",
    "\n",
    "RACES_PATH=os.path.join(\"..\",\"dataset\",\"engineered_races.csv\")\n",
    "\n",
    "races_df=pd.read_csv(RACES_PATH)"
   ]
  },
  {
   "cell_type": "markdown",
   "metadata": {},
   "source": [
    "First we binarize the columns"
   ]
  },
  {
   "cell_type": "code",
   "execution_count": null,
   "metadata": {},
   "outputs": [
    {
     "data": {
      "text/plain": [
       "7317"
      ]
     },
     "execution_count": 2,
     "metadata": {},
     "output_type": "execute_result"
    },
    {
     "ename": "",
     "evalue": "",
     "output_type": "error",
     "traceback": [
      "\u001b[1;31mThe Kernel crashed while executing code in the current cell or a previous cell. \n",
      "\u001b[1;31mPlease review the code in the cell(s) to identify a possible cause of the failure. \n",
      "\u001b[1;31mClick <a href='https://aka.ms/vscodeJupyterKernelCrash'>here</a> for more info. \n",
      "\u001b[1;31mView Jupyter <a href='command:jupyter.viewOutput'>log</a> for further details."
     ]
    }
   ],
   "source": [
    "from sklearn.model_selection import train_test_split\n",
    "\n",
    "races_df['position']=(races_df['position']>20).astype(int)\n",
    "split_idx= pd.to_datetime(races_df['date']).dt.year <= 2022\n",
    "races_df['date']=pd.to_datetime(races_df['date']).astype('int64')\n",
    "\n",
    "one_hot=pd.get_dummies(races_df.select_dtypes(include=['bool','object']))\n",
    "numeric=races_df.select_dtypes(include=['number'])\n",
    "std_numeric= (numeric-numeric.mean())/(numeric.max()-numeric.min()).drop(columns='position')\n",
    "\n",
    "\n",
    "data_set=pd.concat([one_hot,std_numeric],axis=1)\n",
    "\n",
    "X_test_set=data_set.loc[~split_idx]\n",
    "\n",
    "X_dev_set=data_set[split_idx]\n",
    "Y_dev_set=data_set.loc[split_idx,'position']\n",
    "\n",
    "X_train_set,X_val_set,Y_train_set,Y_val_set=train_test_split(\n",
    "    X_dev_set,\n",
    "    Y_dev_set,\n",
    "    test_size=0.2,\n",
    "    stratify=Y_dev_set,\n",
    "    random_state=42\n",
    ")\n",
    "\n",
    "X_train_set.shape[1]"
   ]
  },
  {
   "cell_type": "markdown",
   "metadata": {},
   "source": [
    "first a stratification can only help the generization capabilities.\n",
    "\n",
    "Now we have to setup the task, for this kind of setting the binary cross entropy is the most appropriate given we just want to classify stuff and we are not doing any regression whatsoever.\n",
    "\n",
    "A first test using a simple NN might be usefull in this case to see the most basic algorithm."
   ]
  },
  {
   "cell_type": "code",
   "execution_count": null,
   "metadata": {},
   "outputs": [
    {
     "name": "stderr",
     "output_type": "stream",
     "text": [
      "2024-12-06 00:44:57.991965: I tensorflow/core/util/port.cc:153] oneDNN custom operations are on. You may see slightly different numerical results due to floating-point round-off errors from different computation orders. To turn them off, set the environment variable `TF_ENABLE_ONEDNN_OPTS=0`.\n",
      "2024-12-06 00:44:58.159597: E external/local_xla/xla/stream_executor/cuda/cuda_fft.cc:485] Unable to register cuFFT factory: Attempting to register factory for plugin cuFFT when one has already been registered\n",
      "2024-12-06 00:44:58.204666: E external/local_xla/xla/stream_executor/cuda/cuda_dnn.cc:8454] Unable to register cuDNN factory: Attempting to register factory for plugin cuDNN when one has already been registered\n",
      "2024-12-06 00:44:58.216370: E external/local_xla/xla/stream_executor/cuda/cuda_blas.cc:1452] Unable to register cuBLAS factory: Attempting to register factory for plugin cuBLAS when one has already been registered\n",
      "2024-12-06 00:44:58.308271: I tensorflow/core/platform/cpu_feature_guard.cc:210] This TensorFlow binary is optimized to use available CPU instructions in performance-critical operations.\n",
      "To enable the following instructions: SSE4.1 SSE4.2 AVX AVX2 AVX_VNNI FMA, in other operations, rebuild TensorFlow with the appropriate compiler flags.\n"
     ]
    }
   ],
   "source": [
    "import tensorflow as tf\n",
    "\n",
    "from keras import layers, models, initializers\n",
    "from keras.optimizers import Adam, SGD\n",
    "import itertools as it\n",
    "from keras.callbacks import EarlyStopping\n",
    "from keras.initializers import GlorotUniform, GlorotNormal,HeNormal,HeUniform\n",
    "initializer=initializers.HeNormal()\n",
    "\n",
    "\n",
    "def get_device_auto():\n",
    "    gpus_list=tf.config.list_physical_devices('GPU')\n",
    "    device = None\n",
    "    if len(gpus_list) != 0:\n",
    "        device=gpus_list[0]\n",
    "    else:\n",
    "        device=tf.config.list_physical_devices('CPU')[0]\n",
    "    return device\n",
    "\n",
    "def create_ff_nn(\n",
    "        optimizer=SGD(),\n",
    "        num_layers=2,\n",
    "        num_units=64,\n",
    "        input_dim=256,\n",
    "        hidden_activation='relu',\n",
    "        output_activation='sigmoid',\n",
    "        loss_function='binary_crossentropy',\n",
    "        metrics=['accuracy','f1-score','binary_crossentropy'],\n",
    "        learning_rate=0.001\n",
    "        ):\n",
    "    model=models.Sequential()\n",
    "\n",
    "    model.add(layers.Dense(num_units,input_dim=input_dim,activation=hidden_activation))\n",
    "    for _ in range(num_layers -1):\n",
    "        model.add(layers.Dense(\n",
    "            num_units,\n",
    "            activation=hidden_activation,\n",
    "            kernel_initializer=HeNormal()\n",
    "            ))\n",
    "    model.add(layers.Dense(\n",
    "        1,\n",
    "        activation=output_activation,\n",
    "        kernel_initializer=GlorotNormal()\n",
    "        ))\n",
    "    optimizer.learning_rate=learning_rate\n",
    "    model.compile(\n",
    "        optimizer=optimizer,\n",
    "        loss=loss_function,\n",
    "        metrics=metrics\n",
    "    )\n",
    "    return model\n",
    "\n",
    "def hyperparams_iterator(hyperparams):\n",
    "    return map(\n",
    "        lambda comb:  {k:v for k,v in zip(hyperparams.keys(),comb)},\n",
    "        it.product(*hyperparams.values())\n",
    "    )\n",
    "\n",
    "early_stopping=EarlyStopping(\n",
    "    monitor='val_loss',\n",
    "    patience=5,\n",
    "    verbose=1,\n",
    "    restore_best_weights=True\n",
    ")\n",
    "hyperparams={\n",
    "    'num_layers':[5,10,15,20],\n",
    "    'learning_rate':[0.001,0.0001],\n",
    "    'num_units':[1024,2048,4096]\n",
    "}\n",
    "\n",
    "device=get_device_auto()\n",
    "batch_size=1\n",
    "tf.random.set_seed(42)\n",
    "best_val=float('-inf')\n",
    "\n",
    "results=[]\n",
    "\n",
    "with tf.device(device.device_type):\n",
    "    for params in hyperparams_iterator(hyperparams):\n",
    "        model=create_ff_nn(**params,input_dim=X_train_set.shape[1])\n",
    "        model.fit(\n",
    "            X_train_set,Y_train_set,\n",
    "            batch_size=batch_size,\n",
    "            validation_data=(X_val_set,Y_val_set),\n",
    "            callbacks=[early_stopping]\n",
    "            )\n",
    "        new_row=params\n",
    "        \n",
    "        f1_score,accuracy,bin_cross_ent=model.evaluate(X_train_set,Y_train_set,batch_size=batch_size)\n",
    "        new_row|={\n",
    "            'f1_score_train':f1_score,\n",
    "            'accuracy_train':accuracy,\n",
    "            'bin_cross_ent_train':bin_cross_ent,\n",
    "            }\n",
    "        \n",
    "        \n",
    "        f1_score,accuracy,bin_cross_ent=model.evaluate(X_val_set,Y_val_set,batch_size=batch_size)\n",
    "        new_row|={\n",
    "            'f1_score_val':f1_score,\n",
    "            'accuracy_val':accuracy,\n",
    "            'bin_cross_ent_val':bin_cross_ent,\n",
    "            }\n",
    "        if bin_cross_ent < best_val:\n",
    "            best_val = bin_cross_ent\n",
    "            model.save('weights/best_ff_nn.h5')\n",
    "        print(new_row)\n",
    "        results.append(new_row)\n",
    "pd_results=pd.DataFrame(results)\n",
    "\n",
    "pd_results.sort_values(by='bin_cross_ent_val')\n"
   ]
  },
  {
   "cell_type": "code",
   "execution_count": null,
   "metadata": {},
   "outputs": [
    {
     "data": {
      "text/html": [
       "<pre style=\"white-space:pre;overflow-x:auto;line-height:normal;font-family:Menlo,'DejaVu Sans Mono',consolas,'Courier New',monospace\"><span style=\"font-weight: bold\">Model: \"sequential_5\"</span>\n",
       "</pre>\n"
      ],
      "text/plain": [
       "\u001b[1mModel: \"sequential_5\"\u001b[0m\n"
      ]
     },
     "metadata": {},
     "output_type": "display_data"
    },
    {
     "data": {
      "text/html": [
       "<pre style=\"white-space:pre;overflow-x:auto;line-height:normal;font-family:Menlo,'DejaVu Sans Mono',consolas,'Courier New',monospace\">┏━━━━━━━━━━━━━━━━━━━━━━━━━━━━━━━━━┳━━━━━━━━━━━━━━━━━━━━━━━━┳━━━━━━━━━━━━━━━┓\n",
       "┃<span style=\"font-weight: bold\"> Layer (type)                    </span>┃<span style=\"font-weight: bold\"> Output Shape           </span>┃<span style=\"font-weight: bold\">       Param # </span>┃\n",
       "┡━━━━━━━━━━━━━━━━━━━━━━━━━━━━━━━━━╇━━━━━━━━━━━━━━━━━━━━━━━━╇━━━━━━━━━━━━━━━┩\n",
       "│ dense_15 (<span style=\"color: #0087ff; text-decoration-color: #0087ff\">Dense</span>)                │ (<span style=\"color: #00d7ff; text-decoration-color: #00d7ff\">None</span>, <span style=\"color: #00af00; text-decoration-color: #00af00\">64</span>)             │         <span style=\"color: #00af00; text-decoration-color: #00af00\">4,160</span> │\n",
       "├─────────────────────────────────┼────────────────────────┼───────────────┤\n",
       "│ dense_16 (<span style=\"color: #0087ff; text-decoration-color: #0087ff\">Dense</span>)                │ (<span style=\"color: #00d7ff; text-decoration-color: #00d7ff\">None</span>, <span style=\"color: #00af00; text-decoration-color: #00af00\">32</span>)             │         <span style=\"color: #00af00; text-decoration-color: #00af00\">2,080</span> │\n",
       "├─────────────────────────────────┼────────────────────────┼───────────────┤\n",
       "│ dense_17 (<span style=\"color: #0087ff; text-decoration-color: #0087ff\">Dense</span>)                │ (<span style=\"color: #00d7ff; text-decoration-color: #00d7ff\">None</span>, <span style=\"color: #00af00; text-decoration-color: #00af00\">1</span>)              │            <span style=\"color: #00af00; text-decoration-color: #00af00\">33</span> │\n",
       "└─────────────────────────────────┴────────────────────────┴───────────────┘\n",
       "</pre>\n"
      ],
      "text/plain": [
       "┏━━━━━━━━━━━━━━━━━━━━━━━━━━━━━━━━━┳━━━━━━━━━━━━━━━━━━━━━━━━┳━━━━━━━━━━━━━━━┓\n",
       "┃\u001b[1m \u001b[0m\u001b[1mLayer (type)                   \u001b[0m\u001b[1m \u001b[0m┃\u001b[1m \u001b[0m\u001b[1mOutput Shape          \u001b[0m\u001b[1m \u001b[0m┃\u001b[1m \u001b[0m\u001b[1m      Param #\u001b[0m\u001b[1m \u001b[0m┃\n",
       "┡━━━━━━━━━━━━━━━━━━━━━━━━━━━━━━━━━╇━━━━━━━━━━━━━━━━━━━━━━━━╇━━━━━━━━━━━━━━━┩\n",
       "│ dense_15 (\u001b[38;5;33mDense\u001b[0m)                │ (\u001b[38;5;45mNone\u001b[0m, \u001b[38;5;34m64\u001b[0m)             │         \u001b[38;5;34m4,160\u001b[0m │\n",
       "├─────────────────────────────────┼────────────────────────┼───────────────┤\n",
       "│ dense_16 (\u001b[38;5;33mDense\u001b[0m)                │ (\u001b[38;5;45mNone\u001b[0m, \u001b[38;5;34m32\u001b[0m)             │         \u001b[38;5;34m2,080\u001b[0m │\n",
       "├─────────────────────────────────┼────────────────────────┼───────────────┤\n",
       "│ dense_17 (\u001b[38;5;33mDense\u001b[0m)                │ (\u001b[38;5;45mNone\u001b[0m, \u001b[38;5;34m1\u001b[0m)              │            \u001b[38;5;34m33\u001b[0m │\n",
       "└─────────────────────────────────┴────────────────────────┴───────────────┘\n"
      ]
     },
     "metadata": {},
     "output_type": "display_data"
    },
    {
     "data": {
      "text/html": [
       "<pre style=\"white-space:pre;overflow-x:auto;line-height:normal;font-family:Menlo,'DejaVu Sans Mono',consolas,'Courier New',monospace\"><span style=\"font-weight: bold\"> Total params: </span><span style=\"color: #00af00; text-decoration-color: #00af00\">6,273</span> (24.50 KB)\n",
       "</pre>\n"
      ],
      "text/plain": [
       "\u001b[1m Total params: \u001b[0m\u001b[38;5;34m6,273\u001b[0m (24.50 KB)\n"
      ]
     },
     "metadata": {},
     "output_type": "display_data"
    },
    {
     "data": {
      "text/html": [
       "<pre style=\"white-space:pre;overflow-x:auto;line-height:normal;font-family:Menlo,'DejaVu Sans Mono',consolas,'Courier New',monospace\"><span style=\"font-weight: bold\"> Trainable params: </span><span style=\"color: #00af00; text-decoration-color: #00af00\">6,273</span> (24.50 KB)\n",
       "</pre>\n"
      ],
      "text/plain": [
       "\u001b[1m Trainable params: \u001b[0m\u001b[38;5;34m6,273\u001b[0m (24.50 KB)\n"
      ]
     },
     "metadata": {},
     "output_type": "display_data"
    },
    {
     "data": {
      "text/html": [
       "<pre style=\"white-space:pre;overflow-x:auto;line-height:normal;font-family:Menlo,'DejaVu Sans Mono',consolas,'Courier New',monospace\"><span style=\"font-weight: bold\"> Non-trainable params: </span><span style=\"color: #00af00; text-decoration-color: #00af00\">0</span> (0.00 B)\n",
       "</pre>\n"
      ],
      "text/plain": [
       "\u001b[1m Non-trainable params: \u001b[0m\u001b[38;5;34m0\u001b[0m (0.00 B)\n"
      ]
     },
     "metadata": {},
     "output_type": "display_data"
    }
   ],
   "source": [
    "model.summary()"
   ]
  }
 ],
 "metadata": {
  "kernelspec": {
   "display_name": "dmproj",
   "language": "python",
   "name": "python3"
  },
  "language_info": {
   "codemirror_mode": {
    "name": "ipython",
    "version": 3
   },
   "file_extension": ".py",
   "mimetype": "text/x-python",
   "name": "python",
   "nbconvert_exporter": "python",
   "pygments_lexer": "ipython3",
   "version": "3.12.7"
  }
 },
 "nbformat": 4,
 "nbformat_minor": 2
}
