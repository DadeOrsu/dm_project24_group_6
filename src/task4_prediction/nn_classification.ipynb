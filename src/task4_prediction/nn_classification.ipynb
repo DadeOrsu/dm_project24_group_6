{
 "cells": [
  {
   "cell_type": "markdown",
   "metadata": {},
   "source": [
    "# task no. 4\n",
    "\n",
    "This is the notebook taking care of the task no.4 : feature prediction.\n",
    "\n",
    "In our analysis we have decided very different models to see how they differ from eachother in term of performance and also their explainability to see if they make sense.\n",
    "\n",
    "For this notebook we decided to explore the nature of NeuralNetworks on the dataset.\n",
    "\n",
    "First a preparation is due to be used."
   ]
  },
  {
   "cell_type": "markdown",
   "metadata": {},
   "source": [
    "## dataset preparation\n",
    "\n"
   ]
  },
  {
   "cell_type": "code",
   "execution_count": 1,
   "metadata": {},
   "outputs": [],
   "source": [
    "import pandas as pd\n",
    "import os\n",
    "\n",
    "\n",
    "RACES_PATH=os.path.join(\"..\",\"dataset\",\"engineered_races.csv\")\n",
    "\n",
    "races_df=pd.read_csv(RACES_PATH)"
   ]
  },
  {
   "cell_type": "markdown",
   "metadata": {},
   "source": [
    "First we binarize the columns"
   ]
  },
  {
   "cell_type": "code",
   "execution_count": 2,
   "metadata": {},
   "outputs": [],
   "source": [
    "from sklearn.model_selection import train_test_split\n",
    "\n",
    "races_df['position']=(races_df['position']>20).astype(int)\n",
    "split_idx= pd.to_datetime(races_df['date']).dt.year <= 2022\n",
    "races_df['date']=pd.to_datetime(races_df['date']).astype('int64')\n",
    "\n",
    "one_hot=pd.get_dummies(races_df.select_dtypes(include=['bool','object']))\n",
    "numeric=races_df.select_dtypes(include=['number'])\n",
    "std_numeric= (numeric-numeric.mean())/(numeric.max()-numeric.min()).drop(columns='position')\n",
    "\n",
    "\n",
    "data_set=pd.concat([one_hot,std_numeric],axis=1)\n",
    "\n",
    "X_test_set=data_set.loc[~split_idx]\n",
    "\n",
    "X_dev_set=data_set[split_idx]\n",
    "Y_dev_set=data_set.loc[split_idx,'position']\n",
    "\n",
    "X_train_set,X_val_set,Y_train_set,Y_val_set=train_test_split(\n",
    "    X_dev_set,\n",
    "    Y_dev_set,\n",
    "    test_size=0.2,\n",
    "    stratify=Y_dev_set,\n",
    "    random_state=42\n",
    ")"
   ]
  },
  {
   "cell_type": "markdown",
   "metadata": {},
   "source": [
    "first a stratification can only help the generization capabilities.\n",
    "\n",
    "Now we have to setup the task, for this kind of setting the binary cross entropy is the most appropriate given we just want to classify stuff and we are not doing any regression whatsoever.\n",
    "\n",
    "A first test using a simple NN might be usefull in this case to see the most basic algorithm."
   ]
  },
  {
   "cell_type": "code",
   "execution_count": null,
   "metadata": {},
   "outputs": [
    {
     "name": "stderr",
     "output_type": "stream",
     "text": [
      "2024-12-03 21:43:16.534684: I tensorflow/core/util/port.cc:153] oneDNN custom operations are on. You may see slightly different numerical results due to floating-point round-off errors from different computation orders. To turn them off, set the environment variable `TF_ENABLE_ONEDNN_OPTS=0`.\n",
      "2024-12-03 21:43:16.721668: E external/local_xla/xla/stream_executor/cuda/cuda_fft.cc:485] Unable to register cuFFT factory: Attempting to register factory for plugin cuFFT when one has already been registered\n",
      "2024-12-03 21:43:16.776425: E external/local_xla/xla/stream_executor/cuda/cuda_dnn.cc:8454] Unable to register cuDNN factory: Attempting to register factory for plugin cuDNN when one has already been registered\n",
      "2024-12-03 21:43:16.782152: E external/local_xla/xla/stream_executor/cuda/cuda_blas.cc:1452] Unable to register cuBLAS factory: Attempting to register factory for plugin cuBLAS when one has already been registered\n",
      "2024-12-03 21:43:16.876470: I tensorflow/core/platform/cpu_feature_guard.cc:210] This TensorFlow binary is optimized to use available CPU instructions in performance-critical operations.\n",
      "To enable the following instructions: SSE4.1 SSE4.2 AVX AVX2 AVX_VNNI FMA, in other operations, rebuild TensorFlow with the appropriate compiler flags.\n"
     ]
    },
    {
     "ename": "ModuleNotFoundError",
     "evalue": "No module named 'tensorflow.keras'",
     "output_type": "error",
     "traceback": [
      "\u001b[0;31m---------------------------------------------------------------------------\u001b[0m",
      "\u001b[0;31mModuleNotFoundError\u001b[0m                       Traceback (most recent call last)",
      "Cell \u001b[0;32mIn[3], line 2\u001b[0m\n\u001b[1;32m      1\u001b[0m \u001b[38;5;28;01mimport\u001b[39;00m \u001b[38;5;21;01mtensorflow\u001b[39;00m \u001b[38;5;28;01mas\u001b[39;00m \u001b[38;5;21;01mtf\u001b[39;00m\n\u001b[0;32m----> 2\u001b[0m \u001b[38;5;28;01mfrom\u001b[39;00m \u001b[38;5;21;01mtensorflow\u001b[39;00m\u001b[38;5;21;01m.\u001b[39;00m\u001b[38;5;21;01mkeras\u001b[39;00m \u001b[38;5;28;01mimport\u001b[39;00m layers, models, initializers\n\u001b[1;32m      4\u001b[0m initializer\u001b[38;5;241m=\u001b[39minitializers\u001b[38;5;241m.\u001b[39mHeNormal()\n\u001b[1;32m      6\u001b[0m input_size\u001b[38;5;241m=\u001b[39mtrain_set\u001b[38;5;241m.\u001b[39mshape[\u001b[38;5;241m1\u001b[39m]\n",
      "\u001b[0;31mModuleNotFoundError\u001b[0m: No module named 'tensorflow.keras'"
     ]
    }
   ],
   "source": [
    "import tensorflow as tf\n",
    "from tensorflow.keras import layers, models, initializers\n",
    "\n",
    "initializer=initializers.HeNormal()\n",
    "\n",
    "input_size=X_train_set.shape[1]\n",
    "\n",
    "output_size=1\n",
    "\n",
    "# Define the model\n",
    "model = models.Sequential([\n",
    "    layers.Dense(64, activation='relu', \n",
    "                 kernel_initializer=initializer,  # He initialization\n",
    "                 bias_initializer=initializer,       # Bias initialized to zeros\n",
    "                 input_shape=(input_size,)),                          # Input shape\n",
    "    layers.Dense(32, activation='relu',\n",
    "                 kernel_initializer=initializer),  # Xavier initialization\n",
    "    layers.Dense(output_size, activation='sigmoid')\n",
    "])\n",
    "\n",
    "# Compile the model\n",
    "model.compile(\n",
    "    optimizer='adam', \n",
    "    loss='binary_crossentropy', \n",
    "    metrics=['accuracy','f1-score']\n",
    ")\n",
    "\n",
    "n_epochs=1024\n",
    "\n",
    "model.fit(\n",
    "    X_train_set,Y_train_set,\n",
    "    epochs=100\n",
    "    )"
   ]
  }
 ],
 "metadata": {
  "kernelspec": {
   "display_name": "dmproj",
   "language": "python",
   "name": "python3"
  },
  "language_info": {
   "codemirror_mode": {
    "name": "ipython",
    "version": 3
   },
   "file_extension": ".py",
   "mimetype": "text/x-python",
   "name": "python",
   "nbconvert_exporter": "python",
   "pygments_lexer": "ipython3",
   "version": "3.12.7"
  }
 },
 "nbformat": 4,
 "nbformat_minor": 2
}
