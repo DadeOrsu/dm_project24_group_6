{
 "cells": [
  {
   "cell_type": "markdown",
   "metadata": {},
   "source": [
    "# HIERACHICAL CLUSTERING"
   ]
  },
  {
   "cell_type": "markdown",
   "metadata": {},
   "source": [
    "Alla base di questo clusetring troviamo la seguente logica:\n",
    "Una matrice delle distanze tra i punti (le righe del dataset), questa utilizza una distanza prefissata, comunemente quella euclidea. L'obbiettivo è quello di ottenere un clustering totale tra tutti i punti, tenendo traccia della sequenza delle unioni fatte durante l'algorimo. Ad ogni step vengono difatti creati i cluster con i punti più vicini, poi questi cluster vengono uniti ad altri e così via.\n",
    "La differenza tra le tipologie di hierarchical clustering risiede nella logica con cui uniamo due cluster, quindi nella distanza che prendiamo in considerazione per scegliere i cluster più vicini da unire nello step."
   ]
  },
  {
   "cell_type": "code",
   "execution_count": null,
   "metadata": {},
   "outputs": [],
   "source": [
    "import pandas as pd\n",
    "from sklearn.preprocessing import StandardScaler\n",
    "\n",
    "# Esempio di dataset\n",
    "data = {\n",
    "    'height': [180, 175, 160, 170, 165],\n",
    "    'weight': [80, 70, 55, 65, 60],\n",
    "    'bmi': [24.7, 22.9, 21.5, 22.5, 22.0]\n",
    "}\n",
    "df = pd.DataFrame(data)\n",
    "\n",
    "# Standardizza le feature\n",
    "scaler = StandardScaler()\n",
    "X = scaler.fit_transform(df)"
   ]
  }
 ],
 "metadata": {
  "kernelspec": {
   "display_name": "dmproj",
   "language": "python",
   "name": "python3"
  },
  "language_info": {
   "name": "python",
   "version": "3.12.7"
  }
 },
 "nbformat": 4,
 "nbformat_minor": 2
}
