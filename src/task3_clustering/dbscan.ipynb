{
 "cells": [
  {
   "cell_type": "markdown",
   "metadata": {},
   "source": [
    "# DBSCAN\n",
    "This notebook uses DBSCAN as a clustering density based approach.\n",
    "\n"
   ]
  },
  {
   "cell_type": "code",
   "execution_count": null,
   "metadata": {},
   "outputs": [],
   "source": [
    "from sklearn.cluster import DBSCAN\n",
    "from os import path\n",
    "import pandas as pd\n",
    "from sklearn.preprocessing import StandardScaler\n",
    "\n",
    "std_scaler=StandardScaler()\n",
    "\n",
    "RACES_PATH=path.join(\"..\",\"dataset\",\"engineered_races.csv\")\n",
    "#CYCLIST_PATH=path.join(\"..\",\"dataset\",\"engineered_cyclists.csv\")\n",
    "\n",
    "races_df=pd.read_csv(RACES_PATH)\n",
    "\n",
    "data=races_df.copy()\n",
    "\n",
    "num_cols=races_df.select_dtypes(include=['number']).columns\n",
    "\n",
    "data[list(map(lambda x:f\"std_{x}\",num_cols))]=std_scaler.fit_transform(data[num_cols])\n",
    "\n",
    "cat_cols=races_df.select_dtypes(include=['object','bool']).columns\n",
    "\n",
    "print(cat_cols)\n",
    "\n",
    "data_cat_enc=pd.get_dummies(data[cat_cols])\n",
    "\n",
    "data[map(lambda x:f\"enc_{x}\",data_cat_enc.columns)]=data_cat_enc\n",
    "\n",
    "data"
   ]
  },
  {
   "cell_type": "markdown",
   "metadata": {},
   "source": [
    "A few notes are due before starting, first the eps are difficulty to setup for now a good strategy would be to take inspiration using the first paper the introduced the algorithm, which you can find [here](https://dl.acm.org/doi/10.5555/3001460.3001507), and use the distance from the k-th NN varying K until we find a good eps value for us.\n",
    "\n"
   ]
  },
  {
   "cell_type": "code",
   "execution_count": null,
   "metadata": {},
   "outputs": [],
   "source": [
    "from scipy.spatial.distance import silhoutte_score\n",
    "import itertools as it"
   ]
  },
  {
   "cell_type": "code",
   "execution_count": null,
   "metadata": {},
   "outputs": [],
   "source": [
    "#use diferent scales for eps values\n",
    "eps_values=average_concentration * np.array([10, 5, 2.5, 1, 0.1, 0.01, 0.0001])\n",
    "metric=['euclidean','cosine','l1']\n",
    "#NOTE: this might have to be revisited for it's just to try if evveryting works\n",
    "\n",
    "dimension=data.shape[0]\n",
    "min_pts=dimension*2\n",
    "#using the method seen at laboratory to select initial values\n",
    "maximum_distance = abs(data.max() - data.min()).sum().item()\n",
    "average_concentration = dimension / maximum_distance\n",
    "\n",
    "# useful for reference\n",
    "db_scan_mapping={\n",
    "    -1:'noisy',\n",
    "    0:'border',\n",
    "    1:'core'\n",
    "\n",
    "}\n",
    "\n",
    "results=pd.DataFrame()\n",
    "\n",
    "for idx,(eps,metric) in enumerate(it.product(eps_values,metric)):\n",
    "    db_scan=DBSCAN(\n",
    "        eps=eps,\n",
    "        min_samples=min_pts,\n",
    "        metric=metric,\n",
    "    ).fit(data)\n",
    "    #NOTE: the noisy labels are NOT take into account \n",
    "    point_labels=list(map(lambda x:db_scan_mapping[x],db_scan.labels_))\n",
    "    results=pd.concat([\n",
    "        results,\n",
    "        {\n",
    "            'index':idx,\n",
    "            'eps':eps,\n",
    "            'metric':metric,\n",
    "            'min_samples':min_pts,\n",
    "            'silhoutte_score':silhoutte_score(data,db_scan.labels_)\n",
    "        }\n",
    "    ])\n",
    "\n",
    "\n",
    "results.sort_values(by='silhoutte_score')"
   ]
  },
  {
   "cell_type": "code",
   "execution_count": null,
   "metadata": {},
   "outputs": [],
   "source": [
    "best_idx=results['silhoutte_score'].argmax()\n",
    "best_params=results.iloc[best_idx]\n",
    "best_eps=best_params['eps']\n",
    "best_metric=best_params['metric']\n",
    "\n",
    "best_dbscan=DBSCAN(eps=best_eps,metric=best_metric,min_samples=min_pts)\n"
   ]
  }
 ],
 "metadata": {
  "kernelspec": {
   "display_name": "dmproj",
   "language": "python",
   "name": "python3"
  },
  "language_info": {
   "codemirror_mode": {
    "name": "ipython",
    "version": 3
   },
   "file_extension": ".py",
   "mimetype": "text/x-python",
   "name": "python",
   "nbconvert_exporter": "python",
   "pygments_lexer": "ipython3",
   "version": "3.12.7"
  }
 },
 "nbformat": 4,
 "nbformat_minor": 2
}
