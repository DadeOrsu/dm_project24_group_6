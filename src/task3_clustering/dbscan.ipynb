{
 "cells": [
  {
   "cell_type": "markdown",
   "metadata": {},
   "source": [
    "# DBSCAN\n",
    "This notebook uses DBSCAN as a clustering density based approach.\n",
    "\n"
   ]
  },
  {
   "cell_type": "code",
   "execution_count": null,
   "metadata": {},
   "outputs": [
    {
     "data": {
      "text/plain": [
       "Index(['points', 'length', 'climb_total', 'profile', 'startlist_quality',\n",
       "       'position', 'cyclist_age', 'delta', 'climbing_efficiency',\n",
       "       'competitive_age', 'difficulty', 'convenience_score',\n",
       "       'difficulty_score', 'performance_index', 'gain_ratio'],\n",
       "      dtype='object')"
      ]
     },
     "execution_count": 4,
     "metadata": {},
     "output_type": "execute_result"
    }
   ],
   "source": [
    "from sklearn.cluster import DBSCAN\n",
    "from os import path\n",
    "import pandas as pd\n",
    "from sklearn.preprocessing import StandardScaler\n",
    "\n",
    "std_scaler=StandardScaler()\n",
    "\n",
    "RACES_PATH=path.join(\"..\",\"dataset\",\"engineered_races.csv\")\n",
    "#CYCLIST_PATH=path.join(\"..\",\"dataset\",\"engineered_cyclists.csv\")\n",
    "\n",
    "races_df=pd.read_csv(RACES_PATH)\n",
    "\n",
    "data=races_df.copy()\n",
    "\n",
    "num_cols=races_df.select_dtypes(include=['number']).columns\n",
    "\n",
    "data[num_cols]=std_scaler.fit_transform(data[num_cols])\n",
    "\n",
    "hyper_params={\n",
    "    'eps':[4],\n",
    "    'distance_metric':['cosine','l1','l2'],\n",
    "    'cluster_min_size':[len(data.columns)*2]\n",
    "}\n",
    "\n",
    "dbscan=DBSCAN()\n",
    "\n"
   ]
  },
  {
   "cell_type": "markdown",
   "metadata": {},
   "source": [
    "- preprocess categorical values\n",
    "- apply elbow method\n",
    "- find good eps\n",
    "- try dimensionality reduction and visualization algorithms e.g."
   ]
  }
 ],
 "metadata": {
  "kernelspec": {
   "display_name": "dmproj",
   "language": "python",
   "name": "python3"
  },
  "language_info": {
   "codemirror_mode": {
    "name": "ipython",
    "version": 3
   },
   "file_extension": ".py",
   "mimetype": "text/x-python",
   "name": "python",
   "nbconvert_exporter": "python",
   "pygments_lexer": "ipython3",
   "version": "3.12.7"
  }
 },
 "nbformat": 4,
 "nbformat_minor": 2
}
